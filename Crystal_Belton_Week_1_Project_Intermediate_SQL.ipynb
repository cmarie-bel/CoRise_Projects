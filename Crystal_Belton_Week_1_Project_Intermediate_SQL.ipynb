{
  "nbformat": 4,
  "nbformat_minor": 0,
  "metadata": {
    "colab": {
      "provenance": [],
      "collapsed_sections": [
        "Pg-a7-xULZ7m"
      ],
      "include_colab_link": true
    },
    "kernelspec": {
      "name": "python3",
      "display_name": "Python 3"
    },
    "language_info": {
      "name": "python"
    }
  },
  "cells": [
    {
      "cell_type": "markdown",
      "metadata": {
        "id": "view-in-github",
        "colab_type": "text"
      },
      "source": [
        "<a href=\"https://colab.research.google.com/github/cmarie-bel/CoRise_Projects/blob/main/Crystal_Belton_Week_1_Project_Intermediate_SQL.ipynb\" target=\"_parent\"><img src=\"https://colab.research.google.com/assets/colab-badge.svg\" alt=\"Open In Colab\"/></a>"
      ]
    },
    {
      "cell_type": "markdown",
      "source": [
        "> 1. DUPLICATE THIS COLAB TO START WORKING ON IT. Using File > Save a copy to drive.\n",
        "> 2. SHARE SETTINGS: In the new notebook, click \"Share\" in the top right corner and set the sharing settings to \"Anyone with the link\" (\"Commenter\" role).\n",
        "\n",
        "\n",
        "\n",
        "\n",
        "Welcome to this first week's project for *Intermediate SQL*!\n",
        "\n",
        "This week's lecture and material on CoRise showed you how to write complex SQL queries from a single table. For this project we further your understanding of these concepts by delving a bit deeper. However, for everything covered in this project you can find related examples in our course material.\n"
      ],
      "metadata": {
        "id": "yVrZZ06OG2LW"
      }
    },
    {
      "cell_type": "markdown",
      "source": [
        "##### Prerequisite configuration\n",
        "Below we install the software required to run this project. Please make sure to **RUN IT** by clicking on the play-button icon and to feel free to ignore the content of these two hidden cells.\n",
        "\n",
        "**IMPORTANT:** These cells may have to be rerun every time you are away from the notebook a long time or access notebook on a different browser or a different laptop. If you see an error that says\n",
        "\"NameError: name 'run' is not defined\" you need to run these two hidden cells again."
      ],
      "metadata": {
        "id": "Pg-a7-xULZ7m"
      }
    },
    {
      "cell_type": "code",
      "execution_count": null,
      "metadata": {
        "id": "gUx2DQloGAzk"
      },
      "outputs": [],
      "source": [
        "%%capture\n",
        "!pip install git+https://github.com/corise-edu/course-intermediate-sql.git"
      ]
    },
    {
      "cell_type": "code",
      "source": [
        "import pandas as pd\n",
        "from IPython.display import display, HTML\n",
        "from sql_course import run as sql_run\n",
        "from sql_course import check\n",
        "\n",
        "# Show all the rows (instead of only a few)\n",
        "pd.set_option(\"display.max_rows\", None)\n",
        "\n",
        "# Set precision to max 2 decimals\n",
        "pd.set_option('precision', 2)\n",
        "\n",
        "# Set CSS Style for Table\n",
        "# Make it work with night & light mode\n",
        "# - Alternating rows\n",
        "# - th elements\n",
        "# - td elements\n",
        "css_style = '''\n",
        "<style>\n",
        "  html {\n",
        "    --td-font-color: black;\n",
        "    --font-color: black;\n",
        "    --background-color: #e0e0e0;\n",
        "  }\n",
        "  html[theme=dark] {\n",
        "    --td-font-color: white;\n",
        "    --font-color: black;\n",
        "    --background-color: #6688ff;\n",
        "  }\n",
        "  th {\n",
        "    background: #fbd44c;\n",
        "    color: var(--font-color);\n",
        "    font-size: 16px;\n",
        "    text-align: center;\n",
        "    font-weight: bold;\n",
        "  }\n",
        "  tr:nth-child(even) {\n",
        "    background-color: var(--background-color);\n",
        "    color: var(--font-color);\n",
        "  }\n",
        "  td {\n",
        "    font-size: 14px;\n",
        "    color: var(--td-font-color);\n",
        "  }\n",
        "</style>\n",
        "'''\n",
        "\n",
        "\n",
        "def run(sql_query):\n",
        "  df = sql_run(sql_query)\n",
        "\n",
        "  # Puts the scrollbar next to the DataFrame\n",
        "  display(HTML(css_style +\n",
        "               \"<div style='max-height: 500px; overflow: auto; width: fit-content; border-style: solid;\" +\n",
        "               \" border-width: 1px; border-color: #0139fe; font-family: GT Planar,Inter,Arial,sans-serif;'>\" +\n",
        "               df.style.render() +\n",
        "               \"</div>\"))\n"
      ],
      "metadata": {
        "id": "n-vdL9gWT2rm"
      },
      "execution_count": null,
      "outputs": []
    },
    {
      "cell_type": "markdown",
      "source": [
        "# **The Setting:**\n",
        "\n",
        "Congratulations! You got yourself a new shiny job as the analyst at CoRise.\n",
        "\n",
        "Here is what you need to know about the CoRise business to be able to complete this project. As you know, CoRise conducts plenty of courses such as *Intermediate SQL* and runs them several times in a year typically. CoRise wants to run these courses across several categories (such as Machine Learning, Data Engineering) and at different levels (Beginner vs Advanced). Each course is typically run for a few weeks (ranging from a 1- or 2-week crash course all the way to an extended 10-week course). Each course is facilitated by a small number of teaching assistants who help with conducting coding parties as well as help answering questions on the, project etc. Finally and most importantly, each course has a nps (net promoter score) rating which is based on what percentage of the class thinks very highly of the course and would recommend it without reservations. Since the nps is a percentage it varies from 0 to 100.\n",
        "\n",
        "\n",
        "\n"
      ],
      "metadata": {
        "id": "399KLP3Un1yc"
      }
    },
    {
      "cell_type": "markdown",
      "source": [
        "# **Schema:**\n",
        "\n",
        "The schema of the table you will be analyzing contains the following columns. It captures the business details we want to include based on the above description.\n",
        "\n",
        "course_id (primary key)\n",
        "\n",
        "course_name (name of the course, e.g. Intermediate SQL)\n",
        "\n",
        "course_level (basic or advanced to indicate the level of the course)\n",
        "\n",
        "course_category (e.g., Machine Learning)\n",
        "\n",
        "course_description (a paragraph about the course)\n",
        "\n",
        "start_date (if a course is run multiple times, there will be one row in this table for each time it is run)\n",
        "\n",
        "num_weeks (number of weeks this course is run)\n",
        "\n",
        "num_learners_registered (number of learners for this run of the course)\n",
        "\n",
        "num_TAs (number of teaching assistants)\n",
        "\n",
        "nps (net promoter score)\n",
        "\n",
        "\n",
        "\n"
      ],
      "metadata": {
        "id": "3DJlXcRBpAQd"
      }
    },
    {
      "cell_type": "markdown",
      "source": [
        "# **Create Table Statement:**\n",
        "\n",
        "The table you will be working on was created with the following create statement (you do not have to create this table and it is already pre-loaded):\n",
        "\n",
        "\n",
        "\n",
        "```\n",
        "create table courses (\n",
        "course_id integer,\n",
        "course_name text,\n",
        "course_desc text,\n",
        "course_category text,\n",
        "course_level text,\n",
        "start_date date,\n",
        "num_weeks integer,\n",
        "num_learners_registered integer,\n",
        "num_TAs integer,\n",
        "nps integer\n",
        ");\n",
        "```\n",
        "\n"
      ],
      "metadata": {
        "id": "RyvAEOv4BPbd"
      }
    },
    {
      "cell_type": "markdown",
      "source": [
        "# **Disclaimer**\n",
        "\n",
        "Any resemblance of the data in this table to anything real (other than the names and descriptions of courses) are entirely random (could have been my pseudo random generator or my own imagination, since it isn't easy to distinguish between the two :-), so do not stress yourself out trying to make sense of any categorization, such as why a course run might even overlap with another run and such other niceties)."
      ],
      "metadata": {
        "id": "pXsklbFABCaa"
      }
    },
    {
      "cell_type": "markdown",
      "source": [
        "# **Part 0 - Running and Testing Queries - An Example**\n",
        "\n",
        "To access the data contained in the courses table, you need to write SQL between three quotation marks, like:\n",
        "\n",
        "```\n",
        "query = \"\"\"\n",
        "SELECT * FROM courses\n",
        "\"\"\"\n",
        "run(query)\n",
        "check(q1_1_1 = query)\n",
        "```\n",
        "\n",
        "Then that SQL is pulled through a `run()`-command and a `check()`-command so that you can see the output of the SQL query, and whether you wrote the expected query. This you can see after the output. If you've done it correctly, you'll see **\"Your SQL query is correct!\"**."
      ],
      "metadata": {
        "id": "MwYIuZ3qCZit"
      }
    },
    {
      "cell_type": "code",
      "source": [
        "### Question: q_0_1\n",
        "### This is just a test query\n",
        "### to demonstrate how you will be submitting your SQL queries.\n",
        "### It also allows you to browse the data bit.\n",
        "query = \"\"\"\n",
        "         select *\n",
        "         from courses\n",
        "         limit 10\n",
        "         \"\"\"\n",
        "\n",
        "run(query)\n",
        "check(q_0_1 = query)"
      ],
      "metadata": {
        "id": "xExzd5juPgXK",
        "colab": {
          "base_uri": "https://localhost:8080/",
          "height": 554
        },
        "outputId": "aeaae312-c87b-47d1-9901-4cf953e8583e"
      },
      "execution_count": null,
      "outputs": [
        {
          "output_type": "display_data",
          "data": {
            "text/plain": [
              "<IPython.core.display.HTML object>"
            ],
            "text/html": [
              "\n",
              "<style>\n",
              "  html {\n",
              "    --td-font-color: black;\n",
              "    --font-color: black;\n",
              "    --background-color: #e0e0e0;\n",
              "  }\n",
              "  html[theme=dark] {\n",
              "    --td-font-color: white;\n",
              "    --font-color: black;\n",
              "    --background-color: #6688ff;\n",
              "  }\n",
              "  th {\n",
              "    background: #fbd44c;\n",
              "    color: var(--font-color);\n",
              "    font-size: 16px;\n",
              "    text-align: center;\n",
              "    font-weight: bold;\n",
              "  }\n",
              "  tr:nth-child(even) {\n",
              "    background-color: var(--background-color);\n",
              "    color: var(--font-color);\n",
              "  }\n",
              "  td {\n",
              "    font-size: 14px;\n",
              "    color: var(--td-font-color);\n",
              "  }\n",
              "</style>\n",
              "<div style='max-height: 500px; overflow: auto; width: fit-content; border-style: solid; border-width: 1px; border-color: #0139fe; font-family: GT Planar,Inter,Arial,sans-serif;'><style type=\"text/css\">\n",
              "</style>\n",
              "<table id=\"T_bee97_\">\n",
              "  <thead>\n",
              "    <tr>\n",
              "      <th class=\"blank level0\" >&nbsp;</th>\n",
              "      <th class=\"col_heading level0 col0\" >course_id</th>\n",
              "      <th class=\"col_heading level0 col1\" >course_name</th>\n",
              "      <th class=\"col_heading level0 col2\" >course_desc</th>\n",
              "      <th class=\"col_heading level0 col3\" >course_category</th>\n",
              "      <th class=\"col_heading level0 col4\" >course_level</th>\n",
              "      <th class=\"col_heading level0 col5\" >start_date</th>\n",
              "      <th class=\"col_heading level0 col6\" >num_weeks</th>\n",
              "      <th class=\"col_heading level0 col7\" >num_learners_registered</th>\n",
              "      <th class=\"col_heading level0 col8\" >num_TAs</th>\n",
              "      <th class=\"col_heading level0 col9\" >nps</th>\n",
              "    </tr>\n",
              "  </thead>\n",
              "  <tbody>\n",
              "    <tr>\n",
              "      <th id=\"T_bee97_level0_row0\" class=\"row_heading level0 row0\" >0</th>\n",
              "      <td id=\"T_bee97_row0_col0\" class=\"data row0 col0\" >1</td>\n",
              "      <td id=\"T_bee97_row0_col1\" class=\"data row0 col1\" >Data Centric Deep Learning</td>\n",
              "      <td id=\"T_bee97_row0_col2\" class=\"data row0 col2\" >A trope we often hear is that data is at the heart of deep learning. But how exactly do you manage;improve;and repair deep learning models with data? This course teaches students applied techniques to measure and improve data quality;deep learning infrastructure to do continuous testing and deployment;iterative annotation pipelines;and techniques to respond to distribution shift and adversarial examples. Projects will be grounded in practical challenges spanning computer vision and natural language processing.</td>\n",
              "      <td id=\"T_bee97_row0_col3\" class=\"data row0 col3\" >Deep Learning</td>\n",
              "      <td id=\"T_bee97_row0_col4\" class=\"data row0 col4\" >A</td>\n",
              "      <td id=\"T_bee97_row0_col5\" class=\"data row0 col5\" >2016-11-21 07:26:00</td>\n",
              "      <td id=\"T_bee97_row0_col6\" class=\"data row0 col6\" >5</td>\n",
              "      <td id=\"T_bee97_row0_col7\" class=\"data row0 col7\" >72.00</td>\n",
              "      <td id=\"T_bee97_row0_col8\" class=\"data row0 col8\" >1</td>\n",
              "      <td id=\"T_bee97_row0_col9\" class=\"data row0 col9\" >83</td>\n",
              "    </tr>\n",
              "    <tr>\n",
              "      <th id=\"T_bee97_level0_row1\" class=\"row_heading level0 row1\" >1</th>\n",
              "      <td id=\"T_bee97_row1_col0\" class=\"data row1 col0\" >2</td>\n",
              "      <td id=\"T_bee97_row1_col1\" class=\"data row1 col1\" >People Analytics Jumpstart</td>\n",
              "      <td id=\"T_bee97_row1_col2\" class=\"data row1 col2\" >Become a Qualified People Analytics Pro in 4 Weeks You will learn the techniques and tools you need to win roles in People Analytics;define the function for your organization;and stand out as a top analyst and HR specialist. This course focuses on the real-world day-to-day practice of analytics in modern;millennial-heavy workplaces.</td>\n",
              "      <td id=\"T_bee97_row1_col3\" class=\"data row1 col3\" >Data Science</td>\n",
              "      <td id=\"T_bee97_row1_col4\" class=\"data row1 col4\" >B</td>\n",
              "      <td id=\"T_bee97_row1_col5\" class=\"data row1 col5\" >2021-12-04 05:32:00</td>\n",
              "      <td id=\"T_bee97_row1_col6\" class=\"data row1 col6\" >2</td>\n",
              "      <td id=\"T_bee97_row1_col7\" class=\"data row1 col7\" >161.00</td>\n",
              "      <td id=\"T_bee97_row1_col8\" class=\"data row1 col8\" >2</td>\n",
              "      <td id=\"T_bee97_row1_col9\" class=\"data row1 col9\" >60</td>\n",
              "    </tr>\n",
              "    <tr>\n",
              "      <th id=\"T_bee97_level0_row2\" class=\"row_heading level0 row2\" >2</th>\n",
              "      <td id=\"T_bee97_row2_col0\" class=\"data row2 col0\" >3</td>\n",
              "      <td id=\"T_bee97_row2_col1\" class=\"data row2 col1\" >MLOps: From Models to Production</td>\n",
              "      <td id=\"T_bee97_row2_col2\" class=\"data row2 col2\" >Acquire the skills to build effective real-world ML systems (bootstrapping datasets;improving label quality;experimentation;model evaluation;deployment and observability) with hands-on projects. This course will help you bridge the gap between state-of-the-art ML modeling;and building real-world ML systems.</td>\n",
              "      <td id=\"T_bee97_row2_col3\" class=\"data row2 col3\" >Machine Learning</td>\n",
              "      <td id=\"T_bee97_row2_col4\" class=\"data row2 col4\" >B</td>\n",
              "      <td id=\"T_bee97_row2_col5\" class=\"data row2 col5\" >2017-11-10 20:03:00</td>\n",
              "      <td id=\"T_bee97_row2_col6\" class=\"data row2 col6\" >1</td>\n",
              "      <td id=\"T_bee97_row2_col7\" class=\"data row2 col7\" >153.00</td>\n",
              "      <td id=\"T_bee97_row2_col8\" class=\"data row2 col8\" >2</td>\n",
              "      <td id=\"T_bee97_row2_col9\" class=\"data row2 col9\" >80</td>\n",
              "    </tr>\n",
              "    <tr>\n",
              "      <th id=\"T_bee97_level0_row3\" class=\"row_heading level0 row3\" >3</th>\n",
              "      <td id=\"T_bee97_row3_col0\" class=\"data row3 col0\" >4</td>\n",
              "      <td id=\"T_bee97_row3_col1\" class=\"data row3 col1\" >Building Computer Vision Applications</td>\n",
              "      <td id=\"T_bee97_row3_col2\" class=\"data row3 col2\" >This course provides an introduction to machine learning for computer vision with a focus on practical applications relevant to industry teams. In this course;we will “reverse-engineer” a number of applications;such as traffic flow analysis;digital medicine;optical character recognition;and video analytics.</td>\n",
              "      <td id=\"T_bee97_row3_col3\" class=\"data row3 col3\" >Machine Learning</td>\n",
              "      <td id=\"T_bee97_row3_col4\" class=\"data row3 col4\" >B</td>\n",
              "      <td id=\"T_bee97_row3_col5\" class=\"data row3 col5\" >2017-10-06 03:04:00</td>\n",
              "      <td id=\"T_bee97_row3_col6\" class=\"data row3 col6\" >5</td>\n",
              "      <td id=\"T_bee97_row3_col7\" class=\"data row3 col7\" >11.00</td>\n",
              "      <td id=\"T_bee97_row3_col8\" class=\"data row3 col8\" >1</td>\n",
              "      <td id=\"T_bee97_row3_col9\" class=\"data row3 col9\" >65</td>\n",
              "    </tr>\n",
              "    <tr>\n",
              "      <th id=\"T_bee97_level0_row4\" class=\"row_heading level0 row4\" >4</th>\n",
              "      <td id=\"T_bee97_row4_col0\" class=\"data row4 col0\" >5</td>\n",
              "      <td id=\"T_bee97_row4_col1\" class=\"data row4 col1\" >FREE Weekend Buildathon: NLP</td>\n",
              "      <td id=\"T_bee97_row4_col2\" class=\"data row4 col2\" >DIY weekend project - FREE 48hr workshop to build a NLP project from scratch as the perfect way to learn a core NLP building block - word embeddings.</td>\n",
              "      <td id=\"T_bee97_row4_col3\" class=\"data row4 col3\" >Language Processing</td>\n",
              "      <td id=\"T_bee97_row4_col4\" class=\"data row4 col4\" >B</td>\n",
              "      <td id=\"T_bee97_row4_col5\" class=\"data row4 col5\" >2018-03-22 22:34:00</td>\n",
              "      <td id=\"T_bee97_row4_col6\" class=\"data row4 col6\" >4</td>\n",
              "      <td id=\"T_bee97_row4_col7\" class=\"data row4 col7\" >96.00</td>\n",
              "      <td id=\"T_bee97_row4_col8\" class=\"data row4 col8\" >1</td>\n",
              "      <td id=\"T_bee97_row4_col9\" class=\"data row4 col9\" >62</td>\n",
              "    </tr>\n",
              "    <tr>\n",
              "      <th id=\"T_bee97_level0_row5\" class=\"row_heading level0 row5\" >5</th>\n",
              "      <td id=\"T_bee97_row5_col0\" class=\"data row5 col0\" >6</td>\n",
              "      <td id=\"T_bee97_row5_col1\" class=\"data row5 col1\" >Fundamentals of Data Modeling</td>\n",
              "      <td id=\"T_bee97_row5_col2\" class=\"data row5 col2\" >This course provides an introduction to the fundamentals of data modeling for modern data warehouses. We use the Kimball dimensional model to guide us;but that does not mean this class is all theory! We have designed this course so you will learn the theory behind data modeling (normalization / denormalization;star schemas;fact and dimension tables) and you will build actual models using real world data. We will use plain SQL so you can do modeling whether you only have access to SQL or you are using a tool like dbt. By the end of this course;you will have a deep understanding of dimensional modeling;and you will have built one from scratch.</td>\n",
              "      <td id=\"T_bee97_row5_col3\" class=\"data row5 col3\" >Data Engineering</td>\n",
              "      <td id=\"T_bee97_row5_col4\" class=\"data row5 col4\" >B</td>\n",
              "      <td id=\"T_bee97_row5_col5\" class=\"data row5 col5\" >2022-10-12 09:04:00</td>\n",
              "      <td id=\"T_bee97_row5_col6\" class=\"data row5 col6\" >5</td>\n",
              "      <td id=\"T_bee97_row5_col7\" class=\"data row5 col7\" >21.00</td>\n",
              "      <td id=\"T_bee97_row5_col8\" class=\"data row5 col8\" >1</td>\n",
              "      <td id=\"T_bee97_row5_col9\" class=\"data row5 col9\" >77</td>\n",
              "    </tr>\n",
              "    <tr>\n",
              "      <th id=\"T_bee97_level0_row6\" class=\"row_heading level0 row6\" >6</th>\n",
              "      <td id=\"T_bee97_row6_col0\" class=\"data row6 col0\" >7</td>\n",
              "      <td id=\"T_bee97_row6_col1\" class=\"data row6 col1\" >Data Science for Security and Risk</td>\n",
              "      <td id=\"T_bee97_row6_col2\" class=\"data row6 col2\" >Head of Data at Mati will teach a course on using Data Science to improve Security and Risk </td>\n",
              "      <td id=\"T_bee97_row6_col3\" class=\"data row6 col3\" >Data Science</td>\n",
              "      <td id=\"T_bee97_row6_col4\" class=\"data row6 col4\" >B</td>\n",
              "      <td id=\"T_bee97_row6_col5\" class=\"data row6 col5\" >2016-08-18 06:06:00</td>\n",
              "      <td id=\"T_bee97_row6_col6\" class=\"data row6 col6\" >5</td>\n",
              "      <td id=\"T_bee97_row6_col7\" class=\"data row6 col7\" >170.00</td>\n",
              "      <td id=\"T_bee97_row6_col8\" class=\"data row6 col8\" >3</td>\n",
              "      <td id=\"T_bee97_row6_col9\" class=\"data row6 col9\" >77</td>\n",
              "    </tr>\n",
              "    <tr>\n",
              "      <th id=\"T_bee97_level0_row7\" class=\"row_heading level0 row7\" >7</th>\n",
              "      <td id=\"T_bee97_row7_col0\" class=\"data row7 col0\" >8</td>\n",
              "      <td id=\"T_bee97_row7_col1\" class=\"data row7 col1\" >Web3 Applications & Filecoin/IPFS</td>\n",
              "      <td id=\"T_bee97_row7_col2\" class=\"data row7 col2\" >This course provides an introduction to building simple DApps on a blockchain with storage on Filecoin/IPFS.  You will finish the course with a mastery of the infrastructure tools used to build Web3 apps;knowledge of how to build a Web3 app that is accessible through the Web2 internet; and will understand how decentralized storage can be used to host files a Web3 app utilizes. We will start with the fundamentals of decentralized storage and then move on to programming for useful applications</td>\n",
              "      <td id=\"T_bee97_row7_col3\" class=\"data row7 col3\" >Data Engineering</td>\n",
              "      <td id=\"T_bee97_row7_col4\" class=\"data row7 col4\" >A</td>\n",
              "      <td id=\"T_bee97_row7_col5\" class=\"data row7 col5\" >2017-07-15 20:49:00</td>\n",
              "      <td id=\"T_bee97_row7_col6\" class=\"data row7 col6\" >2</td>\n",
              "      <td id=\"T_bee97_row7_col7\" class=\"data row7 col7\" >nan</td>\n",
              "      <td id=\"T_bee97_row7_col8\" class=\"data row7 col8\" >1</td>\n",
              "      <td id=\"T_bee97_row7_col9\" class=\"data row7 col9\" >84</td>\n",
              "    </tr>\n",
              "    <tr>\n",
              "      <th id=\"T_bee97_level0_row8\" class=\"row_heading level0 row8\" >8</th>\n",
              "      <td id=\"T_bee97_row8_col0\" class=\"data row8 col0\" >9</td>\n",
              "      <td id=\"T_bee97_row8_col1\" class=\"data row8 col1\" >How to Implement ML Papers</td>\n",
              "      <td id=\"T_bee97_row8_col2\" class=\"data row8 col2\" >Learn how to implement the proposed algorithms;models;and techniques from ML papers each week;while learning tips and tricks on debugging the implementation efforts and how to reproduce results in your own applications.</td>\n",
              "      <td id=\"T_bee97_row8_col3\" class=\"data row8 col3\" >Machine Learning</td>\n",
              "      <td id=\"T_bee97_row8_col4\" class=\"data row8 col4\" >A</td>\n",
              "      <td id=\"T_bee97_row8_col5\" class=\"data row8 col5\" >2022-11-04 05:42:00</td>\n",
              "      <td id=\"T_bee97_row8_col6\" class=\"data row8 col6\" >2</td>\n",
              "      <td id=\"T_bee97_row8_col7\" class=\"data row8 col7\" >107.00</td>\n",
              "      <td id=\"T_bee97_row8_col8\" class=\"data row8 col8\" >2</td>\n",
              "      <td id=\"T_bee97_row8_col9\" class=\"data row8 col9\" >70</td>\n",
              "    </tr>\n",
              "    <tr>\n",
              "      <th id=\"T_bee97_level0_row9\" class=\"row_heading level0 row9\" >9</th>\n",
              "      <td id=\"T_bee97_row9_col0\" class=\"data row9 col0\" >10</td>\n",
              "      <td id=\"T_bee97_row9_col1\" class=\"data row9 col1\" >Advanced SQL</td>\n",
              "      <td id=\"T_bee97_row9_col2\" class=\"data row9 col2\" >Over these four weeks;you will learn the advanced SQL kills necessary to dive into real datasets with confidence. We will clean up messy and nested data;learn about EAV schemas and pivots;and dive deep into advanced window functions. We will also cover performance;advanced joins;and other complex SQL patterns to optimize queries.</td>\n",
              "      <td id=\"T_bee97_row9_col3\" class=\"data row9 col3\" >Data Engineering</td>\n",
              "      <td id=\"T_bee97_row9_col4\" class=\"data row9 col4\" >A</td>\n",
              "      <td id=\"T_bee97_row9_col5\" class=\"data row9 col5\" >2018-12-17 16:03:00</td>\n",
              "      <td id=\"T_bee97_row9_col6\" class=\"data row9 col6\" >4</td>\n",
              "      <td id=\"T_bee97_row9_col7\" class=\"data row9 col7\" >181.00</td>\n",
              "      <td id=\"T_bee97_row9_col8\" class=\"data row9 col8\" >2</td>\n",
              "      <td id=\"T_bee97_row9_col9\" class=\"data row9 col9\" >89</td>\n",
              "    </tr>\n",
              "  </tbody>\n",
              "</table>\n",
              "</div>"
            ]
          },
          "metadata": {}
        },
        {
          "output_type": "stream",
          "name": "stdout",
          "text": [
            "-------------------\n",
            "Your SQL query is correct!\n"
          ]
        }
      ]
    },
    {
      "cell_type": "markdown",
      "source": [
        "# **Part 1 - Basics of the Business**\n",
        "\n",
        "Let's now fast-forward several years into your career at CoRise. It is the year 2024. The `courses` table has courses that have run up until now (in 2024).\n",
        "\n",
        " Your database has been humming along nicely, and CoRise has just hired a new head of content creation. They are very curious about the historical data and want to understand the basics of CoRise business and want some basic information from the courses table. Your task is to help them answer these questions they have:\n",
        "\n",
        "\n",
        "\n",
        "\n",
        "\n",
        "\n"
      ],
      "metadata": {
        "id": "OvXBiaIunzyQ"
      }
    },
    {
      "cell_type": "code",
      "source": [
        "### Question: q_1_1\n",
        "### How many courses have we run so far?\n",
        "### (This is the number of rows in the table\n",
        "### as all courses in the table have been run as you are in 2024).\n",
        "### Output columns: cnt\n",
        "query = \"\"\"\n",
        "\n",
        "SELECT COUNT(*) AS cnt\n",
        "FROM courses\n",
        "WHERE strftime(\"%Y\", start_date) < '2024'\n",
        "\n",
        "         \"\"\"\n",
        "\n",
        "run(query)\n",
        "check(q_1_1 = query)"
      ],
      "metadata": {
        "id": "PjWyNsxVKSXY",
        "colab": {
          "base_uri": "https://localhost:8080/",
          "height": 103
        },
        "outputId": "13b640ba-34c6-4065-c93a-a6891e4b87e7"
      },
      "execution_count": null,
      "outputs": [
        {
          "output_type": "display_data",
          "data": {
            "text/plain": [
              "<IPython.core.display.HTML object>"
            ],
            "text/html": [
              "\n",
              "<style>\n",
              "  html {\n",
              "    --td-font-color: black;\n",
              "    --font-color: black;\n",
              "    --background-color: #e0e0e0;\n",
              "  }\n",
              "  html[theme=dark] {\n",
              "    --td-font-color: white;\n",
              "    --font-color: black;\n",
              "    --background-color: #6688ff;\n",
              "  }\n",
              "  th {\n",
              "    background: #fbd44c;\n",
              "    color: var(--font-color);\n",
              "    font-size: 16px;\n",
              "    text-align: center;\n",
              "    font-weight: bold;\n",
              "  }\n",
              "  tr:nth-child(even) {\n",
              "    background-color: var(--background-color);\n",
              "    color: var(--font-color);\n",
              "  }\n",
              "  td {\n",
              "    font-size: 14px;\n",
              "    color: var(--td-font-color);\n",
              "  }\n",
              "</style>\n",
              "<div style='max-height: 500px; overflow: auto; width: fit-content; border-style: solid; border-width: 1px; border-color: #0139fe; font-family: GT Planar,Inter,Arial,sans-serif;'><style type=\"text/css\">\n",
              "</style>\n",
              "<table id=\"T_17680_\">\n",
              "  <thead>\n",
              "    <tr>\n",
              "      <th class=\"blank level0\" >&nbsp;</th>\n",
              "      <th class=\"col_heading level0 col0\" >cnt</th>\n",
              "    </tr>\n",
              "  </thead>\n",
              "  <tbody>\n",
              "    <tr>\n",
              "      <th id=\"T_17680_level0_row0\" class=\"row_heading level0 row0\" >0</th>\n",
              "      <td id=\"T_17680_row0_col0\" class=\"data row0 col0\" >999</td>\n",
              "    </tr>\n",
              "  </tbody>\n",
              "</table>\n",
              "</div>"
            ]
          },
          "metadata": {}
        },
        {
          "output_type": "stream",
          "name": "stdout",
          "text": [
            "-------------------\n",
            "Your SQL query is correct!\n"
          ]
        }
      ]
    },
    {
      "cell_type": "code",
      "source": [
        "### Question: q_1_2\n",
        "### Getting into some more details, they would like to know:\n",
        "### What are the distinct categories of courses that we run?\n",
        "### This is to understand the spectrum of courses we cover.\n",
        "### Output columns: course_category\n",
        "query = \"\"\"\n",
        "\n",
        "SELECT distinct course_category\n",
        "FROM courses\n",
        "\n",
        "         \"\"\"\n",
        "\n",
        "run(query)\n",
        "check(q_1_2 = query)"
      ],
      "metadata": {
        "id": "QRmZXquNKx6v",
        "outputId": "d5dcda5c-8842-48c5-8350-e69846604fb9",
        "colab": {
          "base_uri": "https://localhost:8080/",
          "height": 245
        }
      },
      "execution_count": null,
      "outputs": [
        {
          "output_type": "display_data",
          "data": {
            "text/plain": [
              "<IPython.core.display.HTML object>"
            ],
            "text/html": [
              "\n",
              "<style>\n",
              "  html {\n",
              "    --td-font-color: black;\n",
              "    --font-color: black;\n",
              "    --background-color: #e0e0e0;\n",
              "  }\n",
              "  html[theme=dark] {\n",
              "    --td-font-color: white;\n",
              "    --font-color: black;\n",
              "    --background-color: #6688ff;\n",
              "  }\n",
              "  th {\n",
              "    background: #fbd44c;\n",
              "    color: var(--font-color);\n",
              "    font-size: 16px;\n",
              "    text-align: center;\n",
              "    font-weight: bold;\n",
              "  }\n",
              "  tr:nth-child(even) {\n",
              "    background-color: var(--background-color);\n",
              "    color: var(--font-color);\n",
              "  }\n",
              "  td {\n",
              "    font-size: 14px;\n",
              "    color: var(--td-font-color);\n",
              "  }\n",
              "</style>\n",
              "<div style='max-height: 500px; overflow: auto; width: fit-content; border-style: solid; border-width: 1px; border-color: #0139fe; font-family: GT Planar,Inter,Arial,sans-serif;'><style type=\"text/css\">\n",
              "</style>\n",
              "<table id=\"T_67423_\">\n",
              "  <thead>\n",
              "    <tr>\n",
              "      <th class=\"blank level0\" >&nbsp;</th>\n",
              "      <th class=\"col_heading level0 col0\" >course_category</th>\n",
              "    </tr>\n",
              "  </thead>\n",
              "  <tbody>\n",
              "    <tr>\n",
              "      <th id=\"T_67423_level0_row0\" class=\"row_heading level0 row0\" >0</th>\n",
              "      <td id=\"T_67423_row0_col0\" class=\"data row0 col0\" >Deep Learning</td>\n",
              "    </tr>\n",
              "    <tr>\n",
              "      <th id=\"T_67423_level0_row1\" class=\"row_heading level0 row1\" >1</th>\n",
              "      <td id=\"T_67423_row1_col0\" class=\"data row1 col0\" >Data Science</td>\n",
              "    </tr>\n",
              "    <tr>\n",
              "      <th id=\"T_67423_level0_row2\" class=\"row_heading level0 row2\" >2</th>\n",
              "      <td id=\"T_67423_row2_col0\" class=\"data row2 col0\" >Machine Learning</td>\n",
              "    </tr>\n",
              "    <tr>\n",
              "      <th id=\"T_67423_level0_row3\" class=\"row_heading level0 row3\" >3</th>\n",
              "      <td id=\"T_67423_row3_col0\" class=\"data row3 col0\" >Language Processing</td>\n",
              "    </tr>\n",
              "    <tr>\n",
              "      <th id=\"T_67423_level0_row4\" class=\"row_heading level0 row4\" >4</th>\n",
              "      <td id=\"T_67423_row4_col0\" class=\"data row4 col0\" >Data Engineering</td>\n",
              "    </tr>\n",
              "    <tr>\n",
              "      <th id=\"T_67423_level0_row5\" class=\"row_heading level0 row5\" >5</th>\n",
              "      <td id=\"T_67423_row5_col0\" class=\"data row5 col0\" >Search</td>\n",
              "    </tr>\n",
              "    <tr>\n",
              "      <th id=\"T_67423_level0_row6\" class=\"row_heading level0 row6\" >6</th>\n",
              "      <td id=\"T_67423_row6_col0\" class=\"data row6 col0\" >Python</td>\n",
              "    </tr>\n",
              "  </tbody>\n",
              "</table>\n",
              "</div>"
            ]
          },
          "metadata": {}
        },
        {
          "output_type": "stream",
          "name": "stdout",
          "text": [
            "-------------------\n",
            "Your SQL query is correct!\n"
          ]
        }
      ]
    },
    {
      "cell_type": "markdown",
      "source": [
        "# **Part 2 - Digging into Machine Learning courses:**\n",
        "\n",
        "They have heard from their boss that Machine Learning is a very important category for the CoRise business, and it would be very good to keep expanding the scope of the courses in this broad area. But before that we should understand reality today. So, their logical next question:\n",
        "\n",
        "\n"
      ],
      "metadata": {
        "id": "0gQEqxGCKN6d"
      }
    },
    {
      "cell_type": "code",
      "source": [
        "### Question: q_2_1\n",
        "### For the course category 'Machine Learning' how many courses have we run so far?\n",
        "### Output columns: cnt\n",
        "query = \"\"\"\n",
        "\n",
        "SELECT\n",
        "  COUNT(course_category) AS cnt\n",
        "FROM\n",
        "  courses\n",
        "WHERE\n",
        "  course_category IN ('Machine Learning')\n",
        "\n",
        "         \"\"\"\n",
        "\n",
        "run(query)\n",
        "check(q_2_1 = query)\n",
        "\n"
      ],
      "metadata": {
        "id": "Oazg336EL7zH",
        "colab": {
          "base_uri": "https://localhost:8080/",
          "height": 103
        },
        "outputId": "1cf85169-1b78-475f-9c9e-6e7a9b0939c7"
      },
      "execution_count": null,
      "outputs": [
        {
          "output_type": "display_data",
          "data": {
            "text/plain": [
              "<IPython.core.display.HTML object>"
            ],
            "text/html": [
              "\n",
              "<style>\n",
              "  html {\n",
              "    --td-font-color: black;\n",
              "    --font-color: black;\n",
              "    --background-color: #e0e0e0;\n",
              "  }\n",
              "  html[theme=dark] {\n",
              "    --td-font-color: white;\n",
              "    --font-color: black;\n",
              "    --background-color: #6688ff;\n",
              "  }\n",
              "  th {\n",
              "    background: #fbd44c;\n",
              "    color: var(--font-color);\n",
              "    font-size: 16px;\n",
              "    text-align: center;\n",
              "    font-weight: bold;\n",
              "  }\n",
              "  tr:nth-child(even) {\n",
              "    background-color: var(--background-color);\n",
              "    color: var(--font-color);\n",
              "  }\n",
              "  td {\n",
              "    font-size: 14px;\n",
              "    color: var(--td-font-color);\n",
              "  }\n",
              "</style>\n",
              "<div style='max-height: 500px; overflow: auto; width: fit-content; border-style: solid; border-width: 1px; border-color: #0139fe; font-family: GT Planar,Inter,Arial,sans-serif;'><style type=\"text/css\">\n",
              "</style>\n",
              "<table id=\"T_a7e07_\">\n",
              "  <thead>\n",
              "    <tr>\n",
              "      <th class=\"blank level0\" >&nbsp;</th>\n",
              "      <th class=\"col_heading level0 col0\" >cnt</th>\n",
              "    </tr>\n",
              "  </thead>\n",
              "  <tbody>\n",
              "    <tr>\n",
              "      <th id=\"T_a7e07_level0_row0\" class=\"row_heading level0 row0\" >0</th>\n",
              "      <td id=\"T_a7e07_row0_col0\" class=\"data row0 col0\" >310</td>\n",
              "    </tr>\n",
              "  </tbody>\n",
              "</table>\n",
              "</div>"
            ]
          },
          "metadata": {}
        },
        {
          "output_type": "stream",
          "name": "stdout",
          "text": [
            "-------------------\n",
            "Your SQL query is correct!\n"
          ]
        }
      ]
    },
    {
      "cell_type": "markdown",
      "source": [
        "It's useful information to be able to see that we have run 310 courses so far. To dig deeper, you decide to look at how many courses we have run for each year to get an idea of that distribution."
      ],
      "metadata": {
        "id": "UHsB9YxhDI4x"
      }
    },
    {
      "cell_type": "code",
      "source": [
        "### Question: q_2_2\n",
        "### For the course category 'Machine Learning,'\n",
        "### how many courses have we run so far for each calendar year?\n",
        "### Hint: for each calendar year suggests you need to us group by.\n",
        "### Hint: Please look at below link for extracting year from date\n",
        "### https://corise.com/course/intermediate-sql/v2/module/datetime-ops-77pax\n",
        "### Output columns: year, count_by_year\n",
        "\n",
        "query = \"\"\"\n",
        "\n",
        "SELECT\n",
        "  strftime('%Y', start_date) AS year,\n",
        "  COUNT(*) AS count_by_year\n",
        "FROM courses\n",
        "WHERE\n",
        "  course_category = 'Machine Learning'\n",
        "GROUP BY\n",
        "  strftime('%Y', start_date)\n",
        "\n",
        "         \"\"\"\n",
        "\n",
        "run(query)\n",
        "check(q_2_2 = query)"
      ],
      "metadata": {
        "id": "olO-nbyADdDw",
        "colab": {
          "base_uri": "https://localhost:8080/",
          "height": 269
        },
        "outputId": "7b6c6c81-e8bf-4ef1-ff62-aec7ae5fb487"
      },
      "execution_count": null,
      "outputs": [
        {
          "output_type": "display_data",
          "data": {
            "text/plain": [
              "<IPython.core.display.HTML object>"
            ],
            "text/html": [
              "\n",
              "<style>\n",
              "  html {\n",
              "    --td-font-color: black;\n",
              "    --font-color: black;\n",
              "    --background-color: #e0e0e0;\n",
              "  }\n",
              "  html[theme=dark] {\n",
              "    --td-font-color: white;\n",
              "    --font-color: black;\n",
              "    --background-color: #6688ff;\n",
              "  }\n",
              "  th {\n",
              "    background: #fbd44c;\n",
              "    color: var(--font-color);\n",
              "    font-size: 16px;\n",
              "    text-align: center;\n",
              "    font-weight: bold;\n",
              "  }\n",
              "  tr:nth-child(even) {\n",
              "    background-color: var(--background-color);\n",
              "    color: var(--font-color);\n",
              "  }\n",
              "  td {\n",
              "    font-size: 14px;\n",
              "    color: var(--td-font-color);\n",
              "  }\n",
              "</style>\n",
              "<div style='max-height: 500px; overflow: auto; width: fit-content; border-style: solid; border-width: 1px; border-color: #0139fe; font-family: GT Planar,Inter,Arial,sans-serif;'><style type=\"text/css\">\n",
              "</style>\n",
              "<table id=\"T_1b07b_\">\n",
              "  <thead>\n",
              "    <tr>\n",
              "      <th class=\"blank level0\" >&nbsp;</th>\n",
              "      <th class=\"col_heading level0 col0\" >year</th>\n",
              "      <th class=\"col_heading level0 col1\" >count_by_year</th>\n",
              "    </tr>\n",
              "  </thead>\n",
              "  <tbody>\n",
              "    <tr>\n",
              "      <th id=\"T_1b07b_level0_row0\" class=\"row_heading level0 row0\" >0</th>\n",
              "      <td id=\"T_1b07b_row0_col0\" class=\"data row0 col0\" >2016</td>\n",
              "      <td id=\"T_1b07b_row0_col1\" class=\"data row0 col1\" >35</td>\n",
              "    </tr>\n",
              "    <tr>\n",
              "      <th id=\"T_1b07b_level0_row1\" class=\"row_heading level0 row1\" >1</th>\n",
              "      <td id=\"T_1b07b_row1_col0\" class=\"data row1 col0\" >2017</td>\n",
              "      <td id=\"T_1b07b_row1_col1\" class=\"data row1 col1\" >45</td>\n",
              "    </tr>\n",
              "    <tr>\n",
              "      <th id=\"T_1b07b_level0_row2\" class=\"row_heading level0 row2\" >2</th>\n",
              "      <td id=\"T_1b07b_row2_col0\" class=\"data row2 col0\" >2018</td>\n",
              "      <td id=\"T_1b07b_row2_col1\" class=\"data row2 col1\" >37</td>\n",
              "    </tr>\n",
              "    <tr>\n",
              "      <th id=\"T_1b07b_level0_row3\" class=\"row_heading level0 row3\" >3</th>\n",
              "      <td id=\"T_1b07b_row3_col0\" class=\"data row3 col0\" >2019</td>\n",
              "      <td id=\"T_1b07b_row3_col1\" class=\"data row3 col1\" >39</td>\n",
              "    </tr>\n",
              "    <tr>\n",
              "      <th id=\"T_1b07b_level0_row4\" class=\"row_heading level0 row4\" >4</th>\n",
              "      <td id=\"T_1b07b_row4_col0\" class=\"data row4 col0\" >2020</td>\n",
              "      <td id=\"T_1b07b_row4_col1\" class=\"data row4 col1\" >51</td>\n",
              "    </tr>\n",
              "    <tr>\n",
              "      <th id=\"T_1b07b_level0_row5\" class=\"row_heading level0 row5\" >5</th>\n",
              "      <td id=\"T_1b07b_row5_col0\" class=\"data row5 col0\" >2021</td>\n",
              "      <td id=\"T_1b07b_row5_col1\" class=\"data row5 col1\" >38</td>\n",
              "    </tr>\n",
              "    <tr>\n",
              "      <th id=\"T_1b07b_level0_row6\" class=\"row_heading level0 row6\" >6</th>\n",
              "      <td id=\"T_1b07b_row6_col0\" class=\"data row6 col0\" >2022</td>\n",
              "      <td id=\"T_1b07b_row6_col1\" class=\"data row6 col1\" >33</td>\n",
              "    </tr>\n",
              "    <tr>\n",
              "      <th id=\"T_1b07b_level0_row7\" class=\"row_heading level0 row7\" >7</th>\n",
              "      <td id=\"T_1b07b_row7_col0\" class=\"data row7 col0\" >2023</td>\n",
              "      <td id=\"T_1b07b_row7_col1\" class=\"data row7 col1\" >32</td>\n",
              "    </tr>\n",
              "  </tbody>\n",
              "</table>\n",
              "</div>"
            ]
          },
          "metadata": {}
        },
        {
          "output_type": "stream",
          "name": "stdout",
          "text": [
            "-------------------\n",
            "Your SQL query is correct!\n"
          ]
        }
      ]
    },
    {
      "cell_type": "markdown",
      "source": [
        "Hmm...  Anecdotally you seem to recollect that we are running 60+ courses a year that can be termed 'Machine Learning.' The general talk around the water cooler is that we seem to have 5 ML courses a month. We would need to be running quite a few more courses to get to 60 per year. One thing that comes to your notice is that there are perhaps courses that are not filed under the 'Machine Learning' category but could still be considered 'Machine Learning.' You decide to look for some words in the name and description to potentially infer other courses that you could consider 'Machine Learning.'"
      ],
      "metadata": {
        "id": "FrUR3V_8D7gQ"
      }
    },
    {
      "cell_type": "code",
      "source": [
        "### Question: q_2_3\n",
        "### Retrieve distinct combinations of name, category and descriptions of courses\n",
        "### that contain one of the words  'ml' or 'learning' or 'models'\n",
        "### We want the match to be case-insensitive.\n",
        "### Note that in general this need not be the same set of courses\n",
        "### as ones that belong to the category 'Machine Learning.'\n",
        "### Hint: The below link has string manipulation functions you may need such\n",
        "### as Like, Upper, Lower etc.\n",
        "### https://corise.com/course/intermediate-sql/v2/module/string-ops-5hapd\n",
        "### Output columns: course_name, course_category, course_desc\n",
        "\n",
        "query = \"\"\"\n",
        "\n",
        " SELECT\n",
        "    distinct course_name, course_category, course_desc\n",
        " FROM courses\n",
        " WHERE\n",
        "    (lower(course_name || course_category || course_desc) LIKE '%ml%')\n",
        "    OR (lower(course_name || course_category || course_desc) LIKE '%learning%')\n",
        "    OR (lower(course_name || course_category || course_desc) LIKE '%models%')\n",
        "\n",
        "\n",
        "         \"\"\"\n",
        "\n",
        "run(query)\n",
        "check(q_2_3 = query)"
      ],
      "metadata": {
        "id": "LMwc_6ahP133",
        "colab": {
          "base_uri": "https://localhost:8080/",
          "height": 554
        },
        "outputId": "a5503f43-8683-41f2-9fbf-3635574e4185"
      },
      "execution_count": null,
      "outputs": [
        {
          "output_type": "display_data",
          "data": {
            "text/plain": [
              "<IPython.core.display.HTML object>"
            ],
            "text/html": [
              "\n",
              "<style>\n",
              "  html {\n",
              "    --td-font-color: black;\n",
              "    --font-color: black;\n",
              "    --background-color: #e0e0e0;\n",
              "  }\n",
              "  html[theme=dark] {\n",
              "    --td-font-color: white;\n",
              "    --font-color: black;\n",
              "    --background-color: #6688ff;\n",
              "  }\n",
              "  th {\n",
              "    background: #fbd44c;\n",
              "    color: var(--font-color);\n",
              "    font-size: 16px;\n",
              "    text-align: center;\n",
              "    font-weight: bold;\n",
              "  }\n",
              "  tr:nth-child(even) {\n",
              "    background-color: var(--background-color);\n",
              "    color: var(--font-color);\n",
              "  }\n",
              "  td {\n",
              "    font-size: 14px;\n",
              "    color: var(--td-font-color);\n",
              "  }\n",
              "</style>\n",
              "<div style='max-height: 500px; overflow: auto; width: fit-content; border-style: solid; border-width: 1px; border-color: #0139fe; font-family: GT Planar,Inter,Arial,sans-serif;'><style type=\"text/css\">\n",
              "</style>\n",
              "<table id=\"T_09091_\">\n",
              "  <thead>\n",
              "    <tr>\n",
              "      <th class=\"blank level0\" >&nbsp;</th>\n",
              "      <th class=\"col_heading level0 col0\" >course_name</th>\n",
              "      <th class=\"col_heading level0 col1\" >course_category</th>\n",
              "      <th class=\"col_heading level0 col2\" >course_desc</th>\n",
              "    </tr>\n",
              "  </thead>\n",
              "  <tbody>\n",
              "    <tr>\n",
              "      <th id=\"T_09091_level0_row0\" class=\"row_heading level0 row0\" >0</th>\n",
              "      <td id=\"T_09091_row0_col0\" class=\"data row0 col0\" >Data Centric Deep Learning</td>\n",
              "      <td id=\"T_09091_row0_col1\" class=\"data row0 col1\" >Deep Learning</td>\n",
              "      <td id=\"T_09091_row0_col2\" class=\"data row0 col2\" >A trope we often hear is that data is at the heart of deep learning. But how exactly do you manage;improve;and repair deep learning models with data? This course teaches students applied techniques to measure and improve data quality;deep learning infrastructure to do continuous testing and deployment;iterative annotation pipelines;and techniques to respond to distribution shift and adversarial examples. Projects will be grounded in practical challenges spanning computer vision and natural language processing.</td>\n",
              "    </tr>\n",
              "    <tr>\n",
              "      <th id=\"T_09091_level0_row1\" class=\"row_heading level0 row1\" >1</th>\n",
              "      <td id=\"T_09091_row1_col0\" class=\"data row1 col0\" >MLOps: From Models to Production</td>\n",
              "      <td id=\"T_09091_row1_col1\" class=\"data row1 col1\" >Machine Learning</td>\n",
              "      <td id=\"T_09091_row1_col2\" class=\"data row1 col2\" >Acquire the skills to build effective real-world ML systems (bootstrapping datasets;improving label quality;experimentation;model evaluation;deployment and observability) with hands-on projects. This course will help you bridge the gap between state-of-the-art ML modeling;and building real-world ML systems.</td>\n",
              "    </tr>\n",
              "    <tr>\n",
              "      <th id=\"T_09091_level0_row2\" class=\"row_heading level0 row2\" >2</th>\n",
              "      <td id=\"T_09091_row2_col0\" class=\"data row2 col0\" >Building Computer Vision Applications</td>\n",
              "      <td id=\"T_09091_row2_col1\" class=\"data row2 col1\" >Machine Learning</td>\n",
              "      <td id=\"T_09091_row2_col2\" class=\"data row2 col2\" >This course provides an introduction to machine learning for computer vision with a focus on practical applications relevant to industry teams. In this course;we will “reverse-engineer” a number of applications;such as traffic flow analysis;digital medicine;optical character recognition;and video analytics.</td>\n",
              "    </tr>\n",
              "    <tr>\n",
              "      <th id=\"T_09091_level0_row3\" class=\"row_heading level0 row3\" >3</th>\n",
              "      <td id=\"T_09091_row3_col0\" class=\"data row3 col0\" >Fundamentals of Data Modeling</td>\n",
              "      <td id=\"T_09091_row3_col1\" class=\"data row3 col1\" >Data Engineering</td>\n",
              "      <td id=\"T_09091_row3_col2\" class=\"data row3 col2\" >This course provides an introduction to the fundamentals of data modeling for modern data warehouses. We use the Kimball dimensional model to guide us;but that does not mean this class is all theory! We have designed this course so you will learn the theory behind data modeling (normalization / denormalization;star schemas;fact and dimension tables) and you will build actual models using real world data. We will use plain SQL so you can do modeling whether you only have access to SQL or you are using a tool like dbt. By the end of this course;you will have a deep understanding of dimensional modeling;and you will have built one from scratch.</td>\n",
              "    </tr>\n",
              "    <tr>\n",
              "      <th id=\"T_09091_level0_row4\" class=\"row_heading level0 row4\" >4</th>\n",
              "      <td id=\"T_09091_row4_col0\" class=\"data row4 col0\" >How to Implement ML Papers</td>\n",
              "      <td id=\"T_09091_row4_col1\" class=\"data row4 col1\" >Machine Learning</td>\n",
              "      <td id=\"T_09091_row4_col2\" class=\"data row4 col2\" >Learn how to implement the proposed algorithms;models;and techniques from ML papers each week;while learning tips and tricks on debugging the implementation efforts and how to reproduce results in your own applications.</td>\n",
              "    </tr>\n",
              "    <tr>\n",
              "      <th id=\"T_09091_level0_row5\" class=\"row_heading level0 row5\" >5</th>\n",
              "      <td id=\"T_09091_row5_col0\" class=\"data row5 col0\" >Applied Machine Learning</td>\n",
              "      <td id=\"T_09091_row5_col1\" class=\"data row5 col1\" >Machine Learning</td>\n",
              "      <td id=\"T_09091_row5_col2\" class=\"data row5 col2\" >Design;build;and debug machine learning models for classification and regression tasks using a variety of datasets with Python (Numpy;Scikit;Pyplot). Learn best practices to plan and execute ML development projects whether large or small.</td>\n",
              "    </tr>\n",
              "    <tr>\n",
              "      <th id=\"T_09091_level0_row6\" class=\"row_heading level0 row6\" >6</th>\n",
              "      <td id=\"T_09091_row6_col0\" class=\"data row6 col0\" >Deep Learning Essentials</td>\n",
              "      <td id=\"T_09091_row6_col1\" class=\"data row6 col1\" >Deep Learning</td>\n",
              "      <td id=\"T_09091_row6_col2\" class=\"data row6 col2\" >Learn the foundations of deep learning and practice with training and implementing neural networks in Pytorch while covering topics including convolutional neural networks (CNNs);transformers;and generative adversarial networks (GANs).</td>\n",
              "    </tr>\n",
              "    <tr>\n",
              "      <th id=\"T_09091_level0_row7\" class=\"row_heading level0 row7\" >7</th>\n",
              "      <td id=\"T_09091_row7_col0\" class=\"data row7 col0\" >Spoken Language Processing</td>\n",
              "      <td id=\"T_09091_row7_col1\" class=\"data row7 col1\" >Language Processing</td>\n",
              "      <td id=\"T_09091_row7_col2\" class=\"data row7 col2\" >Learn to design and build voice assistant or voice cloning systems;using available APIs and adjustable pre-trained models;as well as creating them from scratch in PyTorch. You will learn solid audio processing fundamentals combined with the most important advances in automatic speech recognition and speech synthesis methods.</td>\n",
              "    </tr>\n",
              "    <tr>\n",
              "      <th id=\"T_09091_level0_row8\" class=\"row_heading level0 row8\" >8</th>\n",
              "      <td id=\"T_09091_row8_col0\" class=\"data row8 col0\" >Analytics Engineering with dbt</td>\n",
              "      <td id=\"T_09091_row8_col1\" class=\"data row8 col1\" >Data Engineering</td>\n",
              "      <td id=\"T_09091_row8_col2\" class=\"data row8 col2\" >Learn the modern analytics stack and best practices as an analytics engineer by using dbt with e-commerce data. Build data models to address real-world strategic questions.</td>\n",
              "    </tr>\n",
              "    <tr>\n",
              "      <th id=\"T_09091_level0_row9\" class=\"row_heading level0 row9\" >9</th>\n",
              "      <td id=\"T_09091_row9_col0\" class=\"data row9 col0\" >Social Media Mining</td>\n",
              "      <td id=\"T_09091_row9_col1\" class=\"data row9 col1\" >Language Processing</td>\n",
              "      <td id=\"T_09091_row9_col2\" class=\"data row9 col2\" >Collect;analyze;and present insights from social media data — including the Twitter API — while learning concepts of natural language processing and graph analytics.</td>\n",
              "    </tr>\n",
              "    <tr>\n",
              "      <th id=\"T_09091_level0_row10\" class=\"row_heading level0 row10\" >10</th>\n",
              "      <td id=\"T_09091_row10_col0\" class=\"data row10 col0\" >Search with Machine Learning</td>\n",
              "      <td id=\"T_09091_row10_col1\" class=\"data row10 col1\" >Machine Learning</td>\n",
              "      <td id=\"T_09091_row10_col2\" class=\"data row10 col2\" >We have designed this course to cover the fundamentals of integrating machine learning and natural language processing techniques into search engines. We will dive into using machine learning for ranking;content understanding;and query understanding;along with how to use embeddings;dense vectors and deep learning to improve retrieval and ranking.</td>\n",
              "    </tr>\n",
              "    <tr>\n",
              "      <th id=\"T_09091_level0_row11\" class=\"row_heading level0 row11\" >11</th>\n",
              "      <td id=\"T_09091_row11_col0\" class=\"data row11 col0\" >Python for Data Science</td>\n",
              "      <td id=\"T_09091_row11_col1\" class=\"data row11 col1\" >Machine Learning</td>\n",
              "      <td id=\"T_09091_row11_col2\" class=\"data row11 col2\" >Build projects like computing your own heart rate from an ECG;building a Shazam music identifier clone;and more while learning how to use core python libraries like Numpy;Scipy;Scikit;and Matplotlib.</td>\n",
              "    </tr>\n",
              "    <tr>\n",
              "      <th id=\"T_09091_level0_row12\" class=\"row_heading level0 row12\" >12</th>\n",
              "      <td id=\"T_09091_row12_col0\" class=\"data row12 col0\" >Natural Language Processing</td>\n",
              "      <td id=\"T_09091_row12_col1\" class=\"data row12 col1\" >Language Processing</td>\n",
              "      <td id=\"T_09091_row12_col2\" class=\"data row12 col2\" >Build your own auto-compose tool and other projects while learning key NLP concepts such as BERT;entity recognition;intent classification;spacy;and Transformer models powering search engines like Google or voice assistants like Google Home or Amazon Alexa.</td>\n",
              "    </tr>\n",
              "    <tr>\n",
              "      <th id=\"T_09091_level0_row13\" class=\"row_heading level0 row13\" >13</th>\n",
              "      <td id=\"T_09091_row13_col0\" class=\"data row13 col0\" >Personalized Recommendations at Scale</td>\n",
              "      <td id=\"T_09091_row13_col1\" class=\"data row13 col1\" >Machine Learning</td>\n",
              "      <td id=\"T_09091_row13_col2\" class=\"data row13 col2\" >Recommender systems undertake the challenging work to surface relevant content to users given millions of possible choices. In this course;we provide a holistic overview of Machine Learning modeling choices that go into developing and deploying multi-stage recommenders capable of serving recommendations from hundreds of million content choices to multiple hundred million users. The course goes into algorithmic models that power the various stages of the recommender;including the candidate generator;core ranker;user representation learning modules;and offline and online evaluation modules. The course ends with case studies;lessons;and practical considerations from deployed systems powering over 400 million users.</td>\n",
              "    </tr>\n",
              "    <tr>\n",
              "      <th id=\"T_09091_level0_row14\" class=\"row_heading level0 row14\" >14</th>\n",
              "      <td id=\"T_09091_row14_col0\" class=\"data row14 col0\" >Real Time Machine Learning</td>\n",
              "      <td id=\"T_09091_row14_col1\" class=\"data row14 col1\" >Machine Learning</td>\n",
              "      <td id=\"T_09091_row14_col2\" class=\"data row14 col2\" >Stream processing enables companies in every industry to drive intelligence and action in real-time by processing data as it comes in from sources such as IoT devices;customer interactions and order transactions;social media;etc.  Use cases for stream processing can broadly be categorized into four areas: streaming analytics;monitoring;leaderboard;and real-time predictions.  This course will cover stream processing paradigm;and streaming processing system architecture. Each week;students will build stream processing applications using widely adopted stream processing technologies;such as Apache Kafka;Apache Spark and Apache Flink.  </td>\n",
              "    </tr>\n",
              "  </tbody>\n",
              "</table>\n",
              "</div>"
            ]
          },
          "metadata": {}
        },
        {
          "output_type": "stream",
          "name": "stdout",
          "text": [
            "-------------------\n",
            "Your SQL query is correct!\n"
          ]
        }
      ]
    },
    {
      "cell_type": "markdown",
      "source": [
        "You found a few more courses that are in the 'Deep Learning' category and in the 'Language Processing' category that could be considered 'Machine Learning,' but you also found other courses that refer to data models under the 'Data Engineering' category. You decide to cross-check what would happen if you were to also count the courses run per year in the categories 'Deep Learning' and 'Language Processing.'"
      ],
      "metadata": {
        "id": "SSD8uMNLepby"
      }
    },
    {
      "cell_type": "code",
      "source": [
        "### Question: q_2_4\n",
        "### For the course category 'Machine Learning,' 'Deep Learning' and 'Language Processing,'\n",
        "### how many courses have we run so far for each calendar year?\n",
        "### Output Columns: year, count_by_year\n",
        "\n",
        "query = \"\"\"\n",
        "\n",
        "SELECT\n",
        "    COUNT(*) AS count_by_year,\n",
        "    strftime('%Y', start_date) AS year\n",
        "FROM courses\n",
        "WHERE\n",
        "    course_category = 'Machine Learning'\n",
        "    OR course_category = 'Deep Learning'\n",
        "    OR course_category = 'Language Processing'\n",
        "GROUP BY strftime('%Y', start_date)\n",
        "\n",
        "        \"\"\"\n",
        "\n",
        "run(query)\n",
        "check(q_2_4 = query)"
      ],
      "metadata": {
        "id": "0HKvaVMsP1gT",
        "colab": {
          "base_uri": "https://localhost:8080/",
          "height": 269
        },
        "outputId": "a124d7a3-c720-4578-b28c-dc63cc9686bc"
      },
      "execution_count": null,
      "outputs": [
        {
          "output_type": "display_data",
          "data": {
            "text/plain": [
              "<IPython.core.display.HTML object>"
            ],
            "text/html": [
              "\n",
              "<style>\n",
              "  html {\n",
              "    --td-font-color: black;\n",
              "    --font-color: black;\n",
              "    --background-color: #e0e0e0;\n",
              "  }\n",
              "  html[theme=dark] {\n",
              "    --td-font-color: white;\n",
              "    --font-color: black;\n",
              "    --background-color: #6688ff;\n",
              "  }\n",
              "  th {\n",
              "    background: #fbd44c;\n",
              "    color: var(--font-color);\n",
              "    font-size: 16px;\n",
              "    text-align: center;\n",
              "    font-weight: bold;\n",
              "  }\n",
              "  tr:nth-child(even) {\n",
              "    background-color: var(--background-color);\n",
              "    color: var(--font-color);\n",
              "  }\n",
              "  td {\n",
              "    font-size: 14px;\n",
              "    color: var(--td-font-color);\n",
              "  }\n",
              "</style>\n",
              "<div style='max-height: 500px; overflow: auto; width: fit-content; border-style: solid; border-width: 1px; border-color: #0139fe; font-family: GT Planar,Inter,Arial,sans-serif;'><style type=\"text/css\">\n",
              "</style>\n",
              "<table id=\"T_d7c02_\">\n",
              "  <thead>\n",
              "    <tr>\n",
              "      <th class=\"blank level0\" >&nbsp;</th>\n",
              "      <th class=\"col_heading level0 col0\" >count_by_year</th>\n",
              "      <th class=\"col_heading level0 col1\" >year</th>\n",
              "    </tr>\n",
              "  </thead>\n",
              "  <tbody>\n",
              "    <tr>\n",
              "      <th id=\"T_d7c02_level0_row0\" class=\"row_heading level0 row0\" >0</th>\n",
              "      <td id=\"T_d7c02_row0_col0\" class=\"data row0 col0\" >60</td>\n",
              "      <td id=\"T_d7c02_row0_col1\" class=\"data row0 col1\" >2016</td>\n",
              "    </tr>\n",
              "    <tr>\n",
              "      <th id=\"T_d7c02_level0_row1\" class=\"row_heading level0 row1\" >1</th>\n",
              "      <td id=\"T_d7c02_row1_col0\" class=\"data row1 col0\" >73</td>\n",
              "      <td id=\"T_d7c02_row1_col1\" class=\"data row1 col1\" >2017</td>\n",
              "    </tr>\n",
              "    <tr>\n",
              "      <th id=\"T_d7c02_level0_row2\" class=\"row_heading level0 row2\" >2</th>\n",
              "      <td id=\"T_d7c02_row2_col0\" class=\"data row2 col0\" >61</td>\n",
              "      <td id=\"T_d7c02_row2_col1\" class=\"data row2 col1\" >2018</td>\n",
              "    </tr>\n",
              "    <tr>\n",
              "      <th id=\"T_d7c02_level0_row3\" class=\"row_heading level0 row3\" >3</th>\n",
              "      <td id=\"T_d7c02_row3_col0\" class=\"data row3 col0\" >76</td>\n",
              "      <td id=\"T_d7c02_row3_col1\" class=\"data row3 col1\" >2019</td>\n",
              "    </tr>\n",
              "    <tr>\n",
              "      <th id=\"T_d7c02_level0_row4\" class=\"row_heading level0 row4\" >4</th>\n",
              "      <td id=\"T_d7c02_row4_col0\" class=\"data row4 col0\" >80</td>\n",
              "      <td id=\"T_d7c02_row4_col1\" class=\"data row4 col1\" >2020</td>\n",
              "    </tr>\n",
              "    <tr>\n",
              "      <th id=\"T_d7c02_level0_row5\" class=\"row_heading level0 row5\" >5</th>\n",
              "      <td id=\"T_d7c02_row5_col0\" class=\"data row5 col0\" >65</td>\n",
              "      <td id=\"T_d7c02_row5_col1\" class=\"data row5 col1\" >2021</td>\n",
              "    </tr>\n",
              "    <tr>\n",
              "      <th id=\"T_d7c02_level0_row6\" class=\"row_heading level0 row6\" >6</th>\n",
              "      <td id=\"T_d7c02_row6_col0\" class=\"data row6 col0\" >57</td>\n",
              "      <td id=\"T_d7c02_row6_col1\" class=\"data row6 col1\" >2022</td>\n",
              "    </tr>\n",
              "    <tr>\n",
              "      <th id=\"T_d7c02_level0_row7\" class=\"row_heading level0 row7\" >7</th>\n",
              "      <td id=\"T_d7c02_row7_col0\" class=\"data row7 col0\" >63</td>\n",
              "      <td id=\"T_d7c02_row7_col1\" class=\"data row7 col1\" >2023</td>\n",
              "    </tr>\n",
              "  </tbody>\n",
              "</table>\n",
              "</div>"
            ]
          },
          "metadata": {}
        },
        {
          "output_type": "stream",
          "name": "stdout",
          "text": [
            "-------------------\n",
            "Your SQL query is correct!\n"
          ]
        }
      ]
    },
    {
      "cell_type": "markdown",
      "source": [
        "That seems to align better with the anecdotal water cooler conversations. The head of content is happy that you have been able to paint a good picture of current reality and is now off trying to figure out what new courses to add and what instructors they need to engage. But your life as an analyst continues. The CEO has put together a special ops commando team called the 'COVID' impact team. Of course, you are part of this team as the ace analyst in CoRise. Off we go!"
      ],
      "metadata": {
        "id": "SNhRAQW5VVz0"
      }
    },
    {
      "cell_type": "markdown",
      "source": [
        "# **Part 3 - COVID Impact**"
      ],
      "metadata": {
        "id": "vClaDS34WKg4"
      }
    },
    {
      "cell_type": "markdown",
      "source": [
        "As mentioned before, the CEO has put together a special ops commando team called the 'COVID' impact team which includes you as the star analyst. No one is sure if the courses were impacted by COVID as it has been a while. (You are in 2024 and the world has almost forgotten COVID (positive dreams are good for us 😀)). You suggest that you will mine the data and see if there are any quantitative differences between 2020 and other years.  \n",
        "\n",
        "As you know by now, we are guided by nps quite a bit, as it is a great measure of how the course was perceived by the participants. So the first thing is to see if there is any substantial difference either in the total quantity of the courses or the average nps of the courses.\n"
      ],
      "metadata": {
        "id": "wDTHxF5vMEKp"
      }
    },
    {
      "cell_type": "code",
      "source": [
        "### Question: q_3_1\n",
        "### Print the number of courses run per year\n",
        "### Output columns: year, count_by_year\n",
        "query = \"\"\"\n",
        "\n",
        "SELECT\n",
        "    COUNT(*) AS count_by_year,\n",
        "    strftime(\"%Y\", start_date) AS year\n",
        "FROM courses\n",
        "GROUP BY\n",
        "    strftime(\"%Y\", start_date)\n",
        "\n",
        "        \"\"\"\n",
        "\n",
        "run(query)\n",
        "check(q_3_1 = query)"
      ],
      "metadata": {
        "id": "FR9FMaj72PSl",
        "colab": {
          "base_uri": "https://localhost:8080/",
          "height": 269
        },
        "outputId": "da2f3cbc-0e85-49df-d260-c5f1830029cc"
      },
      "execution_count": null,
      "outputs": [
        {
          "output_type": "display_data",
          "data": {
            "text/plain": [
              "<IPython.core.display.HTML object>"
            ],
            "text/html": [
              "\n",
              "<style>\n",
              "  html {\n",
              "    --td-font-color: black;\n",
              "    --font-color: black;\n",
              "    --background-color: #e0e0e0;\n",
              "  }\n",
              "  html[theme=dark] {\n",
              "    --td-font-color: white;\n",
              "    --font-color: black;\n",
              "    --background-color: #6688ff;\n",
              "  }\n",
              "  th {\n",
              "    background: #fbd44c;\n",
              "    color: var(--font-color);\n",
              "    font-size: 16px;\n",
              "    text-align: center;\n",
              "    font-weight: bold;\n",
              "  }\n",
              "  tr:nth-child(even) {\n",
              "    background-color: var(--background-color);\n",
              "    color: var(--font-color);\n",
              "  }\n",
              "  td {\n",
              "    font-size: 14px;\n",
              "    color: var(--td-font-color);\n",
              "  }\n",
              "</style>\n",
              "<div style='max-height: 500px; overflow: auto; width: fit-content; border-style: solid; border-width: 1px; border-color: #0139fe; font-family: GT Planar,Inter,Arial,sans-serif;'><style type=\"text/css\">\n",
              "</style>\n",
              "<table id=\"T_a1469_\">\n",
              "  <thead>\n",
              "    <tr>\n",
              "      <th class=\"blank level0\" >&nbsp;</th>\n",
              "      <th class=\"col_heading level0 col0\" >count_by_year</th>\n",
              "      <th class=\"col_heading level0 col1\" >year</th>\n",
              "    </tr>\n",
              "  </thead>\n",
              "  <tbody>\n",
              "    <tr>\n",
              "      <th id=\"T_a1469_level0_row0\" class=\"row_heading level0 row0\" >0</th>\n",
              "      <td id=\"T_a1469_row0_col0\" class=\"data row0 col0\" >129</td>\n",
              "      <td id=\"T_a1469_row0_col1\" class=\"data row0 col1\" >2016</td>\n",
              "    </tr>\n",
              "    <tr>\n",
              "      <th id=\"T_a1469_level0_row1\" class=\"row_heading level0 row1\" >1</th>\n",
              "      <td id=\"T_a1469_row1_col0\" class=\"data row1 col0\" >118</td>\n",
              "      <td id=\"T_a1469_row1_col1\" class=\"data row1 col1\" >2017</td>\n",
              "    </tr>\n",
              "    <tr>\n",
              "      <th id=\"T_a1469_level0_row2\" class=\"row_heading level0 row2\" >2</th>\n",
              "      <td id=\"T_a1469_row2_col0\" class=\"data row2 col0\" >128</td>\n",
              "      <td id=\"T_a1469_row2_col1\" class=\"data row2 col1\" >2018</td>\n",
              "    </tr>\n",
              "    <tr>\n",
              "      <th id=\"T_a1469_level0_row3\" class=\"row_heading level0 row3\" >3</th>\n",
              "      <td id=\"T_a1469_row3_col0\" class=\"data row3 col0\" >134</td>\n",
              "      <td id=\"T_a1469_row3_col1\" class=\"data row3 col1\" >2019</td>\n",
              "    </tr>\n",
              "    <tr>\n",
              "      <th id=\"T_a1469_level0_row4\" class=\"row_heading level0 row4\" >4</th>\n",
              "      <td id=\"T_a1469_row4_col0\" class=\"data row4 col0\" >140</td>\n",
              "      <td id=\"T_a1469_row4_col1\" class=\"data row4 col1\" >2020</td>\n",
              "    </tr>\n",
              "    <tr>\n",
              "      <th id=\"T_a1469_level0_row5\" class=\"row_heading level0 row5\" >5</th>\n",
              "      <td id=\"T_a1469_row5_col0\" class=\"data row5 col0\" >127</td>\n",
              "      <td id=\"T_a1469_row5_col1\" class=\"data row5 col1\" >2021</td>\n",
              "    </tr>\n",
              "    <tr>\n",
              "      <th id=\"T_a1469_level0_row6\" class=\"row_heading level0 row6\" >6</th>\n",
              "      <td id=\"T_a1469_row6_col0\" class=\"data row6 col0\" >108</td>\n",
              "      <td id=\"T_a1469_row6_col1\" class=\"data row6 col1\" >2022</td>\n",
              "    </tr>\n",
              "    <tr>\n",
              "      <th id=\"T_a1469_level0_row7\" class=\"row_heading level0 row7\" >7</th>\n",
              "      <td id=\"T_a1469_row7_col0\" class=\"data row7 col0\" >115</td>\n",
              "      <td id=\"T_a1469_row7_col1\" class=\"data row7 col1\" >2023</td>\n",
              "    </tr>\n",
              "  </tbody>\n",
              "</table>\n",
              "</div>"
            ]
          },
          "metadata": {}
        },
        {
          "output_type": "stream",
          "name": "stdout",
          "text": [
            "-------------------\n",
            "Your SQL query is correct!\n"
          ]
        }
      ]
    },
    {
      "cell_type": "markdown",
      "source": [
        "That's interesting. The number of courses conducted doesn't seem to have been much lower in 2020. If anything, it is on the higher side. So somehow COVID did not impact the number of courses. Let's look at the average nps next and contrast 2020 with the other years."
      ],
      "metadata": {
        "id": "fdXS4E9K2_e3"
      }
    },
    {
      "cell_type": "code",
      "source": [
        "### Question: q_3_2\n",
        "### Print a report with two columns titled covid_nps and rest_nps.\n",
        "### covid_nps will have the average of the nps of courses that started in 2020 and\n",
        "### rest_nps will have the average of the nps of courses that started in other years\n",
        "### You need to use the case statement in this module\n",
        "### https://corise.com/course/intermediate-sql/v2/module/week-1-case-statement-61ilk\n",
        "### to identify rows that belong to 2020 and average the nps of those rows to get covid_nps\n",
        "### similarly for rest_nps. Recall that you can wrap a case statement with aggregate\n",
        "### functions such as sum, count, avg from the last subsection of the above module\n",
        "### Output columns: covid_nps, rest_nps\n",
        "\n",
        "query = \"\"\"\n",
        "\n",
        "SELECT\n",
        "  avg(case when strftime('%Y', start_date) = '2020' then nps end) as covid_nps,\n",
        "  avg(case when strftime('%Y', start_date) != '2020' then nps end) as rest_nps\n",
        "FROM courses\n",
        "\n",
        "        \"\"\"\n",
        "\n",
        "run(query)\n",
        "check(q_3_2 = query)"
      ],
      "metadata": {
        "id": "8kQa86J34bW2",
        "colab": {
          "base_uri": "https://localhost:8080/",
          "height": 103
        },
        "outputId": "6fa6b411-17d1-49b8-cde8-5fa6e732a8c8"
      },
      "execution_count": null,
      "outputs": [
        {
          "output_type": "display_data",
          "data": {
            "text/plain": [
              "<IPython.core.display.HTML object>"
            ],
            "text/html": [
              "\n",
              "<style>\n",
              "  html {\n",
              "    --td-font-color: black;\n",
              "    --font-color: black;\n",
              "    --background-color: #e0e0e0;\n",
              "  }\n",
              "  html[theme=dark] {\n",
              "    --td-font-color: white;\n",
              "    --font-color: black;\n",
              "    --background-color: #6688ff;\n",
              "  }\n",
              "  th {\n",
              "    background: #fbd44c;\n",
              "    color: var(--font-color);\n",
              "    font-size: 16px;\n",
              "    text-align: center;\n",
              "    font-weight: bold;\n",
              "  }\n",
              "  tr:nth-child(even) {\n",
              "    background-color: var(--background-color);\n",
              "    color: var(--font-color);\n",
              "  }\n",
              "  td {\n",
              "    font-size: 14px;\n",
              "    color: var(--td-font-color);\n",
              "  }\n",
              "</style>\n",
              "<div style='max-height: 500px; overflow: auto; width: fit-content; border-style: solid; border-width: 1px; border-color: #0139fe; font-family: GT Planar,Inter,Arial,sans-serif;'><style type=\"text/css\">\n",
              "</style>\n",
              "<table id=\"T_767f9_\">\n",
              "  <thead>\n",
              "    <tr>\n",
              "      <th class=\"blank level0\" >&nbsp;</th>\n",
              "      <th class=\"col_heading level0 col0\" >covid_nps</th>\n",
              "      <th class=\"col_heading level0 col1\" >rest_nps</th>\n",
              "    </tr>\n",
              "  </thead>\n",
              "  <tbody>\n",
              "    <tr>\n",
              "      <th id=\"T_767f9_level0_row0\" class=\"row_heading level0 row0\" >0</th>\n",
              "      <td id=\"T_767f9_row0_col0\" class=\"data row0 col0\" >60.96</td>\n",
              "      <td id=\"T_767f9_row0_col1\" class=\"data row0 col1\" >70.50</td>\n",
              "    </tr>\n",
              "  </tbody>\n",
              "</table>\n",
              "</div>"
            ]
          },
          "metadata": {}
        },
        {
          "output_type": "stream",
          "name": "stdout",
          "text": [
            "-------------------\n",
            "Your SQL query is correct!\n"
          ]
        }
      ]
    },
    {
      "cell_type": "markdown",
      "source": [
        "Wow! Thats's a clear drop in the average nps in 2020 compared to the average nps of other years. The statistician in you wonders if there are other years where the nps is low and is compensated for some other years where nps is high - thus 2020 may not be an exception. Let's quickly cross-validate that thought!"
      ],
      "metadata": {
        "id": "k30QE1jQyIZC"
      }
    },
    {
      "cell_type": "code",
      "source": [
        "### Question: q_3_3\n",
        "### For each year, print the year and the average nps of the courses that started that year.\n",
        "### Output columns: year, avg(nps)\n",
        "\n",
        "query = \"\"\"\n",
        "\n",
        "SELECT\n",
        "    avg(case when strftime('%Y', start_date) as year, avg(nps)\n",
        "FROM courses\n",
        "GROUP BY strftime('%Y', start_date)\n",
        "\n",
        "\n",
        "        \"\"\"\n",
        "\n",
        "run(query)\n",
        "check(q_3_3 = query)"
      ],
      "metadata": {
        "id": "kXvnj9RbyjjE",
        "colab": {
          "base_uri": "https://localhost:8080/",
          "height": 269
        },
        "outputId": "d7de8c75-5331-4bc3-f729-f486f97cb3c8"
      },
      "execution_count": null,
      "outputs": [
        {
          "output_type": "display_data",
          "data": {
            "text/plain": [
              "<IPython.core.display.HTML object>"
            ],
            "text/html": [
              "\n",
              "<style>\n",
              "  html {\n",
              "    --td-font-color: black;\n",
              "    --font-color: black;\n",
              "    --background-color: #e0e0e0;\n",
              "  }\n",
              "  html[theme=dark] {\n",
              "    --td-font-color: white;\n",
              "    --font-color: black;\n",
              "    --background-color: #6688ff;\n",
              "  }\n",
              "  th {\n",
              "    background: #fbd44c;\n",
              "    color: var(--font-color);\n",
              "    font-size: 16px;\n",
              "    text-align: center;\n",
              "    font-weight: bold;\n",
              "  }\n",
              "  tr:nth-child(even) {\n",
              "    background-color: var(--background-color);\n",
              "    color: var(--font-color);\n",
              "  }\n",
              "  td {\n",
              "    font-size: 14px;\n",
              "    color: var(--td-font-color);\n",
              "  }\n",
              "</style>\n",
              "<div style='max-height: 500px; overflow: auto; width: fit-content; border-style: solid; border-width: 1px; border-color: #0139fe; font-family: GT Planar,Inter,Arial,sans-serif;'><style type=\"text/css\">\n",
              "</style>\n",
              "<table id=\"T_393f0_\">\n",
              "  <thead>\n",
              "    <tr>\n",
              "      <th class=\"blank level0\" >&nbsp;</th>\n",
              "      <th class=\"col_heading level0 col0\" >year</th>\n",
              "      <th class=\"col_heading level0 col1\" >avg(nps)</th>\n",
              "    </tr>\n",
              "  </thead>\n",
              "  <tbody>\n",
              "    <tr>\n",
              "      <th id=\"T_393f0_level0_row0\" class=\"row_heading level0 row0\" >0</th>\n",
              "      <td id=\"T_393f0_row0_col0\" class=\"data row0 col0\" >2016</td>\n",
              "      <td id=\"T_393f0_row0_col1\" class=\"data row0 col1\" >69.64</td>\n",
              "    </tr>\n",
              "    <tr>\n",
              "      <th id=\"T_393f0_level0_row1\" class=\"row_heading level0 row1\" >1</th>\n",
              "      <td id=\"T_393f0_row1_col0\" class=\"data row1 col0\" >2017</td>\n",
              "      <td id=\"T_393f0_row1_col1\" class=\"data row1 col1\" >71.80</td>\n",
              "    </tr>\n",
              "    <tr>\n",
              "      <th id=\"T_393f0_level0_row2\" class=\"row_heading level0 row2\" >2</th>\n",
              "      <td id=\"T_393f0_row2_col0\" class=\"data row2 col0\" >2018</td>\n",
              "      <td id=\"T_393f0_row2_col1\" class=\"data row2 col1\" >70.80</td>\n",
              "    </tr>\n",
              "    <tr>\n",
              "      <th id=\"T_393f0_level0_row3\" class=\"row_heading level0 row3\" >3</th>\n",
              "      <td id=\"T_393f0_row3_col0\" class=\"data row3 col0\" >2019</td>\n",
              "      <td id=\"T_393f0_row3_col1\" class=\"data row3 col1\" >70.83</td>\n",
              "    </tr>\n",
              "    <tr>\n",
              "      <th id=\"T_393f0_level0_row4\" class=\"row_heading level0 row4\" >4</th>\n",
              "      <td id=\"T_393f0_row4_col0\" class=\"data row4 col0\" >2020</td>\n",
              "      <td id=\"T_393f0_row4_col1\" class=\"data row4 col1\" >60.96</td>\n",
              "    </tr>\n",
              "    <tr>\n",
              "      <th id=\"T_393f0_level0_row5\" class=\"row_heading level0 row5\" >5</th>\n",
              "      <td id=\"T_393f0_row5_col0\" class=\"data row5 col0\" >2021</td>\n",
              "      <td id=\"T_393f0_row5_col1\" class=\"data row5 col1\" >69.38</td>\n",
              "    </tr>\n",
              "    <tr>\n",
              "      <th id=\"T_393f0_level0_row6\" class=\"row_heading level0 row6\" >6</th>\n",
              "      <td id=\"T_393f0_row6_col0\" class=\"data row6 col0\" >2022</td>\n",
              "      <td id=\"T_393f0_row6_col1\" class=\"data row6 col1\" >70.35</td>\n",
              "    </tr>\n",
              "    <tr>\n",
              "      <th id=\"T_393f0_level0_row7\" class=\"row_heading level0 row7\" >7</th>\n",
              "      <td id=\"T_393f0_row7_col0\" class=\"data row7 col0\" >2023</td>\n",
              "      <td id=\"T_393f0_row7_col1\" class=\"data row7 col1\" >70.80</td>\n",
              "    </tr>\n",
              "  </tbody>\n",
              "</table>\n",
              "</div>"
            ]
          },
          "metadata": {}
        },
        {
          "output_type": "stream",
          "name": "stdout",
          "text": [
            "-------------------\n",
            "Your SQL query is correct!\n"
          ]
        }
      ]
    },
    {
      "cell_type": "markdown",
      "source": [
        "Ok, good! 2020 was an aberration. The logical next question is why? Are there any explanatory variables? You go talk to some folks who have been around in the company for a long time. They tell you they recollect that it was tough getting enough TAs for many courses in 2020. Additionally, the courses ran for longer to account for sickness of many of the staff as well as learners. You set out to validate this next."
      ],
      "metadata": {
        "id": "N6Dyya30zS75"
      }
    },
    {
      "cell_type": "code",
      "source": [
        "### Question: q_3_4\n",
        "### For each year, print the year, the average learner:TA ratio\n",
        "### and the average number of weeks for the courses that started that year.\n",
        "### Hint: You can create derived columns by dividing one column with another\n",
        "### and further aggregate derived columns\n",
        "### Note that num_learners_registered has floating point values and so dividing\n",
        "### it by integer will still give a float - but ideally it should have been an integer\n",
        "### when data was generated. so please put it inside a cast operator to make\n",
        "### it float.\n",
        "### Output columns: year, learner_ta_ratio, avg_num_weeks\n",
        "\n",
        "\n",
        "query = \"\"\"\n",
        "\n",
        "SELECT\n",
        "  strftime('%Y', start_date) AS year,\n",
        "  avg(CAST(num_learners_registered AS float)/num_tas) AS learner_ta_ratio,\n",
        "  avg(num_weeks) as avg_num_weeks\n",
        "FROM courses\n",
        "GROUP BY strftime('%Y', start_date)\n",
        "\n",
        "\n",
        "        \"\"\"\n",
        "\n",
        "run(query)\n",
        "check(q_3_4 = query)"
      ],
      "metadata": {
        "id": "ypk_rrdLz27b",
        "colab": {
          "base_uri": "https://localhost:8080/",
          "height": 269
        },
        "outputId": "7e1a03fe-b18b-4d6d-b66e-5abd076d6965"
      },
      "execution_count": null,
      "outputs": [
        {
          "output_type": "display_data",
          "data": {
            "text/plain": [
              "<IPython.core.display.HTML object>"
            ],
            "text/html": [
              "\n",
              "<style>\n",
              "  html {\n",
              "    --td-font-color: black;\n",
              "    --font-color: black;\n",
              "    --background-color: #e0e0e0;\n",
              "  }\n",
              "  html[theme=dark] {\n",
              "    --td-font-color: white;\n",
              "    --font-color: black;\n",
              "    --background-color: #6688ff;\n",
              "  }\n",
              "  th {\n",
              "    background: #fbd44c;\n",
              "    color: var(--font-color);\n",
              "    font-size: 16px;\n",
              "    text-align: center;\n",
              "    font-weight: bold;\n",
              "  }\n",
              "  tr:nth-child(even) {\n",
              "    background-color: var(--background-color);\n",
              "    color: var(--font-color);\n",
              "  }\n",
              "  td {\n",
              "    font-size: 14px;\n",
              "    color: var(--td-font-color);\n",
              "  }\n",
              "</style>\n",
              "<div style='max-height: 500px; overflow: auto; width: fit-content; border-style: solid; border-width: 1px; border-color: #0139fe; font-family: GT Planar,Inter,Arial,sans-serif;'><style type=\"text/css\">\n",
              "</style>\n",
              "<table id=\"T_c8b6e_\">\n",
              "  <thead>\n",
              "    <tr>\n",
              "      <th class=\"blank level0\" >&nbsp;</th>\n",
              "      <th class=\"col_heading level0 col0\" >year</th>\n",
              "      <th class=\"col_heading level0 col1\" >learner_ta_ratio</th>\n",
              "      <th class=\"col_heading level0 col2\" >avg_num_weeks</th>\n",
              "    </tr>\n",
              "  </thead>\n",
              "  <tbody>\n",
              "    <tr>\n",
              "      <th id=\"T_c8b6e_level0_row0\" class=\"row_heading level0 row0\" >0</th>\n",
              "      <td id=\"T_c8b6e_row0_col0\" class=\"data row0 col0\" >2016</td>\n",
              "      <td id=\"T_c8b6e_row0_col1\" class=\"data row0 col1\" >56.27</td>\n",
              "      <td id=\"T_c8b6e_row0_col2\" class=\"data row0 col2\" >4.67</td>\n",
              "    </tr>\n",
              "    <tr>\n",
              "      <th id=\"T_c8b6e_level0_row1\" class=\"row_heading level0 row1\" >1</th>\n",
              "      <td id=\"T_c8b6e_row1_col0\" class=\"data row1 col0\" >2017</td>\n",
              "      <td id=\"T_c8b6e_row1_col1\" class=\"data row1 col1\" >54.40</td>\n",
              "      <td id=\"T_c8b6e_row1_col2\" class=\"data row1 col2\" >4.69</td>\n",
              "    </tr>\n",
              "    <tr>\n",
              "      <th id=\"T_c8b6e_level0_row2\" class=\"row_heading level0 row2\" >2</th>\n",
              "      <td id=\"T_c8b6e_row2_col0\" class=\"data row2 col0\" >2018</td>\n",
              "      <td id=\"T_c8b6e_row2_col1\" class=\"data row2 col1\" >60.57</td>\n",
              "      <td id=\"T_c8b6e_row2_col2\" class=\"data row2 col2\" >4.77</td>\n",
              "    </tr>\n",
              "    <tr>\n",
              "      <th id=\"T_c8b6e_level0_row3\" class=\"row_heading level0 row3\" >3</th>\n",
              "      <td id=\"T_c8b6e_row3_col0\" class=\"data row3 col0\" >2019</td>\n",
              "      <td id=\"T_c8b6e_row3_col1\" class=\"data row3 col1\" >62.66</td>\n",
              "      <td id=\"T_c8b6e_row3_col2\" class=\"data row3 col2\" >4.29</td>\n",
              "    </tr>\n",
              "    <tr>\n",
              "      <th id=\"T_c8b6e_level0_row4\" class=\"row_heading level0 row4\" >4</th>\n",
              "      <td id=\"T_c8b6e_row4_col0\" class=\"data row4 col0\" >2020</td>\n",
              "      <td id=\"T_c8b6e_row4_col1\" class=\"data row4 col1\" >102.13</td>\n",
              "      <td id=\"T_c8b6e_row4_col2\" class=\"data row4 col2\" >9.15</td>\n",
              "    </tr>\n",
              "    <tr>\n",
              "      <th id=\"T_c8b6e_level0_row5\" class=\"row_heading level0 row5\" >5</th>\n",
              "      <td id=\"T_c8b6e_row5_col0\" class=\"data row5 col0\" >2021</td>\n",
              "      <td id=\"T_c8b6e_row5_col1\" class=\"data row5 col1\" >50.72</td>\n",
              "      <td id=\"T_c8b6e_row5_col2\" class=\"data row5 col2\" >4.57</td>\n",
              "    </tr>\n",
              "    <tr>\n",
              "      <th id=\"T_c8b6e_level0_row6\" class=\"row_heading level0 row6\" >6</th>\n",
              "      <td id=\"T_c8b6e_row6_col0\" class=\"data row6 col0\" >2022</td>\n",
              "      <td id=\"T_c8b6e_row6_col1\" class=\"data row6 col1\" >54.92</td>\n",
              "      <td id=\"T_c8b6e_row6_col2\" class=\"data row6 col2\" >4.60</td>\n",
              "    </tr>\n",
              "    <tr>\n",
              "      <th id=\"T_c8b6e_level0_row7\" class=\"row_heading level0 row7\" >7</th>\n",
              "      <td id=\"T_c8b6e_row7_col0\" class=\"data row7 col0\" >2023</td>\n",
              "      <td id=\"T_c8b6e_row7_col1\" class=\"data row7 col1\" >56.23</td>\n",
              "      <td id=\"T_c8b6e_row7_col2\" class=\"data row7 col2\" >4.33</td>\n",
              "    </tr>\n",
              "  </tbody>\n",
              "</table>\n",
              "</div>"
            ]
          },
          "metadata": {}
        },
        {
          "output_type": "stream",
          "name": "stdout",
          "text": [
            "-------------------\n",
            "Your SQL query is correct!\n"
          ]
        }
      ]
    },
    {
      "cell_type": "markdown",
      "source": [
        "Awesome! You have a reasonable explanation for the huge nps drop. While another catastrophic event like COVID is unlikely to happen (and no one wants one more), there can be minor challenges that come up more regularly. This reminds you that you need to watch out for the number of weeks or num_tas starting to change dramatically over time (proactively monitoring for problems!). This is not something you will do in this course however."
      ],
      "metadata": {
        "id": "ArC7F81t2MMZ"
      }
    },
    {
      "cell_type": "markdown",
      "source": [
        "# **Part 4 - Looking for pockets of underperformance:**\n",
        "\n",
        "The head of content creation would like to understand the distribution of nps overall to get their bearings (recall that this is the most important metric for the business).\n",
        "\n",
        "\n",
        "\n"
      ],
      "metadata": {
        "id": "QJ2-MIWaLxT6"
      }
    },
    {
      "cell_type": "code",
      "source": [
        "### Question: q_4_1\n",
        "### Find the minimum, maximum, and average  of nps across all courses\n",
        "### Output columns: min_nps, max_nps, avg_nps\n",
        "query = \"\"\"\n",
        "\n",
        "SELECT\n",
        "    min(nps) as min_nps,\n",
        "    max(nps) as max_nps,\n",
        "    avg(nps) as avg_nps\n",
        "FROM courses\n",
        "\n",
        "        \"\"\"\n",
        "\n",
        "run(query)\n",
        "check(q_4_1 = query)"
      ],
      "metadata": {
        "id": "JNxkUrMBjzZb",
        "colab": {
          "base_uri": "https://localhost:8080/",
          "height": 103
        },
        "outputId": "290c4b4c-4999-4d8e-dbd6-2f2a15ddcc95"
      },
      "execution_count": null,
      "outputs": [
        {
          "output_type": "display_data",
          "data": {
            "text/plain": [
              "<IPython.core.display.HTML object>"
            ],
            "text/html": [
              "\n",
              "<style>\n",
              "  html {\n",
              "    --td-font-color: black;\n",
              "    --font-color: black;\n",
              "    --background-color: #e0e0e0;\n",
              "  }\n",
              "  html[theme=dark] {\n",
              "    --td-font-color: white;\n",
              "    --font-color: black;\n",
              "    --background-color: #6688ff;\n",
              "  }\n",
              "  th {\n",
              "    background: #fbd44c;\n",
              "    color: var(--font-color);\n",
              "    font-size: 16px;\n",
              "    text-align: center;\n",
              "    font-weight: bold;\n",
              "  }\n",
              "  tr:nth-child(even) {\n",
              "    background-color: var(--background-color);\n",
              "    color: var(--font-color);\n",
              "  }\n",
              "  td {\n",
              "    font-size: 14px;\n",
              "    color: var(--td-font-color);\n",
              "  }\n",
              "</style>\n",
              "<div style='max-height: 500px; overflow: auto; width: fit-content; border-style: solid; border-width: 1px; border-color: #0139fe; font-family: GT Planar,Inter,Arial,sans-serif;'><style type=\"text/css\">\n",
              "</style>\n",
              "<table id=\"T_559fa_\">\n",
              "  <thead>\n",
              "    <tr>\n",
              "      <th class=\"blank level0\" >&nbsp;</th>\n",
              "      <th class=\"col_heading level0 col0\" >min_nps</th>\n",
              "      <th class=\"col_heading level0 col1\" >max_nps</th>\n",
              "      <th class=\"col_heading level0 col2\" >avg_nps</th>\n",
              "    </tr>\n",
              "  </thead>\n",
              "  <tbody>\n",
              "    <tr>\n",
              "      <th id=\"T_559fa_level0_row0\" class=\"row_heading level0 row0\" >0</th>\n",
              "      <td id=\"T_559fa_row0_col0\" class=\"data row0 col0\" >40</td>\n",
              "      <td id=\"T_559fa_row0_col1\" class=\"data row0 col1\" >99</td>\n",
              "      <td id=\"T_559fa_row0_col2\" class=\"data row0 col2\" >69.16</td>\n",
              "    </tr>\n",
              "  </tbody>\n",
              "</table>\n",
              "</div>"
            ]
          },
          "metadata": {}
        },
        {
          "output_type": "stream",
          "name": "stdout",
          "text": [
            "-------------------\n",
            "Your SQL query is correct!\n"
          ]
        }
      ]
    },
    {
      "cell_type": "markdown",
      "source": [
        "At first blush, the news is good – the average seems to be reasonably high. Of course it would always be good to be better, but it's a start. However, the minimum is quite low. Perhaps there is a pocket of courses that can be improved and we can lift the average that way. You decide to dig deeper and see if you can find pockets of underperformance. You instintctively decide to explore if the size of a course (number of learners) has some correlation with the nps."
      ],
      "metadata": {
        "id": "9i8o3-813rpf"
      }
    },
    {
      "cell_type": "code",
      "source": [
        "### Question: q_4_2\n",
        "### Let's group the number of learners into three buckets:\n",
        "### low (fewer than 30 learners), medium (30-100) and high (100+ learners)\n",
        "### Please filter rows that have NULLS in num_learners_registered column in your query.\n",
        "### Also recall group by can take a case statement as the column to group by\n",
        "### Let's get the minimum, maximum, and the average of the nps for each of these three buckets.\n",
        "### Output columns: num_learners_bucket, min_nps, max_nps, avg_nps\n",
        "query = \"\"\"\n",
        "\n",
        "SELECT\n",
        "  case\n",
        "    when num_learners_registered <30 then 'low'\n",
        "    when num_learners_registered < 100 then 'medium'\n",
        "    when num_learners_registered >= 100 then 'high'\n",
        "  end as num_learners_bucket,\n",
        "  min(nps) as min_nps,\n",
        "  max(nps) as max_nps,\n",
        "  avg(nps) as avg_nps\n",
        "FROM\n",
        "  courses\n",
        "WHERE\n",
        "  num_learners_registered is not NULL\n",
        "GROUP BY\n",
        "  case\n",
        "    when num_learners_registered <30 then 'low'\n",
        "    when num_learners_registered < 100 then 'medium'\n",
        "    when num_learners_registered >= 100 then 'high'\n",
        "  end\n",
        "\n",
        "\n",
        "        \"\"\"\n",
        "\n",
        "run(query)\n",
        "check(q_4_2 = query)"
      ],
      "metadata": {
        "id": "vbyVI06CKvvt",
        "colab": {
          "base_uri": "https://localhost:8080/",
          "height": 150
        },
        "outputId": "e3c211ce-6935-42ba-b2ae-dd1425a6ed5f"
      },
      "execution_count": null,
      "outputs": [
        {
          "output_type": "display_data",
          "data": {
            "text/plain": [
              "<IPython.core.display.HTML object>"
            ],
            "text/html": [
              "\n",
              "<style>\n",
              "  html {\n",
              "    --td-font-color: black;\n",
              "    --font-color: black;\n",
              "    --background-color: #e0e0e0;\n",
              "  }\n",
              "  html[theme=dark] {\n",
              "    --td-font-color: white;\n",
              "    --font-color: black;\n",
              "    --background-color: #6688ff;\n",
              "  }\n",
              "  th {\n",
              "    background: #fbd44c;\n",
              "    color: var(--font-color);\n",
              "    font-size: 16px;\n",
              "    text-align: center;\n",
              "    font-weight: bold;\n",
              "  }\n",
              "  tr:nth-child(even) {\n",
              "    background-color: var(--background-color);\n",
              "    color: var(--font-color);\n",
              "  }\n",
              "  td {\n",
              "    font-size: 14px;\n",
              "    color: var(--td-font-color);\n",
              "  }\n",
              "</style>\n",
              "<div style='max-height: 500px; overflow: auto; width: fit-content; border-style: solid; border-width: 1px; border-color: #0139fe; font-family: GT Planar,Inter,Arial,sans-serif;'><style type=\"text/css\">\n",
              "</style>\n",
              "<table id=\"T_8eb44_\">\n",
              "  <thead>\n",
              "    <tr>\n",
              "      <th class=\"blank level0\" >&nbsp;</th>\n",
              "      <th class=\"col_heading level0 col0\" >num_learners_bucket</th>\n",
              "      <th class=\"col_heading level0 col1\" >min_nps</th>\n",
              "      <th class=\"col_heading level0 col2\" >max_nps</th>\n",
              "      <th class=\"col_heading level0 col3\" >avg_nps</th>\n",
              "    </tr>\n",
              "  </thead>\n",
              "  <tbody>\n",
              "    <tr>\n",
              "      <th id=\"T_8eb44_level0_row0\" class=\"row_heading level0 row0\" >0</th>\n",
              "      <td id=\"T_8eb44_row0_col0\" class=\"data row0 col0\" >high</td>\n",
              "      <td id=\"T_8eb44_row0_col1\" class=\"data row0 col1\" >41</td>\n",
              "      <td id=\"T_8eb44_row0_col2\" class=\"data row0 col2\" >89</td>\n",
              "      <td id=\"T_8eb44_row0_col3\" class=\"data row0 col3\" >68.44</td>\n",
              "    </tr>\n",
              "    <tr>\n",
              "      <th id=\"T_8eb44_level0_row1\" class=\"row_heading level0 row1\" >1</th>\n",
              "      <td id=\"T_8eb44_row1_col0\" class=\"data row1 col0\" >low</td>\n",
              "      <td id=\"T_8eb44_row1_col1\" class=\"data row1 col1\" >56</td>\n",
              "      <td id=\"T_8eb44_row1_col2\" class=\"data row1 col2\" >99</td>\n",
              "      <td id=\"T_8eb44_row1_col3\" class=\"data row1 col3\" >78.24</td>\n",
              "    </tr>\n",
              "    <tr>\n",
              "      <th id=\"T_8eb44_level0_row2\" class=\"row_heading level0 row2\" >2</th>\n",
              "      <td id=\"T_8eb44_row2_col0\" class=\"data row2 col0\" >medium</td>\n",
              "      <td id=\"T_8eb44_row2_col1\" class=\"data row2 col1\" >40</td>\n",
              "      <td id=\"T_8eb44_row2_col2\" class=\"data row2 col2\" >89</td>\n",
              "      <td id=\"T_8eb44_row2_col3\" class=\"data row2 col3\" >67.47</td>\n",
              "    </tr>\n",
              "  </tbody>\n",
              "</table>\n",
              "</div>"
            ]
          },
          "metadata": {}
        },
        {
          "output_type": "stream",
          "name": "stdout",
          "text": [
            "-------------------\n",
            "Your SQL query is correct!\n"
          ]
        }
      ]
    },
    {
      "cell_type": "markdown",
      "source": [
        "Aha! You observe something very interesting right away: all courses with fewer than 30 learners have extremely high nps compared to the other buckets. That's great, but the premise of CoRise is to scale the quality of experience and learning for as many learners as possible. So we would like to see the medium and high buckets also improve. The head of content decides to explore what aspects of the platform can be improved even when we have a large scale offline."
      ],
      "metadata": {
        "id": "FtOF4I903sM4"
      }
    },
    {
      "cell_type": "markdown",
      "source": [
        "While the head of content is exploring how to improve high registration courses offline, you have been joining the head of course content in some feedback interviews with learners. The positive interviews always seems to have two flavors: a few learners preferred courses that ran longer and dug deeper into an area, while others preferred courses that were quick and exposed them to a new area. You decide to investigate this and see if somehow the nps was correlated to this combination of the length of the course and the level of the course."
      ],
      "metadata": {
        "id": "NgZQp3T_4gU-"
      }
    },
    {
      "cell_type": "code",
      "source": [
        "### Question:q_4_3\n",
        "### Let's designate courses that are less than 4 weeks to be 'short'\n",
        "### and all the others 'long' and call this course_duration.\n",
        "### Let's get the average nps for each course_level and course_duration combination.\n",
        "### Note there should be four rows in your output given that\n",
        "### we have two values for course_duration and two values for course_level.\n",
        "### Output columns: course_duration, course_level, avg_nps\n",
        "query = \"\"\"\n",
        "\n",
        "SELECT\n",
        " case\n",
        "    when num_weeks < 4 then 'short'\n",
        "    when num_weeks >= 4 then 'long'\n",
        "    end as course_duration,\n",
        "  course_level,\n",
        "  avg(nps) as avg_nps\n",
        "FROM\n",
        "  courses\n",
        "GROUP BY\n",
        "  case\n",
        "    when num_weeks < 4 then 'short'\n",
        "    when num_weeks >= 4 then 'long'\n",
        "  end,\n",
        "  course_level\n",
        "\n",
        "\n",
        "        \"\"\"\n",
        "\n",
        "run(query)\n",
        "check(q_4_3 = query)"
      ],
      "metadata": {
        "id": "qEwsg1XrNrSP",
        "colab": {
          "base_uri": "https://localhost:8080/",
          "height": 174
        },
        "outputId": "df20bdda-3321-42ea-e3f2-1ff8341fe4c6"
      },
      "execution_count": null,
      "outputs": [
        {
          "output_type": "display_data",
          "data": {
            "text/plain": [
              "<IPython.core.display.HTML object>"
            ],
            "text/html": [
              "\n",
              "<style>\n",
              "  html {\n",
              "    --td-font-color: black;\n",
              "    --font-color: black;\n",
              "    --background-color: #e0e0e0;\n",
              "  }\n",
              "  html[theme=dark] {\n",
              "    --td-font-color: white;\n",
              "    --font-color: black;\n",
              "    --background-color: #6688ff;\n",
              "  }\n",
              "  th {\n",
              "    background: #fbd44c;\n",
              "    color: var(--font-color);\n",
              "    font-size: 16px;\n",
              "    text-align: center;\n",
              "    font-weight: bold;\n",
              "  }\n",
              "  tr:nth-child(even) {\n",
              "    background-color: var(--background-color);\n",
              "    color: var(--font-color);\n",
              "  }\n",
              "  td {\n",
              "    font-size: 14px;\n",
              "    color: var(--td-font-color);\n",
              "  }\n",
              "</style>\n",
              "<div style='max-height: 500px; overflow: auto; width: fit-content; border-style: solid; border-width: 1px; border-color: #0139fe; font-family: GT Planar,Inter,Arial,sans-serif;'><style type=\"text/css\">\n",
              "</style>\n",
              "<table id=\"T_5c930_\">\n",
              "  <thead>\n",
              "    <tr>\n",
              "      <th class=\"blank level0\" >&nbsp;</th>\n",
              "      <th class=\"col_heading level0 col0\" >course_duration</th>\n",
              "      <th class=\"col_heading level0 col1\" >course_level</th>\n",
              "      <th class=\"col_heading level0 col2\" >avg_nps</th>\n",
              "    </tr>\n",
              "  </thead>\n",
              "  <tbody>\n",
              "    <tr>\n",
              "      <th id=\"T_5c930_level0_row0\" class=\"row_heading level0 row0\" >0</th>\n",
              "      <td id=\"T_5c930_row0_col0\" class=\"data row0 col0\" >long</td>\n",
              "      <td id=\"T_5c930_row0_col1\" class=\"data row0 col1\" >A</td>\n",
              "      <td id=\"T_5c930_row0_col2\" class=\"data row0 col2\" >73.63</td>\n",
              "    </tr>\n",
              "    <tr>\n",
              "      <th id=\"T_5c930_level0_row1\" class=\"row_heading level0 row1\" >1</th>\n",
              "      <td id=\"T_5c930_row1_col0\" class=\"data row1 col0\" >long</td>\n",
              "      <td id=\"T_5c930_row1_col1\" class=\"data row1 col1\" >B</td>\n",
              "      <td id=\"T_5c930_row1_col2\" class=\"data row1 col2\" >64.00</td>\n",
              "    </tr>\n",
              "    <tr>\n",
              "      <th id=\"T_5c930_level0_row2\" class=\"row_heading level0 row2\" >2</th>\n",
              "      <td id=\"T_5c930_row2_col0\" class=\"data row2 col0\" >short</td>\n",
              "      <td id=\"T_5c930_row2_col1\" class=\"data row2 col1\" >A</td>\n",
              "      <td id=\"T_5c930_row2_col2\" class=\"data row2 col2\" >65.52</td>\n",
              "    </tr>\n",
              "    <tr>\n",
              "      <th id=\"T_5c930_level0_row3\" class=\"row_heading level0 row3\" >3</th>\n",
              "      <td id=\"T_5c930_row3_col0\" class=\"data row3 col0\" >short</td>\n",
              "      <td id=\"T_5c930_row3_col1\" class=\"data row3 col1\" >B</td>\n",
              "      <td id=\"T_5c930_row3_col2\" class=\"data row3 col2\" >75.26</td>\n",
              "    </tr>\n",
              "  </tbody>\n",
              "</table>\n",
              "</div>"
            ]
          },
          "metadata": {}
        },
        {
          "output_type": "stream",
          "name": "stdout",
          "text": [
            "-------------------\n",
            "Your SQL query is correct!\n"
          ]
        }
      ]
    },
    {
      "cell_type": "markdown",
      "source": [
        "Aha! Indeed the advanced courses seem to make more sense when they are run longer. Perhaps the learners feel they are able to dig into the subject. Conversely, shorter basic courses are more valuable - just a quickstart or a crash course to get introduced to a new area so they can come back to advanced courses after digesting the basic course quickly. A great analysis by you and something that has made a huge dent in understanding the course data!"
      ],
      "metadata": {
        "id": "fOvSvRQNPzXG"
      }
    },
    {
      "cell_type": "markdown",
      "source": [
        "# **Conclusion:** That was some fantastic work! Your SQL skills are really getting polished, and you're now ready for the tests ahead of you involving multiple tables."
      ],
      "metadata": {
        "id": "G9N7hL1WQWty"
      }
    }
  ]
}