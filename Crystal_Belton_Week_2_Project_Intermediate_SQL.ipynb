{
  "nbformat": 4,
  "nbformat_minor": 0,
  "metadata": {
    "colab": {
      "provenance": [],
      "collapsed_sections": [
        "Pg-a7-xULZ7m"
      ],
      "include_colab_link": true
    },
    "kernelspec": {
      "name": "python3",
      "display_name": "Python 3"
    },
    "language_info": {
      "name": "python"
    }
  },
  "cells": [
    {
      "cell_type": "markdown",
      "metadata": {
        "id": "view-in-github",
        "colab_type": "text"
      },
      "source": [
        "<a href=\"https://colab.research.google.com/github/cmarie-bel/CoRise_Projects/blob/main/Crystal_Belton_Week_2_Project_Intermediate_SQL.ipynb\" target=\"_parent\"><img src=\"https://colab.research.google.com/assets/colab-badge.svg\" alt=\"Open In Colab\"/></a>"
      ]
    },
    {
      "cell_type": "markdown",
      "source": [
        "> 1. DUPLICATE THIS COLAB TO START WORKING ON IT. Using File > Save a copy to drive.\n",
        "> 2. SHARE SETTINGS: In the new notebook, set the sharing settings to \"Anyone with the link\" by clicking \"Share\" on the top right corner.\n",
        "\n",
        "\n",
        "\n",
        "\n",
        "\n",
        "Welcome to this second week's project for *Intermediate SQL*!\n",
        "\n",
        "This week's lecture and material on CoRise showed you how to write joins in SQL and combine that with other things you learned in Week 1. For this project we further your understanding of these concepts by delving a bit deeper. However, for everything covered in this project, you can find related examples in our course material.\n"
      ],
      "metadata": {
        "id": "yVrZZ06OG2LW"
      }
    },
    {
      "cell_type": "markdown",
      "source": [
        "# **Prerequisite configuration**\n",
        "Below we install the software required to run this project. Please make sure to **RUN IT** by clicking on the play-button icon and to feel free to ignore the content of these two hidden cells."
      ],
      "metadata": {
        "id": "Pg-a7-xULZ7m"
      }
    },
    {
      "cell_type": "code",
      "execution_count": null,
      "metadata": {
        "id": "gUx2DQloGAzk"
      },
      "outputs": [],
      "source": [
        "%%capture\n",
        "!pip install git+https://github.com/corise-edu/course-intermediate-sql.git"
      ]
    },
    {
      "cell_type": "code",
      "source": [
        "import pandas as pd\n",
        "from IPython.display import display, HTML\n",
        "from sql_course import run as sql_run\n",
        "from sql_course import check\n",
        "\n",
        "# Show all the rows (instead of only a few)\n",
        "pd.set_option(\"display.max_rows\", None)\n",
        "\n",
        "# Set precision to max 2 decimals\n",
        "pd.set_option('precision', 2)\n",
        "\n",
        "# Set CSS Style for Table\n",
        "# Make it work with night & light mode\n",
        "# - Alternating rows\n",
        "# - th elements\n",
        "# - td elements\n",
        "css_style = '''\n",
        "<style>\n",
        "  html {\n",
        "    --td-font-color: black;\n",
        "    --font-color: black;\n",
        "    --background-color: #e0e0e0;\n",
        "  }\n",
        "  html[theme=dark] {\n",
        "    --td-font-color: white;\n",
        "    --font-color: black;\n",
        "    --background-color: #6688ff;\n",
        "  }\n",
        "  th {\n",
        "    background: #fbd44c;\n",
        "    color: var(--font-color);\n",
        "    font-size: 16px;\n",
        "    text-align: center;\n",
        "    font-weight: bold;\n",
        "  }\n",
        "  tr:nth-child(even) {\n",
        "    background-color: var(--background-color);\n",
        "    color: var(--font-color);\n",
        "  }\n",
        "  td {\n",
        "    font-size: 14px;\n",
        "    color: var(--td-font-color);\n",
        "  }\n",
        "</style>\n",
        "'''\n",
        "\n",
        "\n",
        "def run(sql_query):\n",
        "  df = sql_run(sql_query)\n",
        "\n",
        "  # Puts the scrollbar next to the DataFrame\n",
        "  display(HTML(css_style +\n",
        "               \"<div style='max-height: 500px; overflow: auto; width: fit-content; border-style: solid;\" +\n",
        "               \" border-width: 1px; border-color: #0139fe; font-family: GT Planar,Inter,Arial,sans-serif;'>\" +\n",
        "               df.style.render() +\n",
        "               \"</div>\"))"
      ],
      "metadata": {
        "id": "n-vdL9gWT2rm"
      },
      "execution_count": null,
      "outputs": []
    },
    {
      "cell_type": "markdown",
      "source": [
        "# **The Setting:**\n",
        "\n",
        "Your career at CoRise has continued to grow. As the complexity has increased in their database tracking course-related information, your role has expanded to include proactively looking for patterns in the data.\n",
        "\n",
        "You are storing information in an interrelated set of tables now, and you need to bring out your ace SQL skills to satisfy your data curiosity.\n",
        "\n",
        "We will be going through a series of analyses to identify avenues for growing the impact of the awesome courses that are coming out of CoRise. As before, we are focused on nps as the key metric to evaluate how our courses are being received by the learners. We want to continue to explore the possible correlation of various data elements with the nps."
      ],
      "metadata": {
        "id": "399KLP3Un1yc"
      }
    },
    {
      "cell_type": "markdown",
      "source": [
        "\n",
        "# **Schema:**\n",
        "\n",
        "As we discussed in the lessons, the `courses` table from Week 1 has been replaced with the five tables below:\n",
        "\n",
        "\n",
        "```\n",
        "create table course_info (\n",
        "course_id integer,\n",
        "course_name text,\n",
        "course_desc text,\n",
        "course_category text,\n",
        "course_level text\n",
        ");\n",
        "```\n",
        "\n",
        "```\n",
        "create table instructors (\n",
        "instructor_id integer,\n",
        "name text,\n",
        "affiliation text,\n",
        "teaching_experience integer\n",
        ");\n",
        "```\n",
        "\n",
        "```\n",
        "create table learners (\n",
        "learner_id integer,\n",
        "name text,\n",
        "affiliation text\n",
        ");\n",
        "```\n",
        "\n",
        "```\n",
        "create table course_run (\n",
        "course_run_id integer,\n",
        "course_id integer,\n",
        "instructor_id integer,\n",
        "start_date date,\n",
        "num_weeks integer,\n",
        "num_TAs integer,\n",
        "nps integer\n",
        ");\n",
        "```\n",
        "\n",
        "```\n",
        "create table course_registration_info (\n",
        "course_run_id integer,\n",
        "learner_id integer\n",
        ");\n",
        "```"
      ],
      "metadata": {
        "id": "3DJlXcRBpAQd"
      }
    },
    {
      "cell_type": "markdown",
      "source": [
        "# **Disclaimer**\n",
        "\n",
        "Any resemblance of the data in this table to anything real (other than the names and descriptions of courses) is entirely random (could have been my pseudo random generator or my own imagination, since it isn't easy to distinguish between the two :-), so do not stress yourself out trying to make sense of any categorization, such as why a course run might even overlap with another run and other such niceties)."
      ],
      "metadata": {
        "id": "pXsklbFABCaa"
      }
    },
    {
      "cell_type": "markdown",
      "source": [
        "# **Preamble**\n",
        "\n",
        "Let's begin by revisiting some queries that we did on the `courses` table last week, except this week you will likely have to combine multiple tables to answer those queries! The first three parts of this week's project are identical to the corresponding sections from last week. This will hopefully serve to contrast how the same English query translates to SQL depending on the schema (how normalized it is or isn't).\n",
        "\n",
        "Please take care to not use the `courses` table from last week in any of your queries. You don't need that table any longer - in fact the goal of this week's project is to work using the normalized schema described above. Although you may be able to get correct answers for some of the queries by using the old `courses` table, please ensure that you're using the new table names this week."
      ],
      "metadata": {
        "id": "6vDfuvmWZslc"
      }
    },
    {
      "cell_type": "markdown",
      "source": [
        "# **Part 1 - Digging into Machine Learning Courses:**\n",
        "\n",
        "\n",
        "\n",
        "You have heard from your boss that Machine Learning is a very important category for the CoRise business, and it would be very good to keep expanding the scope of the courses in this broad area. But first, we should understand reality as it is today. So, your logical next question:\n",
        "\n",
        "\n"
      ],
      "metadata": {
        "id": "0gQEqxGCKN6d"
      }
    },
    {
      "cell_type": "code",
      "source": [
        "### Question: q2_1_1\n",
        "### For the course category 'Machine Learning,'\n",
        "### how many courses have we run so far?\n",
        "### Output columns: cnt\n",
        "query = \"\"\"\n",
        "\n",
        "SELECT COUNT(*) AS cnt\n",
        "FROM course_run AS CR INNER JOIN course_info AS CI ON CR.course_id = CI.course_id\n",
        "WHERE CI.course_category = 'Machine Learning'\n",
        "\n",
        "         \"\"\"\n",
        "\n",
        "run(query)\n",
        "check(q2_1_1 = query)\n",
        "\n"
      ],
      "metadata": {
        "id": "Oazg336EL7zH",
        "colab": {
          "base_uri": "https://localhost:8080/",
          "height": 102
        },
        "outputId": "f34dbe8b-b71d-4c17-e818-a8614abab70d"
      },
      "execution_count": null,
      "outputs": [
        {
          "output_type": "display_data",
          "data": {
            "text/plain": [
              "<IPython.core.display.HTML object>"
            ],
            "text/html": [
              "\n",
              "<style>\n",
              "  html {\n",
              "    --td-font-color: black;\n",
              "    --font-color: black;\n",
              "    --background-color: #e0e0e0;\n",
              "  }\n",
              "  html[theme=dark] {\n",
              "    --td-font-color: white;\n",
              "    --font-color: black;\n",
              "    --background-color: #6688ff;\n",
              "  }\n",
              "  th {\n",
              "    background: #fbd44c;\n",
              "    color: var(--font-color);\n",
              "    font-size: 16px;\n",
              "    text-align: center;\n",
              "    font-weight: bold;\n",
              "  }\n",
              "  tr:nth-child(even) {\n",
              "    background-color: var(--background-color);\n",
              "    color: var(--font-color);\n",
              "  }\n",
              "  td {\n",
              "    font-size: 14px;\n",
              "    color: var(--td-font-color);\n",
              "  }\n",
              "</style>\n",
              "<div style='max-height: 500px; overflow: auto; width: fit-content; border-style: solid; border-width: 1px; border-color: #0139fe; font-family: GT Planar,Inter,Arial,sans-serif;'><style type=\"text/css\">\n",
              "</style>\n",
              "<table id=\"T_9dafd_\">\n",
              "  <thead>\n",
              "    <tr>\n",
              "      <th class=\"blank level0\" >&nbsp;</th>\n",
              "      <th class=\"col_heading level0 col0\" >cnt</th>\n",
              "    </tr>\n",
              "  </thead>\n",
              "  <tbody>\n",
              "    <tr>\n",
              "      <th id=\"T_9dafd_level0_row0\" class=\"row_heading level0 row0\" >0</th>\n",
              "      <td id=\"T_9dafd_row0_col0\" class=\"data row0 col0\" >310</td>\n",
              "    </tr>\n",
              "  </tbody>\n",
              "</table>\n",
              "</div>"
            ]
          },
          "metadata": {}
        },
        {
          "output_type": "stream",
          "name": "stdout",
          "text": [
            "-------------------\n",
            "Your SQL query is correct!\n"
          ]
        }
      ]
    },
    {
      "cell_type": "markdown",
      "source": [
        "It's useful information to be able to see that we have run 310 courses so far. To dig deeper, you decide to look at how many courses we have run for each year to get an idea of that distribution."
      ],
      "metadata": {
        "id": "UHsB9YxhDI4x"
      }
    },
    {
      "cell_type": "code",
      "source": [
        "### Question: q2_1_2\n",
        "### For the course category 'Machine Learning,'\n",
        "### how many courses have we run so far for each calendar year?\n",
        "### Output Columns: year, count_by_year\n",
        "\n",
        "query = \"\"\"\n",
        "\n",
        "SELECT\n",
        "  strftime('%Y', cr.start_date) AS year,\n",
        "  count (*) AS count_by_year\n",
        "FROM course_run as CR INNER JOIN course_info AS CI ON (cr.course_id = ci.course_id)\n",
        "WHERE CI.course_category = 'Machine Learning'\n",
        "GROUP BY year\n",
        "\n",
        "\n",
        "         \"\"\"\n",
        "\n",
        "run(query)\n",
        "check(q2_1_2 = query)"
      ],
      "metadata": {
        "id": "olO-nbyADdDw",
        "colab": {
          "base_uri": "https://localhost:8080/",
          "height": 267
        },
        "outputId": "4c8c2f2f-fc2b-4698-de83-ce220752957f"
      },
      "execution_count": null,
      "outputs": [
        {
          "output_type": "display_data",
          "data": {
            "text/plain": [
              "<IPython.core.display.HTML object>"
            ],
            "text/html": [
              "\n",
              "<style>\n",
              "  html {\n",
              "    --td-font-color: black;\n",
              "    --font-color: black;\n",
              "    --background-color: #e0e0e0;\n",
              "  }\n",
              "  html[theme=dark] {\n",
              "    --td-font-color: white;\n",
              "    --font-color: black;\n",
              "    --background-color: #6688ff;\n",
              "  }\n",
              "  th {\n",
              "    background: #fbd44c;\n",
              "    color: var(--font-color);\n",
              "    font-size: 16px;\n",
              "    text-align: center;\n",
              "    font-weight: bold;\n",
              "  }\n",
              "  tr:nth-child(even) {\n",
              "    background-color: var(--background-color);\n",
              "    color: var(--font-color);\n",
              "  }\n",
              "  td {\n",
              "    font-size: 14px;\n",
              "    color: var(--td-font-color);\n",
              "  }\n",
              "</style>\n",
              "<div style='max-height: 500px; overflow: auto; width: fit-content; border-style: solid; border-width: 1px; border-color: #0139fe; font-family: GT Planar,Inter,Arial,sans-serif;'><style type=\"text/css\">\n",
              "</style>\n",
              "<table id=\"T_92e46_\">\n",
              "  <thead>\n",
              "    <tr>\n",
              "      <th class=\"blank level0\" >&nbsp;</th>\n",
              "      <th class=\"col_heading level0 col0\" >year</th>\n",
              "      <th class=\"col_heading level0 col1\" >count_by_year</th>\n",
              "    </tr>\n",
              "  </thead>\n",
              "  <tbody>\n",
              "    <tr>\n",
              "      <th id=\"T_92e46_level0_row0\" class=\"row_heading level0 row0\" >0</th>\n",
              "      <td id=\"T_92e46_row0_col0\" class=\"data row0 col0\" >2016</td>\n",
              "      <td id=\"T_92e46_row0_col1\" class=\"data row0 col1\" >35</td>\n",
              "    </tr>\n",
              "    <tr>\n",
              "      <th id=\"T_92e46_level0_row1\" class=\"row_heading level0 row1\" >1</th>\n",
              "      <td id=\"T_92e46_row1_col0\" class=\"data row1 col0\" >2017</td>\n",
              "      <td id=\"T_92e46_row1_col1\" class=\"data row1 col1\" >45</td>\n",
              "    </tr>\n",
              "    <tr>\n",
              "      <th id=\"T_92e46_level0_row2\" class=\"row_heading level0 row2\" >2</th>\n",
              "      <td id=\"T_92e46_row2_col0\" class=\"data row2 col0\" >2018</td>\n",
              "      <td id=\"T_92e46_row2_col1\" class=\"data row2 col1\" >37</td>\n",
              "    </tr>\n",
              "    <tr>\n",
              "      <th id=\"T_92e46_level0_row3\" class=\"row_heading level0 row3\" >3</th>\n",
              "      <td id=\"T_92e46_row3_col0\" class=\"data row3 col0\" >2019</td>\n",
              "      <td id=\"T_92e46_row3_col1\" class=\"data row3 col1\" >39</td>\n",
              "    </tr>\n",
              "    <tr>\n",
              "      <th id=\"T_92e46_level0_row4\" class=\"row_heading level0 row4\" >4</th>\n",
              "      <td id=\"T_92e46_row4_col0\" class=\"data row4 col0\" >2020</td>\n",
              "      <td id=\"T_92e46_row4_col1\" class=\"data row4 col1\" >51</td>\n",
              "    </tr>\n",
              "    <tr>\n",
              "      <th id=\"T_92e46_level0_row5\" class=\"row_heading level0 row5\" >5</th>\n",
              "      <td id=\"T_92e46_row5_col0\" class=\"data row5 col0\" >2021</td>\n",
              "      <td id=\"T_92e46_row5_col1\" class=\"data row5 col1\" >38</td>\n",
              "    </tr>\n",
              "    <tr>\n",
              "      <th id=\"T_92e46_level0_row6\" class=\"row_heading level0 row6\" >6</th>\n",
              "      <td id=\"T_92e46_row6_col0\" class=\"data row6 col0\" >2022</td>\n",
              "      <td id=\"T_92e46_row6_col1\" class=\"data row6 col1\" >33</td>\n",
              "    </tr>\n",
              "    <tr>\n",
              "      <th id=\"T_92e46_level0_row7\" class=\"row_heading level0 row7\" >7</th>\n",
              "      <td id=\"T_92e46_row7_col0\" class=\"data row7 col0\" >2023</td>\n",
              "      <td id=\"T_92e46_row7_col1\" class=\"data row7 col1\" >32</td>\n",
              "    </tr>\n",
              "  </tbody>\n",
              "</table>\n",
              "</div>"
            ]
          },
          "metadata": {}
        },
        {
          "output_type": "stream",
          "name": "stdout",
          "text": [
            "-------------------\n",
            "Your SQL query is correct!\n"
          ]
        }
      ]
    },
    {
      "cell_type": "markdown",
      "source": [
        "Hmm... Anecdotally you seem to recollect that we are running 60+ courses a year that can be termed 'Machine Learning.' The general talk around the water cooler is that we seem to have 5 ML courses a month. We would need to be running quite a few more courses to get to 60 per year. One thing that comes to your notice is that there are perhaps courses that are not filed under the 'Machine Learning' category but could still be considered 'Machine Learning.' You decide to look for some words in the name and description to potentially infer other courses that you could consider 'Machine Learning.'"
      ],
      "metadata": {
        "id": "FrUR3V_8D7gQ"
      }
    },
    {
      "cell_type": "code",
      "source": [
        "### Question: q2_1_3\n",
        "### Retrieve distinct combinations of name, category and descriptions of courses\n",
        "### that contain one of the words 'ml' or 'learning' or 'models'\n",
        "### We want the match to be case-insensitive.\n",
        "### Note that in general this need not be the same set of courses\n",
        "### as ones that belong to the category 'Machine Learning'.\n",
        "### Output Columns: course_name, course_category, course_desc\n",
        "\n",
        "query = \"\"\"\n",
        "\n",
        "SELECT DISTINCT\n",
        "  course_name,\n",
        "  course_category,\n",
        "  course_desc\n",
        "FROM course_info\n",
        "WHERE\n",
        " lower(course_name || course_category || course_desc) LIKE '%ml%'\n",
        "    OR lower(course_name || course_category || course_desc) LIKE '%learning%'\n",
        "    OR lower(course_name || course_category || course_desc) LIKE '%models%'\n",
        "\n",
        "         \"\"\"\n",
        "\n",
        "run(query)\n",
        "check(q2_1_3 = query)"
      ],
      "metadata": {
        "id": "LMwc_6ahP133",
        "colab": {
          "base_uri": "https://localhost:8080/",
          "height": 554
        },
        "outputId": "2b3685c8-0863-44d8-e2e4-06c8cd695bd2"
      },
      "execution_count": null,
      "outputs": [
        {
          "output_type": "display_data",
          "data": {
            "text/plain": [
              "<IPython.core.display.HTML object>"
            ],
            "text/html": [
              "\n",
              "<style>\n",
              "  html {\n",
              "    --td-font-color: black;\n",
              "    --font-color: black;\n",
              "    --background-color: #e0e0e0;\n",
              "  }\n",
              "  html[theme=dark] {\n",
              "    --td-font-color: white;\n",
              "    --font-color: black;\n",
              "    --background-color: #6688ff;\n",
              "  }\n",
              "  th {\n",
              "    background: #fbd44c;\n",
              "    color: var(--font-color);\n",
              "    font-size: 16px;\n",
              "    text-align: center;\n",
              "    font-weight: bold;\n",
              "  }\n",
              "  tr:nth-child(even) {\n",
              "    background-color: var(--background-color);\n",
              "    color: var(--font-color);\n",
              "  }\n",
              "  td {\n",
              "    font-size: 14px;\n",
              "    color: var(--td-font-color);\n",
              "  }\n",
              "</style>\n",
              "<div style='max-height: 500px; overflow: auto; width: fit-content; border-style: solid; border-width: 1px; border-color: #0139fe; font-family: GT Planar,Inter,Arial,sans-serif;'><style type=\"text/css\">\n",
              "</style>\n",
              "<table id=\"T_77945_\">\n",
              "  <thead>\n",
              "    <tr>\n",
              "      <th class=\"blank level0\" >&nbsp;</th>\n",
              "      <th class=\"col_heading level0 col0\" >course_name</th>\n",
              "      <th class=\"col_heading level0 col1\" >course_category</th>\n",
              "      <th class=\"col_heading level0 col2\" >course_desc</th>\n",
              "    </tr>\n",
              "  </thead>\n",
              "  <tbody>\n",
              "    <tr>\n",
              "      <th id=\"T_77945_level0_row0\" class=\"row_heading level0 row0\" >0</th>\n",
              "      <td id=\"T_77945_row0_col0\" class=\"data row0 col0\" >Spoken Language Processing</td>\n",
              "      <td id=\"T_77945_row0_col1\" class=\"data row0 col1\" >Language Processing</td>\n",
              "      <td id=\"T_77945_row0_col2\" class=\"data row0 col2\" >Learn to design and build voice assistant or voice cloning systems;using available APIs and adjustable pre-trained models;as well as creating them from scratch in PyTorch. You will learn solid audio processing fundamentals combined with the most important advances in automatic speech recognition and speech synthesis methods.</td>\n",
              "    </tr>\n",
              "    <tr>\n",
              "      <th id=\"T_77945_level0_row1\" class=\"row_heading level0 row1\" >1</th>\n",
              "      <td id=\"T_77945_row1_col0\" class=\"data row1 col0\" >Social Media Mining</td>\n",
              "      <td id=\"T_77945_row1_col1\" class=\"data row1 col1\" >Language Processing</td>\n",
              "      <td id=\"T_77945_row1_col2\" class=\"data row1 col2\" >Collect;analyze;and present insights from social media data — including the Twitter API — while learning concepts of natural language processing and graph analytics.</td>\n",
              "    </tr>\n",
              "    <tr>\n",
              "      <th id=\"T_77945_level0_row2\" class=\"row_heading level0 row2\" >2</th>\n",
              "      <td id=\"T_77945_row2_col0\" class=\"data row2 col0\" >How to Implement ML Papers</td>\n",
              "      <td id=\"T_77945_row2_col1\" class=\"data row2 col1\" >Machine Learning</td>\n",
              "      <td id=\"T_77945_row2_col2\" class=\"data row2 col2\" >Learn how to implement the proposed algorithms;models;and techniques from ML papers each week;while learning tips and tricks on debugging the implementation efforts and how to reproduce results in your own applications.</td>\n",
              "    </tr>\n",
              "    <tr>\n",
              "      <th id=\"T_77945_level0_row3\" class=\"row_heading level0 row3\" >3</th>\n",
              "      <td id=\"T_77945_row3_col0\" class=\"data row3 col0\" >Python for Data Science</td>\n",
              "      <td id=\"T_77945_row3_col1\" class=\"data row3 col1\" >Machine Learning</td>\n",
              "      <td id=\"T_77945_row3_col2\" class=\"data row3 col2\" >Build projects like computing your own heart rate from an ECG;building a Shazam music identifier clone;and more while learning how to use core python libraries like Numpy;Scipy;Scikit;and Matplotlib.</td>\n",
              "    </tr>\n",
              "    <tr>\n",
              "      <th id=\"T_77945_level0_row4\" class=\"row_heading level0 row4\" >4</th>\n",
              "      <td id=\"T_77945_row4_col0\" class=\"data row4 col0\" >MLOps: From Models to Production</td>\n",
              "      <td id=\"T_77945_row4_col1\" class=\"data row4 col1\" >Machine Learning</td>\n",
              "      <td id=\"T_77945_row4_col2\" class=\"data row4 col2\" >Acquire the skills to build effective real-world ML systems (bootstrapping datasets;improving label quality;experimentation;model evaluation;deployment and observability) with hands-on projects. This course will help you bridge the gap between state-of-the-art ML modeling;and building real-world ML systems.</td>\n",
              "    </tr>\n",
              "    <tr>\n",
              "      <th id=\"T_77945_level0_row5\" class=\"row_heading level0 row5\" >5</th>\n",
              "      <td id=\"T_77945_row5_col0\" class=\"data row5 col0\" >Applied Machine Learning</td>\n",
              "      <td id=\"T_77945_row5_col1\" class=\"data row5 col1\" >Machine Learning</td>\n",
              "      <td id=\"T_77945_row5_col2\" class=\"data row5 col2\" >Design;build;and debug machine learning models for classification and regression tasks using a variety of datasets with Python (Numpy;Scikit;Pyplot). Learn best practices to plan and execute ML development projects whether large or small.</td>\n",
              "    </tr>\n",
              "    <tr>\n",
              "      <th id=\"T_77945_level0_row6\" class=\"row_heading level0 row6\" >6</th>\n",
              "      <td id=\"T_77945_row6_col0\" class=\"data row6 col0\" >Search with Machine Learning</td>\n",
              "      <td id=\"T_77945_row6_col1\" class=\"data row6 col1\" >Machine Learning</td>\n",
              "      <td id=\"T_77945_row6_col2\" class=\"data row6 col2\" >We have designed this course to cover the fundamentals of integrating machine learning and natural language processing techniques into search engines. We will dive into using machine learning for ranking;content understanding;and query understanding;along with how to use embeddings;dense vectors and deep learning to improve retrieval and ranking.</td>\n",
              "    </tr>\n",
              "    <tr>\n",
              "      <th id=\"T_77945_level0_row7\" class=\"row_heading level0 row7\" >7</th>\n",
              "      <td id=\"T_77945_row7_col0\" class=\"data row7 col0\" >Natural Language Processing</td>\n",
              "      <td id=\"T_77945_row7_col1\" class=\"data row7 col1\" >Language Processing</td>\n",
              "      <td id=\"T_77945_row7_col2\" class=\"data row7 col2\" >Build your own auto-compose tool and other projects while learning key NLP concepts such as BERT;entity recognition;intent classification;spacy;and Transformer models powering search engines like Google or voice assistants like Google Home or Amazon Alexa.</td>\n",
              "    </tr>\n",
              "    <tr>\n",
              "      <th id=\"T_77945_level0_row8\" class=\"row_heading level0 row8\" >8</th>\n",
              "      <td id=\"T_77945_row8_col0\" class=\"data row8 col0\" >Fundamentals of Data Modeling</td>\n",
              "      <td id=\"T_77945_row8_col1\" class=\"data row8 col1\" >Data Engineering</td>\n",
              "      <td id=\"T_77945_row8_col2\" class=\"data row8 col2\" >This course provides an introduction to the fundamentals of data modeling for modern data warehouses. We use the Kimball dimensional model to guide us;but that does not mean this class is all theory! We have designed this course so you will learn the theory behind data modeling (normalization / denormalization;star schemas;fact and dimension tables) and you will build actual models using real world data. We will use plain SQL so you can do modeling whether you only have access to SQL or you are using a tool like dbt. By the end of this course;you will have a deep understanding of dimensional modeling;and you will have built one from scratch.</td>\n",
              "    </tr>\n",
              "    <tr>\n",
              "      <th id=\"T_77945_level0_row9\" class=\"row_heading level0 row9\" >9</th>\n",
              "      <td id=\"T_77945_row9_col0\" class=\"data row9 col0\" >Building Computer Vision Applications</td>\n",
              "      <td id=\"T_77945_row9_col1\" class=\"data row9 col1\" >Machine Learning</td>\n",
              "      <td id=\"T_77945_row9_col2\" class=\"data row9 col2\" >This course provides an introduction to machine learning for computer vision with a focus on practical applications relevant to industry teams. In this course;we will “reverse-engineer” a number of applications;such as traffic flow analysis;digital medicine;optical character recognition;and video analytics.</td>\n",
              "    </tr>\n",
              "    <tr>\n",
              "      <th id=\"T_77945_level0_row10\" class=\"row_heading level0 row10\" >10</th>\n",
              "      <td id=\"T_77945_row10_col0\" class=\"data row10 col0\" >Personalized Recommendations at Scale</td>\n",
              "      <td id=\"T_77945_row10_col1\" class=\"data row10 col1\" >Machine Learning</td>\n",
              "      <td id=\"T_77945_row10_col2\" class=\"data row10 col2\" >Recommender systems undertake the challenging work to surface relevant content to users given millions of possible choices. In this course;we provide a holistic overview of Machine Learning modeling choices that go into developing and deploying multi-stage recommenders capable of serving recommendations from hundreds of million content choices to multiple hundred million users. The course goes into algorithmic models that power the various stages of the recommender;including the candidate generator;core ranker;user representation learning modules;and offline and online evaluation modules. The course ends with case studies;lessons;and practical considerations from deployed systems powering over 400 million users.</td>\n",
              "    </tr>\n",
              "    <tr>\n",
              "      <th id=\"T_77945_level0_row11\" class=\"row_heading level0 row11\" >11</th>\n",
              "      <td id=\"T_77945_row11_col0\" class=\"data row11 col0\" >Deep Learning Essentials</td>\n",
              "      <td id=\"T_77945_row11_col1\" class=\"data row11 col1\" >Deep Learning</td>\n",
              "      <td id=\"T_77945_row11_col2\" class=\"data row11 col2\" >Learn the foundations of deep learning and practice with training and implementing neural networks in Pytorch while covering topics including convolutional neural networks (CNNs);transformers;and generative adversarial networks (GANs).</td>\n",
              "    </tr>\n",
              "    <tr>\n",
              "      <th id=\"T_77945_level0_row12\" class=\"row_heading level0 row12\" >12</th>\n",
              "      <td id=\"T_77945_row12_col0\" class=\"data row12 col0\" >Data Centric Deep Learning</td>\n",
              "      <td id=\"T_77945_row12_col1\" class=\"data row12 col1\" >Deep Learning</td>\n",
              "      <td id=\"T_77945_row12_col2\" class=\"data row12 col2\" >A trope we often hear is that data is at the heart of deep learning. But how exactly do you manage;improve;and repair deep learning models with data? This course teaches students applied techniques to measure and improve data quality;deep learning infrastructure to do continuous testing and deployment;iterative annotation pipelines;and techniques to respond to distribution shift and adversarial examples. Projects will be grounded in practical challenges spanning computer vision and natural language processing.</td>\n",
              "    </tr>\n",
              "    <tr>\n",
              "      <th id=\"T_77945_level0_row13\" class=\"row_heading level0 row13\" >13</th>\n",
              "      <td id=\"T_77945_row13_col0\" class=\"data row13 col0\" >Analytics Engineering with dbt</td>\n",
              "      <td id=\"T_77945_row13_col1\" class=\"data row13 col1\" >Data Engineering</td>\n",
              "      <td id=\"T_77945_row13_col2\" class=\"data row13 col2\" >Learn the modern analytics stack and best practices as an analytics engineer by using dbt with e-commerce data. Build data models to address real-world strategic questions.</td>\n",
              "    </tr>\n",
              "    <tr>\n",
              "      <th id=\"T_77945_level0_row14\" class=\"row_heading level0 row14\" >14</th>\n",
              "      <td id=\"T_77945_row14_col0\" class=\"data row14 col0\" >Real Time Machine Learning</td>\n",
              "      <td id=\"T_77945_row14_col1\" class=\"data row14 col1\" >Machine Learning</td>\n",
              "      <td id=\"T_77945_row14_col2\" class=\"data row14 col2\" >Stream processing enables companies in every industry to drive intelligence and action in real-time by processing data as it comes in from sources such as IoT devices;customer interactions and order transactions;social media;etc.  Use cases for stream processing can broadly be categorized into four areas: streaming analytics;monitoring;leaderboard;and real-time predictions.  This course will cover stream processing paradigm;and streaming processing system architecture. Each week;students will build stream processing applications using widely adopted stream processing technologies;such as Apache Kafka;Apache Spark and Apache Flink.  </td>\n",
              "    </tr>\n",
              "  </tbody>\n",
              "</table>\n",
              "</div>"
            ]
          },
          "metadata": {}
        },
        {
          "output_type": "stream",
          "name": "stdout",
          "text": [
            "-------------------\n",
            "Your SQL query is correct!\n"
          ]
        }
      ]
    },
    {
      "cell_type": "markdown",
      "source": [
        "You found a few more courses that are in the 'Deep Learning' category and in the 'Language Processing' category that could be considered 'Machine Learning,' but you also found other courses that refer to data models under the 'Data Engineering' category. You decide to cross-check what would happen if you were to also count the courses run per year in the categories 'Deep Learning' and 'Language Processing.'"
      ],
      "metadata": {
        "id": "SSD8uMNLepby"
      }
    },
    {
      "cell_type": "code",
      "source": [
        "### Question: q2_1_4\n",
        "### For the course category 'Machine Learning', 'Deep Learning' & 'Language Processing'\n",
        "### how many courses have we run so far for each calendar year?\n",
        "### Output columns: year, count_by_year\n",
        "\n",
        "query = \"\"\"\n",
        "\n",
        "SELECT\n",
        "  strftime('%Y', course_run.start_date) AS year,\n",
        "  COUNT(*) AS count_by_year\n",
        "FROM\n",
        "  course_run INNER JOIN course_info ON (course_run.course_id = course_info.course_id)\n",
        "WHERE\n",
        "  course_info.course_category = 'Machine Learning'\n",
        "  OR course_info.course_category = 'Deep Learning'\n",
        "  OR course_info.course_category = 'Language Processing'\n",
        "GROUP BY strftime('%Y', course_run.start_date)\n",
        "\n",
        "\n",
        "        \"\"\"\n",
        "\n",
        "run(query)\n",
        "check(q2_1_4 = query)"
      ],
      "metadata": {
        "id": "0HKvaVMsP1gT",
        "colab": {
          "base_uri": "https://localhost:8080/",
          "height": 267
        },
        "outputId": "20715d89-4a84-4ad3-e21e-a59a51440db8"
      },
      "execution_count": null,
      "outputs": [
        {
          "output_type": "display_data",
          "data": {
            "text/plain": [
              "<IPython.core.display.HTML object>"
            ],
            "text/html": [
              "\n",
              "<style>\n",
              "  html {\n",
              "    --td-font-color: black;\n",
              "    --font-color: black;\n",
              "    --background-color: #e0e0e0;\n",
              "  }\n",
              "  html[theme=dark] {\n",
              "    --td-font-color: white;\n",
              "    --font-color: black;\n",
              "    --background-color: #6688ff;\n",
              "  }\n",
              "  th {\n",
              "    background: #fbd44c;\n",
              "    color: var(--font-color);\n",
              "    font-size: 16px;\n",
              "    text-align: center;\n",
              "    font-weight: bold;\n",
              "  }\n",
              "  tr:nth-child(even) {\n",
              "    background-color: var(--background-color);\n",
              "    color: var(--font-color);\n",
              "  }\n",
              "  td {\n",
              "    font-size: 14px;\n",
              "    color: var(--td-font-color);\n",
              "  }\n",
              "</style>\n",
              "<div style='max-height: 500px; overflow: auto; width: fit-content; border-style: solid; border-width: 1px; border-color: #0139fe; font-family: GT Planar,Inter,Arial,sans-serif;'><style type=\"text/css\">\n",
              "</style>\n",
              "<table id=\"T_213df_\">\n",
              "  <thead>\n",
              "    <tr>\n",
              "      <th class=\"blank level0\" >&nbsp;</th>\n",
              "      <th class=\"col_heading level0 col0\" >year</th>\n",
              "      <th class=\"col_heading level0 col1\" >count_by_year</th>\n",
              "    </tr>\n",
              "  </thead>\n",
              "  <tbody>\n",
              "    <tr>\n",
              "      <th id=\"T_213df_level0_row0\" class=\"row_heading level0 row0\" >0</th>\n",
              "      <td id=\"T_213df_row0_col0\" class=\"data row0 col0\" >2016</td>\n",
              "      <td id=\"T_213df_row0_col1\" class=\"data row0 col1\" >60</td>\n",
              "    </tr>\n",
              "    <tr>\n",
              "      <th id=\"T_213df_level0_row1\" class=\"row_heading level0 row1\" >1</th>\n",
              "      <td id=\"T_213df_row1_col0\" class=\"data row1 col0\" >2017</td>\n",
              "      <td id=\"T_213df_row1_col1\" class=\"data row1 col1\" >73</td>\n",
              "    </tr>\n",
              "    <tr>\n",
              "      <th id=\"T_213df_level0_row2\" class=\"row_heading level0 row2\" >2</th>\n",
              "      <td id=\"T_213df_row2_col0\" class=\"data row2 col0\" >2018</td>\n",
              "      <td id=\"T_213df_row2_col1\" class=\"data row2 col1\" >61</td>\n",
              "    </tr>\n",
              "    <tr>\n",
              "      <th id=\"T_213df_level0_row3\" class=\"row_heading level0 row3\" >3</th>\n",
              "      <td id=\"T_213df_row3_col0\" class=\"data row3 col0\" >2019</td>\n",
              "      <td id=\"T_213df_row3_col1\" class=\"data row3 col1\" >76</td>\n",
              "    </tr>\n",
              "    <tr>\n",
              "      <th id=\"T_213df_level0_row4\" class=\"row_heading level0 row4\" >4</th>\n",
              "      <td id=\"T_213df_row4_col0\" class=\"data row4 col0\" >2020</td>\n",
              "      <td id=\"T_213df_row4_col1\" class=\"data row4 col1\" >80</td>\n",
              "    </tr>\n",
              "    <tr>\n",
              "      <th id=\"T_213df_level0_row5\" class=\"row_heading level0 row5\" >5</th>\n",
              "      <td id=\"T_213df_row5_col0\" class=\"data row5 col0\" >2021</td>\n",
              "      <td id=\"T_213df_row5_col1\" class=\"data row5 col1\" >65</td>\n",
              "    </tr>\n",
              "    <tr>\n",
              "      <th id=\"T_213df_level0_row6\" class=\"row_heading level0 row6\" >6</th>\n",
              "      <td id=\"T_213df_row6_col0\" class=\"data row6 col0\" >2022</td>\n",
              "      <td id=\"T_213df_row6_col1\" class=\"data row6 col1\" >57</td>\n",
              "    </tr>\n",
              "    <tr>\n",
              "      <th id=\"T_213df_level0_row7\" class=\"row_heading level0 row7\" >7</th>\n",
              "      <td id=\"T_213df_row7_col0\" class=\"data row7 col0\" >2023</td>\n",
              "      <td id=\"T_213df_row7_col1\" class=\"data row7 col1\" >63</td>\n",
              "    </tr>\n",
              "  </tbody>\n",
              "</table>\n",
              "</div>"
            ]
          },
          "metadata": {}
        },
        {
          "output_type": "stream",
          "name": "stdout",
          "text": [
            "-------------------\n",
            "Your SQL query is correct!\n"
          ]
        }
      ]
    },
    {
      "cell_type": "markdown",
      "source": [
        "That seems to align better with the anecdotal water cooler conversations. The head of content is happy that you have been able to paint a good picture of current reality and is now off trying to figure out what new courses to add and what instructors they need to engage. But your life as an analyst continues. The CEO has put together a special ops commando team called the 'COVID' impact team. Of course, you are part of this team as the ace analyst in CoRise. Off we go!"
      ],
      "metadata": {
        "id": "SNhRAQW5VVz0"
      }
    },
    {
      "cell_type": "markdown",
      "source": [
        "# **Part 2 - COVID Impact**"
      ],
      "metadata": {
        "id": "vClaDS34WKg4"
      }
    },
    {
      "cell_type": "markdown",
      "source": [
        "As mentioned before, the CEO has put together a special ops commando team called the 'COVID' impact team which includes you as the star analyst. No one is sure if the courses were impacted by COVID as it has been a while. (You are in 2024 and the world has almost forgotten COVID (positive dreams are good for us 😀)). You suggest that you will mine the data and see if there are any quantitative differences between 2020 and other years.  \n",
        "\n",
        "As you know by now, we are guided by nps quite a bit, as it is a great measure of how the course was perceived by the participants. So the first thing is to see if there is any substantial difference either in the total quantity of the courses or the average nps of the courses.\n"
      ],
      "metadata": {
        "id": "wDTHxF5vMEKp"
      }
    },
    {
      "cell_type": "code",
      "source": [
        "### Question: q2_2_1\n",
        "### Print the number of courses run per year.\n",
        "### Output columns: year, count_by_year\n",
        "query = \"\"\"\n",
        "\n",
        "SELECT\n",
        "  strftime('%Y', start_date) AS year, count(*) as count_by_year\n",
        "FROM\n",
        "  course_run\n",
        "GROUP BY\n",
        "  strftime('%Y', start_date)\n",
        "\n",
        "        \"\"\"\n",
        "\n",
        "run(query)\n",
        "check(q2_2_1 = query)"
      ],
      "metadata": {
        "id": "FR9FMaj72PSl",
        "colab": {
          "base_uri": "https://localhost:8080/",
          "height": 267
        },
        "outputId": "2f2f3038-fb5a-44d7-e7ab-f3f17a3fd8eb"
      },
      "execution_count": null,
      "outputs": [
        {
          "output_type": "display_data",
          "data": {
            "text/plain": [
              "<IPython.core.display.HTML object>"
            ],
            "text/html": [
              "\n",
              "<style>\n",
              "  html {\n",
              "    --td-font-color: black;\n",
              "    --font-color: black;\n",
              "    --background-color: #e0e0e0;\n",
              "  }\n",
              "  html[theme=dark] {\n",
              "    --td-font-color: white;\n",
              "    --font-color: black;\n",
              "    --background-color: #6688ff;\n",
              "  }\n",
              "  th {\n",
              "    background: #fbd44c;\n",
              "    color: var(--font-color);\n",
              "    font-size: 16px;\n",
              "    text-align: center;\n",
              "    font-weight: bold;\n",
              "  }\n",
              "  tr:nth-child(even) {\n",
              "    background-color: var(--background-color);\n",
              "    color: var(--font-color);\n",
              "  }\n",
              "  td {\n",
              "    font-size: 14px;\n",
              "    color: var(--td-font-color);\n",
              "  }\n",
              "</style>\n",
              "<div style='max-height: 500px; overflow: auto; width: fit-content; border-style: solid; border-width: 1px; border-color: #0139fe; font-family: GT Planar,Inter,Arial,sans-serif;'><style type=\"text/css\">\n",
              "</style>\n",
              "<table id=\"T_e7856_\">\n",
              "  <thead>\n",
              "    <tr>\n",
              "      <th class=\"blank level0\" >&nbsp;</th>\n",
              "      <th class=\"col_heading level0 col0\" >year</th>\n",
              "      <th class=\"col_heading level0 col1\" >count_by_year</th>\n",
              "    </tr>\n",
              "  </thead>\n",
              "  <tbody>\n",
              "    <tr>\n",
              "      <th id=\"T_e7856_level0_row0\" class=\"row_heading level0 row0\" >0</th>\n",
              "      <td id=\"T_e7856_row0_col0\" class=\"data row0 col0\" >2016</td>\n",
              "      <td id=\"T_e7856_row0_col1\" class=\"data row0 col1\" >129</td>\n",
              "    </tr>\n",
              "    <tr>\n",
              "      <th id=\"T_e7856_level0_row1\" class=\"row_heading level0 row1\" >1</th>\n",
              "      <td id=\"T_e7856_row1_col0\" class=\"data row1 col0\" >2017</td>\n",
              "      <td id=\"T_e7856_row1_col1\" class=\"data row1 col1\" >118</td>\n",
              "    </tr>\n",
              "    <tr>\n",
              "      <th id=\"T_e7856_level0_row2\" class=\"row_heading level0 row2\" >2</th>\n",
              "      <td id=\"T_e7856_row2_col0\" class=\"data row2 col0\" >2018</td>\n",
              "      <td id=\"T_e7856_row2_col1\" class=\"data row2 col1\" >128</td>\n",
              "    </tr>\n",
              "    <tr>\n",
              "      <th id=\"T_e7856_level0_row3\" class=\"row_heading level0 row3\" >3</th>\n",
              "      <td id=\"T_e7856_row3_col0\" class=\"data row3 col0\" >2019</td>\n",
              "      <td id=\"T_e7856_row3_col1\" class=\"data row3 col1\" >134</td>\n",
              "    </tr>\n",
              "    <tr>\n",
              "      <th id=\"T_e7856_level0_row4\" class=\"row_heading level0 row4\" >4</th>\n",
              "      <td id=\"T_e7856_row4_col0\" class=\"data row4 col0\" >2020</td>\n",
              "      <td id=\"T_e7856_row4_col1\" class=\"data row4 col1\" >140</td>\n",
              "    </tr>\n",
              "    <tr>\n",
              "      <th id=\"T_e7856_level0_row5\" class=\"row_heading level0 row5\" >5</th>\n",
              "      <td id=\"T_e7856_row5_col0\" class=\"data row5 col0\" >2021</td>\n",
              "      <td id=\"T_e7856_row5_col1\" class=\"data row5 col1\" >127</td>\n",
              "    </tr>\n",
              "    <tr>\n",
              "      <th id=\"T_e7856_level0_row6\" class=\"row_heading level0 row6\" >6</th>\n",
              "      <td id=\"T_e7856_row6_col0\" class=\"data row6 col0\" >2022</td>\n",
              "      <td id=\"T_e7856_row6_col1\" class=\"data row6 col1\" >108</td>\n",
              "    </tr>\n",
              "    <tr>\n",
              "      <th id=\"T_e7856_level0_row7\" class=\"row_heading level0 row7\" >7</th>\n",
              "      <td id=\"T_e7856_row7_col0\" class=\"data row7 col0\" >2023</td>\n",
              "      <td id=\"T_e7856_row7_col1\" class=\"data row7 col1\" >115</td>\n",
              "    </tr>\n",
              "  </tbody>\n",
              "</table>\n",
              "</div>"
            ]
          },
          "metadata": {}
        },
        {
          "output_type": "stream",
          "name": "stdout",
          "text": [
            "-------------------\n",
            "Your SQL query is correct!\n"
          ]
        }
      ]
    },
    {
      "cell_type": "markdown",
      "source": [
        "That's interesting. The number of courses conducted doesn't seem to have been much lower in 2020. If anything, it is on the higher side. So somehow COVID did not impact the number of courses. Let's look at the average nps next and contrast 2020 with the other years."
      ],
      "metadata": {
        "id": "fdXS4E9K2_e3"
      }
    },
    {
      "cell_type": "code",
      "source": [
        "### Question: q2_2_2\n",
        "### Print a report with two columns titled covid_nps and rest_nps.\n",
        "### 2020_nps will have the average of the nps of courses that started in 2020 and\n",
        "### rest_nps will have the average of the nps of courses that started in other years.\n",
        "### Output columns: covid_nps, rest_nps\n",
        "query = \"\"\"\n",
        "\n",
        "SELECT\n",
        "  avg(case when strftime('%Y', start_date) = '2020' then nps end) as covid_nps,\n",
        "  avg(case when strftime('%Y', start_date) != '2020' then nps end) as rest_nps\n",
        "FROM course_run\n",
        "\n",
        "\n",
        "        \"\"\"\n",
        "\n",
        "run(query)\n",
        "check(q2_2_2 = query)"
      ],
      "metadata": {
        "id": "8kQa86J34bW2",
        "colab": {
          "base_uri": "https://localhost:8080/",
          "height": 102
        },
        "outputId": "723ad12c-e541-4d32-c5ac-be8b9e347eb8"
      },
      "execution_count": null,
      "outputs": [
        {
          "output_type": "display_data",
          "data": {
            "text/plain": [
              "<IPython.core.display.HTML object>"
            ],
            "text/html": [
              "\n",
              "<style>\n",
              "  html {\n",
              "    --td-font-color: black;\n",
              "    --font-color: black;\n",
              "    --background-color: #e0e0e0;\n",
              "  }\n",
              "  html[theme=dark] {\n",
              "    --td-font-color: white;\n",
              "    --font-color: black;\n",
              "    --background-color: #6688ff;\n",
              "  }\n",
              "  th {\n",
              "    background: #fbd44c;\n",
              "    color: var(--font-color);\n",
              "    font-size: 16px;\n",
              "    text-align: center;\n",
              "    font-weight: bold;\n",
              "  }\n",
              "  tr:nth-child(even) {\n",
              "    background-color: var(--background-color);\n",
              "    color: var(--font-color);\n",
              "  }\n",
              "  td {\n",
              "    font-size: 14px;\n",
              "    color: var(--td-font-color);\n",
              "  }\n",
              "</style>\n",
              "<div style='max-height: 500px; overflow: auto; width: fit-content; border-style: solid; border-width: 1px; border-color: #0139fe; font-family: GT Planar,Inter,Arial,sans-serif;'><style type=\"text/css\">\n",
              "</style>\n",
              "<table id=\"T_60447_\">\n",
              "  <thead>\n",
              "    <tr>\n",
              "      <th class=\"blank level0\" >&nbsp;</th>\n",
              "      <th class=\"col_heading level0 col0\" >covid_nps</th>\n",
              "      <th class=\"col_heading level0 col1\" >rest_nps</th>\n",
              "    </tr>\n",
              "  </thead>\n",
              "  <tbody>\n",
              "    <tr>\n",
              "      <th id=\"T_60447_level0_row0\" class=\"row_heading level0 row0\" >0</th>\n",
              "      <td id=\"T_60447_row0_col0\" class=\"data row0 col0\" >65.89</td>\n",
              "      <td id=\"T_60447_row0_col1\" class=\"data row0 col1\" >75.75</td>\n",
              "    </tr>\n",
              "  </tbody>\n",
              "</table>\n",
              "</div>"
            ]
          },
          "metadata": {}
        },
        {
          "output_type": "stream",
          "name": "stdout",
          "text": [
            "-------------------\n",
            "Your SQL query is correct!\n"
          ]
        }
      ]
    },
    {
      "cell_type": "markdown",
      "source": [
        "Wow! Thats's a clear drop in the average nps in 2020 compared to the average nps of other years. The statistician in you wonders if there are other years where the nps is low and is compensated for some other years where nps is high - thus 2020 may not be an exception. Let's quickly cross-validate that thought!"
      ],
      "metadata": {
        "id": "k30QE1jQyIZC"
      }
    },
    {
      "cell_type": "code",
      "source": [
        "### Question: q2_2_3\n",
        "### For each year, print the year and the average nps of the courses that started that year.\n",
        "### Output columns: year, avg(nps)\n",
        "\n",
        "query = \"\"\"\n",
        "\n",
        "SELECT\n",
        "  strftime('%Y', start_date) AS year,\n",
        "  avg(nps)\n",
        "FROM course_run\n",
        "GROUP BY\n",
        "  strftime('%Y', start_date)\n",
        "\n",
        "\n",
        "\n",
        "        \"\"\"\n",
        "\n",
        "run(query)\n",
        "check(q2_2_3 = query)"
      ],
      "metadata": {
        "id": "kXvnj9RbyjjE",
        "colab": {
          "base_uri": "https://localhost:8080/",
          "height": 267
        },
        "outputId": "94801d20-f5ba-4afb-dfa8-6d2bef767d62"
      },
      "execution_count": null,
      "outputs": [
        {
          "output_type": "display_data",
          "data": {
            "text/plain": [
              "<IPython.core.display.HTML object>"
            ],
            "text/html": [
              "\n",
              "<style>\n",
              "  html {\n",
              "    --td-font-color: black;\n",
              "    --font-color: black;\n",
              "    --background-color: #e0e0e0;\n",
              "  }\n",
              "  html[theme=dark] {\n",
              "    --td-font-color: white;\n",
              "    --font-color: black;\n",
              "    --background-color: #6688ff;\n",
              "  }\n",
              "  th {\n",
              "    background: #fbd44c;\n",
              "    color: var(--font-color);\n",
              "    font-size: 16px;\n",
              "    text-align: center;\n",
              "    font-weight: bold;\n",
              "  }\n",
              "  tr:nth-child(even) {\n",
              "    background-color: var(--background-color);\n",
              "    color: var(--font-color);\n",
              "  }\n",
              "  td {\n",
              "    font-size: 14px;\n",
              "    color: var(--td-font-color);\n",
              "  }\n",
              "</style>\n",
              "<div style='max-height: 500px; overflow: auto; width: fit-content; border-style: solid; border-width: 1px; border-color: #0139fe; font-family: GT Planar,Inter,Arial,sans-serif;'><style type=\"text/css\">\n",
              "</style>\n",
              "<table id=\"T_c705a_\">\n",
              "  <thead>\n",
              "    <tr>\n",
              "      <th class=\"blank level0\" >&nbsp;</th>\n",
              "      <th class=\"col_heading level0 col0\" >year</th>\n",
              "      <th class=\"col_heading level0 col1\" >avg(nps)</th>\n",
              "    </tr>\n",
              "  </thead>\n",
              "  <tbody>\n",
              "    <tr>\n",
              "      <th id=\"T_c705a_level0_row0\" class=\"row_heading level0 row0\" >0</th>\n",
              "      <td id=\"T_c705a_row0_col0\" class=\"data row0 col0\" >2016</td>\n",
              "      <td id=\"T_c705a_row0_col1\" class=\"data row0 col1\" >75.76</td>\n",
              "    </tr>\n",
              "    <tr>\n",
              "      <th id=\"T_c705a_level0_row1\" class=\"row_heading level0 row1\" >1</th>\n",
              "      <td id=\"T_c705a_row1_col0\" class=\"data row1 col0\" >2017</td>\n",
              "      <td id=\"T_c705a_row1_col1\" class=\"data row1 col1\" >77.58</td>\n",
              "    </tr>\n",
              "    <tr>\n",
              "      <th id=\"T_c705a_level0_row2\" class=\"row_heading level0 row2\" >2</th>\n",
              "      <td id=\"T_c705a_row2_col0\" class=\"data row2 col0\" >2018</td>\n",
              "      <td id=\"T_c705a_row2_col1\" class=\"data row2 col1\" >75.56</td>\n",
              "    </tr>\n",
              "    <tr>\n",
              "      <th id=\"T_c705a_level0_row3\" class=\"row_heading level0 row3\" >3</th>\n",
              "      <td id=\"T_c705a_row3_col0\" class=\"data row3 col0\" >2019</td>\n",
              "      <td id=\"T_c705a_row3_col1\" class=\"data row3 col1\" >75.93</td>\n",
              "    </tr>\n",
              "    <tr>\n",
              "      <th id=\"T_c705a_level0_row4\" class=\"row_heading level0 row4\" >4</th>\n",
              "      <td id=\"T_c705a_row4_col0\" class=\"data row4 col0\" >2020</td>\n",
              "      <td id=\"T_c705a_row4_col1\" class=\"data row4 col1\" >65.89</td>\n",
              "    </tr>\n",
              "    <tr>\n",
              "      <th id=\"T_c705a_level0_row5\" class=\"row_heading level0 row5\" >5</th>\n",
              "      <td id=\"T_c705a_row5_col0\" class=\"data row5 col0\" >2021</td>\n",
              "      <td id=\"T_c705a_row5_col1\" class=\"data row5 col1\" >73.93</td>\n",
              "    </tr>\n",
              "    <tr>\n",
              "      <th id=\"T_c705a_level0_row6\" class=\"row_heading level0 row6\" >6</th>\n",
              "      <td id=\"T_c705a_row6_col0\" class=\"data row6 col0\" >2022</td>\n",
              "      <td id=\"T_c705a_row6_col1\" class=\"data row6 col1\" >75.99</td>\n",
              "    </tr>\n",
              "    <tr>\n",
              "      <th id=\"T_c705a_level0_row7\" class=\"row_heading level0 row7\" >7</th>\n",
              "      <td id=\"T_c705a_row7_col0\" class=\"data row7 col0\" >2023</td>\n",
              "      <td id=\"T_c705a_row7_col1\" class=\"data row7 col1\" >75.67</td>\n",
              "    </tr>\n",
              "  </tbody>\n",
              "</table>\n",
              "</div>"
            ]
          },
          "metadata": {}
        },
        {
          "output_type": "stream",
          "name": "stdout",
          "text": [
            "-------------------\n",
            "Your SQL query is correct!\n"
          ]
        }
      ]
    },
    {
      "cell_type": "markdown",
      "source": [
        "Ok, good! 2020 was an aberration. The logical next question is why? Are there any explanatory variables? You go talk to some folks who have been around in the company for a long time. They tell you they recollect that it was tough getting enough TAs for many courses in 2020. Additionally, the courses ran for longer to account for sickness of many of the staff as well as learners. You set out to validate this next.\n",
        "\n",
        "Argh... It turns out that expressing the query from last time (q_3_4 from week 1)  using our current SQL knowledge is not so straightforward. While it can be done, it turns out it's very convoluted. We will skip this for now."
      ],
      "metadata": {
        "id": "N6Dyya30zS75"
      }
    },
    {
      "cell_type": "markdown",
      "source": [
        "# **Part 3 - Looking for Pockets of Underperformance:**\n",
        "\n",
        "The head of content creation would like to understand the distribution of nps overall to get their bearings (recall that this is the most important metric for the business)."
      ],
      "metadata": {
        "id": "QJ2-MIWaLxT6"
      }
    },
    {
      "cell_type": "code",
      "source": [
        "### Question: q2_3_1\n",
        "### Find the minimum, maximum, and average  of nps across all courses\n",
        "### Output columns: min_nps, max_nps, avg_nps\n",
        "query = \"\"\"\n",
        "\n",
        "SELECT\n",
        "  min(nps) as min_nps,\n",
        "  max(nps) as max_nps,\n",
        "  avg(nps) as avg_nps\n",
        "FROM\n",
        "  course_run\n",
        "\n",
        "         \"\"\"\n",
        "\n",
        "run(query)\n",
        "check(q2_3_1 = query)"
      ],
      "metadata": {
        "id": "JNxkUrMBjzZb",
        "colab": {
          "base_uri": "https://localhost:8080/",
          "height": 102
        },
        "outputId": "251fc962-db09-48b0-fa1d-2334fe2aded1"
      },
      "execution_count": null,
      "outputs": [
        {
          "output_type": "display_data",
          "data": {
            "text/plain": [
              "<IPython.core.display.HTML object>"
            ],
            "text/html": [
              "\n",
              "<style>\n",
              "  html {\n",
              "    --td-font-color: black;\n",
              "    --font-color: black;\n",
              "    --background-color: #e0e0e0;\n",
              "  }\n",
              "  html[theme=dark] {\n",
              "    --td-font-color: white;\n",
              "    --font-color: black;\n",
              "    --background-color: #6688ff;\n",
              "  }\n",
              "  th {\n",
              "    background: #fbd44c;\n",
              "    color: var(--font-color);\n",
              "    font-size: 16px;\n",
              "    text-align: center;\n",
              "    font-weight: bold;\n",
              "  }\n",
              "  tr:nth-child(even) {\n",
              "    background-color: var(--background-color);\n",
              "    color: var(--font-color);\n",
              "  }\n",
              "  td {\n",
              "    font-size: 14px;\n",
              "    color: var(--td-font-color);\n",
              "  }\n",
              "</style>\n",
              "<div style='max-height: 500px; overflow: auto; width: fit-content; border-style: solid; border-width: 1px; border-color: #0139fe; font-family: GT Planar,Inter,Arial,sans-serif;'><style type=\"text/css\">\n",
              "</style>\n",
              "<table id=\"T_a994f_\">\n",
              "  <thead>\n",
              "    <tr>\n",
              "      <th class=\"blank level0\" >&nbsp;</th>\n",
              "      <th class=\"col_heading level0 col0\" >min_nps</th>\n",
              "      <th class=\"col_heading level0 col1\" >max_nps</th>\n",
              "      <th class=\"col_heading level0 col2\" >avg_nps</th>\n",
              "    </tr>\n",
              "  </thead>\n",
              "  <tbody>\n",
              "    <tr>\n",
              "      <th id=\"T_a994f_level0_row0\" class=\"row_heading level0 row0\" >0</th>\n",
              "      <td id=\"T_a994f_row0_col0\" class=\"data row0 col0\" >40</td>\n",
              "      <td id=\"T_a994f_row0_col1\" class=\"data row0 col1\" >100</td>\n",
              "      <td id=\"T_a994f_row0_col2\" class=\"data row0 col2\" >74.37</td>\n",
              "    </tr>\n",
              "  </tbody>\n",
              "</table>\n",
              "</div>"
            ]
          },
          "metadata": {}
        },
        {
          "output_type": "stream",
          "name": "stdout",
          "text": [
            "-------------------\n",
            "Your SQL query is correct!\n"
          ]
        }
      ]
    },
    {
      "cell_type": "markdown",
      "source": [
        "At first blush, the news is good – the average seems to be reasonably high. Of course it would always be good to be better, but it's a start. However, the minimum is quite low. Perhaps there is a pocket of courses that can be improved and we can lift the average that way. You decide to dig deeper and see if you can find pockets of underperformance. You instintctively want  to explore if the size of a course (number of learners) has some correlation with the nps - this is q_4_2 from week 1. Unfortunately this query is also complicated to do with the set of things we have learned so far. We will revisit this next week with subqueries.\n",
        "\n",
        "Meanwhile, you have been joining the head of course content in some feedback interviews with learners. The positive interviews always seems to have two flavors: a few learners preferred courses that ran longer and dug deeper into an area, while others preferred courses that were quick and exposed them to a new area. You decide to investigate this and see if somehow the nps was correlated to this combination of the length of the course and the level of the course."
      ],
      "metadata": {
        "id": "9i8o3-813rpf"
      }
    },
    {
      "cell_type": "code",
      "source": [
        "### Question:q2_3_2\n",
        "### Let's designate courses that are fewer than 4 weeks to be 'short'\n",
        "### and all the others 'long' and call this course_duration.\n",
        "### Let's get the average nps for each course_level and course_duration combination.\n",
        "### Note there should be four rows in your output given that\n",
        "### we have two values for course_duration and two values for course_level.\n",
        "### Output columns: course_duration, course_level, avg_nps\n",
        "query = \"\"\"\n",
        "\n",
        "SELECT\n",
        "  case when CR.num_weeks < 4 then 'short' ELSE 'long'\n",
        "  end AS course_duration,\n",
        "  course_level,\n",
        "  avg(nps) AS avg_nps\n",
        "FROM\n",
        "  course_run AS CR INNER JOIN course_info AS CI ON (CR.course_id = CI.course_id)\n",
        "GROUP BY\n",
        "  course_level,\n",
        "  case when CR.num_weeks < 4 then 'short'\n",
        "  ELSE 'long'\n",
        "  end\n",
        "\n",
        "      \"\"\"\n",
        "\n",
        "run(query)\n",
        "check(q2_3_2 = query)"
      ],
      "metadata": {
        "id": "qEwsg1XrNrSP",
        "colab": {
          "base_uri": "https://localhost:8080/",
          "height": 173
        },
        "outputId": "8c86fff1-211c-4943-a13f-613d82f6f357"
      },
      "execution_count": null,
      "outputs": [
        {
          "output_type": "display_data",
          "data": {
            "text/plain": [
              "<IPython.core.display.HTML object>"
            ],
            "text/html": [
              "\n",
              "<style>\n",
              "  html {\n",
              "    --td-font-color: black;\n",
              "    --font-color: black;\n",
              "    --background-color: #e0e0e0;\n",
              "  }\n",
              "  html[theme=dark] {\n",
              "    --td-font-color: white;\n",
              "    --font-color: black;\n",
              "    --background-color: #6688ff;\n",
              "  }\n",
              "  th {\n",
              "    background: #fbd44c;\n",
              "    color: var(--font-color);\n",
              "    font-size: 16px;\n",
              "    text-align: center;\n",
              "    font-weight: bold;\n",
              "  }\n",
              "  tr:nth-child(even) {\n",
              "    background-color: var(--background-color);\n",
              "    color: var(--font-color);\n",
              "  }\n",
              "  td {\n",
              "    font-size: 14px;\n",
              "    color: var(--td-font-color);\n",
              "  }\n",
              "</style>\n",
              "<div style='max-height: 500px; overflow: auto; width: fit-content; border-style: solid; border-width: 1px; border-color: #0139fe; font-family: GT Planar,Inter,Arial,sans-serif;'><style type=\"text/css\">\n",
              "</style>\n",
              "<table id=\"T_106e4_\">\n",
              "  <thead>\n",
              "    <tr>\n",
              "      <th class=\"blank level0\" >&nbsp;</th>\n",
              "      <th class=\"col_heading level0 col0\" >course_duration</th>\n",
              "      <th class=\"col_heading level0 col1\" >course_level</th>\n",
              "      <th class=\"col_heading level0 col2\" >avg_nps</th>\n",
              "    </tr>\n",
              "  </thead>\n",
              "  <tbody>\n",
              "    <tr>\n",
              "      <th id=\"T_106e4_level0_row0\" class=\"row_heading level0 row0\" >0</th>\n",
              "      <td id=\"T_106e4_row0_col0\" class=\"data row0 col0\" >long</td>\n",
              "      <td id=\"T_106e4_row0_col1\" class=\"data row0 col1\" >A</td>\n",
              "      <td id=\"T_106e4_row0_col2\" class=\"data row0 col2\" >77.95</td>\n",
              "    </tr>\n",
              "    <tr>\n",
              "      <th id=\"T_106e4_level0_row1\" class=\"row_heading level0 row1\" >1</th>\n",
              "      <td id=\"T_106e4_row1_col0\" class=\"data row1 col0\" >short</td>\n",
              "      <td id=\"T_106e4_row1_col1\" class=\"data row1 col1\" >A</td>\n",
              "      <td id=\"T_106e4_row1_col2\" class=\"data row1 col2\" >69.44</td>\n",
              "    </tr>\n",
              "    <tr>\n",
              "      <th id=\"T_106e4_level0_row2\" class=\"row_heading level0 row2\" >2</th>\n",
              "      <td id=\"T_106e4_row2_col0\" class=\"data row2 col0\" >long</td>\n",
              "      <td id=\"T_106e4_row2_col1\" class=\"data row2 col1\" >B</td>\n",
              "      <td id=\"T_106e4_row2_col2\" class=\"data row2 col2\" >69.91</td>\n",
              "    </tr>\n",
              "    <tr>\n",
              "      <th id=\"T_106e4_level0_row3\" class=\"row_heading level0 row3\" >3</th>\n",
              "      <td id=\"T_106e4_row3_col0\" class=\"data row3 col0\" >short</td>\n",
              "      <td id=\"T_106e4_row3_col1\" class=\"data row3 col1\" >B</td>\n",
              "      <td id=\"T_106e4_row3_col2\" class=\"data row3 col2\" >80.74</td>\n",
              "    </tr>\n",
              "  </tbody>\n",
              "</table>\n",
              "</div>"
            ]
          },
          "metadata": {}
        },
        {
          "output_type": "stream",
          "name": "stdout",
          "text": [
            "-------------------\n",
            "Your SQL query is correct!\n"
          ]
        }
      ]
    },
    {
      "cell_type": "markdown",
      "source": [
        "Aha! Indeed the advanced courses seem to make more sense when they are run longer. Perhaps the learners feel they are able to dig into the subject. Conversely, shorter basic courses are more valuable - just a quickstart or a crash course to get introduced to a new area so they can come back to advanced courses after digesting the basic course quickly. A great analysis by you and something that has made a huge dent in understanding the course data!"
      ],
      "metadata": {
        "id": "fOvSvRQNPzXG"
      }
    },
    {
      "cell_type": "markdown",
      "source": [
        "# **Part 4 - Bonus Questions: Troubleshooting and Analytics for Enterprise Customers**\n",
        "\n",
        "This section is bonus and the queries are a bit more complex in this section.\n",
        "\n",
        "One of your main jobs as an analyst is to handle one-off requests for data and analysis from your customer-facing sales teams. CoRise works with a number of enterprise customers who send groups of learners as well as supply top quality instructors to CoRise. As a result, it's important to equip the CoRise sales teams with the right kind of information and insights."
      ],
      "metadata": {
        "id": "_oxkhg0RwOB8"
      }
    },
    {
      "cell_type": "markdown",
      "source": [
        "The account manager for M & T Bank Corporation wants to understand the nps of basic courses attended by more than just a few learners from M & T Bank Corporation provided the instructor is not from M & T Corporation.\n",
        "\n",
        "\n",
        "\n"
      ],
      "metadata": {
        "id": "CCtcDIZuSniC"
      }
    },
    {
      "cell_type": "code",
      "source": [
        "### Question:q2_4_1\n",
        "### Get the course_name, course_run_id, number of learners from M & T Bank, & nps\n",
        "### for each course run that has more than 2 learners from M & T Bank\n",
        "### and is taught by an instructor who isn't from M & T Bank Corporation\n",
        "### for a basic course (course level = 'B').\n",
        "### Hint: This requires you to join all five tables from this week's project schema.\n",
        "### Hint: To get the number of learners you will need to group by all other columns\n",
        "### in the select clause and use count to get to the number of learners.\n",
        "### Output Columns: course_name, CR.course_run_id, num_learners, nps\n",
        "query = \"\"\"\n",
        "\n",
        "SELECT\n",
        "  CI.course_name as course_name,\n",
        "  CR.course_run_id,\n",
        "  count(L.learner_id) AS num_learners,\n",
        "  CR.nps\n",
        "FROM\n",
        "  course_info as CI\n",
        "  INNER JOIN course_run as CR ON (CI.course_id = CR.course_id)\n",
        "  INNER JOIN course_registration_info as CRI ON (CRI.course_run_id = CR.course_run_id)\n",
        "  INNER JOIN learners as L ON (CRI.learner_id = L.learner_id)\n",
        "  INNER JOIN instructors as I ON (I.instructor_id = CR.instructor_id)\n",
        "WHERE\n",
        "  l.affiliation like 'M & T Bank%'\n",
        "  AND I.affiliation != 'M & T Bank Corportation'\n",
        "  AND CI.course_level = 'B'\n",
        "GROUP BY\n",
        "  CR.course_run_id,\n",
        "  CI.course_name,\n",
        "  CR.nps\n",
        "HAVING\n",
        "  count(L.learner_id) > 2\n",
        "\n",
        "\n",
        "\n",
        "\"\"\"\n",
        "\n",
        "run(query)\n",
        "check(q2_4_1 = query)\n",
        "\n"
      ],
      "metadata": {
        "id": "i7bdROF_UZXm",
        "colab": {
          "base_uri": "https://localhost:8080/",
          "height": 220
        },
        "outputId": "1ac342ed-aaa9-46bb-f39a-db82fba04272"
      },
      "execution_count": null,
      "outputs": [
        {
          "output_type": "display_data",
          "data": {
            "text/plain": [
              "<IPython.core.display.HTML object>"
            ],
            "text/html": [
              "\n",
              "<style>\n",
              "  html {\n",
              "    --td-font-color: black;\n",
              "    --font-color: black;\n",
              "    --background-color: #e0e0e0;\n",
              "  }\n",
              "  html[theme=dark] {\n",
              "    --td-font-color: white;\n",
              "    --font-color: black;\n",
              "    --background-color: #6688ff;\n",
              "  }\n",
              "  th {\n",
              "    background: #fbd44c;\n",
              "    color: var(--font-color);\n",
              "    font-size: 16px;\n",
              "    text-align: center;\n",
              "    font-weight: bold;\n",
              "  }\n",
              "  tr:nth-child(even) {\n",
              "    background-color: var(--background-color);\n",
              "    color: var(--font-color);\n",
              "  }\n",
              "  td {\n",
              "    font-size: 14px;\n",
              "    color: var(--td-font-color);\n",
              "  }\n",
              "</style>\n",
              "<div style='max-height: 500px; overflow: auto; width: fit-content; border-style: solid; border-width: 1px; border-color: #0139fe; font-family: GT Planar,Inter,Arial,sans-serif;'><style type=\"text/css\">\n",
              "</style>\n",
              "<table id=\"T_8d2e8_\">\n",
              "  <thead>\n",
              "    <tr>\n",
              "      <th class=\"blank level0\" >&nbsp;</th>\n",
              "      <th class=\"col_heading level0 col0\" >course_name</th>\n",
              "      <th class=\"col_heading level0 col1\" >course_run_id</th>\n",
              "      <th class=\"col_heading level0 col2\" >num_learners</th>\n",
              "      <th class=\"col_heading level0 col3\" >nps</th>\n",
              "    </tr>\n",
              "  </thead>\n",
              "  <tbody>\n",
              "    <tr>\n",
              "      <th id=\"T_8d2e8_level0_row0\" class=\"row_heading level0 row0\" >0</th>\n",
              "      <td id=\"T_8d2e8_row0_col0\" class=\"data row0 col0\" >Python for Data Science</td>\n",
              "      <td id=\"T_8d2e8_row0_col1\" class=\"data row0 col1\" >297</td>\n",
              "      <td id=\"T_8d2e8_row0_col2\" class=\"data row0 col2\" >3</td>\n",
              "      <td id=\"T_8d2e8_row0_col3\" class=\"data row0 col3\" >79</td>\n",
              "    </tr>\n",
              "    <tr>\n",
              "      <th id=\"T_8d2e8_level0_row1\" class=\"row_heading level0 row1\" >1</th>\n",
              "      <td id=\"T_8d2e8_row1_col0\" class=\"data row1 col0\" >FREE Weekend Buildathon: NLP</td>\n",
              "      <td id=\"T_8d2e8_row1_col1\" class=\"data row1 col1\" >431</td>\n",
              "      <td id=\"T_8d2e8_row1_col2\" class=\"data row1 col2\" >3</td>\n",
              "      <td id=\"T_8d2e8_row1_col3\" class=\"data row1 col3\" >75</td>\n",
              "    </tr>\n",
              "    <tr>\n",
              "      <th id=\"T_8d2e8_level0_row2\" class=\"row_heading level0 row2\" >2</th>\n",
              "      <td id=\"T_8d2e8_row2_col0\" class=\"data row2 col0\" >Deep Learning Essentials</td>\n",
              "      <td id=\"T_8d2e8_row2_col1\" class=\"data row2 col1\" >451</td>\n",
              "      <td id=\"T_8d2e8_row2_col2\" class=\"data row2 col2\" >4</td>\n",
              "      <td id=\"T_8d2e8_row2_col3\" class=\"data row2 col3\" >62</td>\n",
              "    </tr>\n",
              "    <tr>\n",
              "      <th id=\"T_8d2e8_level0_row3\" class=\"row_heading level0 row3\" >3</th>\n",
              "      <td id=\"T_8d2e8_row3_col0\" class=\"data row3 col0\" >Data Engineering with Dagster</td>\n",
              "      <td id=\"T_8d2e8_row3_col1\" class=\"data row3 col1\" >491</td>\n",
              "      <td id=\"T_8d2e8_row3_col2\" class=\"data row3 col2\" >3</td>\n",
              "      <td id=\"T_8d2e8_row3_col3\" class=\"data row3 col3\" >72</td>\n",
              "    </tr>\n",
              "    <tr>\n",
              "      <th id=\"T_8d2e8_level0_row4\" class=\"row_heading level0 row4\" >4</th>\n",
              "      <td id=\"T_8d2e8_row4_col0\" class=\"data row4 col0\" >Intro to SQL</td>\n",
              "      <td id=\"T_8d2e8_row4_col1\" class=\"data row4 col1\" >710</td>\n",
              "      <td id=\"T_8d2e8_row4_col2\" class=\"data row4 col2\" >3</td>\n",
              "      <td id=\"T_8d2e8_row4_col3\" class=\"data row4 col3\" >70</td>\n",
              "    </tr>\n",
              "    <tr>\n",
              "      <th id=\"T_8d2e8_level0_row5\" class=\"row_heading level0 row5\" >5</th>\n",
              "      <td id=\"T_8d2e8_row5_col0\" class=\"data row5 col0\" >Analytics Engineering with dbt</td>\n",
              "      <td id=\"T_8d2e8_row5_col1\" class=\"data row5 col1\" >901</td>\n",
              "      <td id=\"T_8d2e8_row5_col2\" class=\"data row5 col2\" >3</td>\n",
              "      <td id=\"T_8d2e8_row5_col3\" class=\"data row5 col3\" >41</td>\n",
              "    </tr>\n",
              "  </tbody>\n",
              "</table>\n",
              "</div>"
            ]
          },
          "metadata": {}
        },
        {
          "output_type": "stream",
          "name": "stdout",
          "text": [
            "-------------------\n",
            "Your SQL query is correct!\n"
          ]
        }
      ]
    },
    {
      "cell_type": "markdown",
      "source": [
        "There seems to have been only one course where the nps was particularly low. The account manager sets off to learn more from the course manager about what may have happened during that course. Then they will be able to communicate to their customer that the courses for their learners are predominantly going well, and they may also be able to educate them on the reasons this course was worse and collect feedback from the customer on that course as well."
      ],
      "metadata": {
        "id": "UBelYI_hYjf5"
      }
    },
    {
      "cell_type": "markdown",
      "source": [
        "After a few months, the account manager from Cincinnati Financial Corp. is wondering how courses run by instructors from Cincinnati Financial Corp. are performing. In particular, they want to know which course runs with an instructor from Cincinnati Financial Corp. have been followed by another run of the same course (taught by anyone) later but still within the same calendar year or the next calendar year with a substantially higher nps (difference of at least 10)."
      ],
      "metadata": {
        "id": "ghNL1mWeZLTq"
      }
    },
    {
      "cell_type": "code",
      "source": [
        "### Question:q2_4_2\n",
        "### Which course runs (CR1.course_run_id) with an instructor from Cincinnati\n",
        "### Financial Corp. have been followed by another run (CR2.course_run_id,\n",
        "### any instructor affiliation) of the same course (same course_id)\n",
        "### later but still within the samevcalendar year or the next calendar year\n",
        "### with a substantially higher nps (difference of at least 10).\n",
        "### Hint: Recall that we did a self join here in this module (url below).\n",
        "### It may be useful to review that info here:\n",
        "### https://corise.com/course/intermediate-sql/v2/module/week-2-joins-involving-more-than-two-tables-3hx8j#corise_cl953jnuf00083b73cuijvbhw\n",
        "### Output Columns: CR1.course_run_id, CR2.course_run_id, CR1.nps, CR2.nps,\n",
        "###                 I1.affiliation, I2.affiliation, CR1.start_date, CR2.start_date\n",
        "query = \"\"\"\n",
        "\n",
        "SELECT\n",
        "  CR1.course_run_id,\n",
        "  CR2.course_run_id,\n",
        "  CR1.nps,\n",
        "  CR2.nps,\n",
        "  I1.affiliation,\n",
        "  I2.affiliation,\n",
        "  CR1.start_date,\n",
        "  CR2.start_date\n",
        "FROM\n",
        "  (course_run as CR1 inner join instructors as I1 on (CR1.instructor_id = I1.instructor_id))\n",
        "  INNER JOIN\n",
        "  (course_run as CR2 inner join instructors as I2 on (CR2.instructor_id = I2.instructor_id))\n",
        "  ON (\n",
        "    CR1.course_id = CR2.course_id\n",
        "    AND CR1.start_date < CR2.start_date\n",
        "    AND (strftime('%Y', CR1.start_date) = strftime('%Y', CR2.start_date)\n",
        "      OR cast(strftime('%Y', CR1.start_date) as int) + 1 = cast(strftime('%Y', CR2.start_date) as int)\n",
        "    )\n",
        "    AND CR1.nps + 10 < CR2.nps\n",
        "  )\n",
        "WHERE\n",
        "  I1.affiliation = 'Cincinnati Financial Corp.'\n",
        "\n",
        "\"\"\"\n",
        "\n",
        "run(query)\n",
        "check(q2_4_2 = query)"
      ],
      "metadata": {
        "id": "XPBF88vDZKu5",
        "colab": {
          "base_uri": "https://localhost:8080/",
          "height": 554
        },
        "outputId": "0c4bff54-e545-4882-9d4b-311d91024208"
      },
      "execution_count": null,
      "outputs": [
        {
          "output_type": "display_data",
          "data": {
            "text/plain": [
              "<IPython.core.display.HTML object>"
            ],
            "text/html": [
              "\n",
              "<style>\n",
              "  html {\n",
              "    --td-font-color: black;\n",
              "    --font-color: black;\n",
              "    --background-color: #e0e0e0;\n",
              "  }\n",
              "  html[theme=dark] {\n",
              "    --td-font-color: white;\n",
              "    --font-color: black;\n",
              "    --background-color: #6688ff;\n",
              "  }\n",
              "  th {\n",
              "    background: #fbd44c;\n",
              "    color: var(--font-color);\n",
              "    font-size: 16px;\n",
              "    text-align: center;\n",
              "    font-weight: bold;\n",
              "  }\n",
              "  tr:nth-child(even) {\n",
              "    background-color: var(--background-color);\n",
              "    color: var(--font-color);\n",
              "  }\n",
              "  td {\n",
              "    font-size: 14px;\n",
              "    color: var(--td-font-color);\n",
              "  }\n",
              "</style>\n",
              "<div style='max-height: 500px; overflow: auto; width: fit-content; border-style: solid; border-width: 1px; border-color: #0139fe; font-family: GT Planar,Inter,Arial,sans-serif;'><style type=\"text/css\">\n",
              "</style>\n",
              "<table id=\"T_1036f_\">\n",
              "  <thead>\n",
              "    <tr>\n",
              "      <th class=\"blank level0\" >&nbsp;</th>\n",
              "      <th class=\"col_heading level0 col0\" >course_run_id</th>\n",
              "      <th class=\"col_heading level0 col1\" >course_run_id</th>\n",
              "      <th class=\"col_heading level0 col2\" >nps</th>\n",
              "      <th class=\"col_heading level0 col3\" >nps</th>\n",
              "      <th class=\"col_heading level0 col4\" >affiliation</th>\n",
              "      <th class=\"col_heading level0 col5\" >affiliation</th>\n",
              "      <th class=\"col_heading level0 col6\" >start_date</th>\n",
              "      <th class=\"col_heading level0 col7\" >start_date</th>\n",
              "    </tr>\n",
              "  </thead>\n",
              "  <tbody>\n",
              "    <tr>\n",
              "      <th id=\"T_1036f_level0_row0\" class=\"row_heading level0 row0\" >0</th>\n",
              "      <td id=\"T_1036f_row0_col0\" class=\"data row0 col0\" >1</td>\n",
              "      <td id=\"T_1036f_row0_col1\" class=\"data row0 col1\" >528</td>\n",
              "      <td id=\"T_1036f_row0_col2\" class=\"data row0 col2\" >83</td>\n",
              "      <td id=\"T_1036f_row0_col3\" class=\"data row0 col3\" >99</td>\n",
              "      <td id=\"T_1036f_row0_col4\" class=\"data row0 col4\" >Cincinnati Financial Corp.</td>\n",
              "      <td id=\"T_1036f_row0_col5\" class=\"data row0 col5\" >Vectren Corporation</td>\n",
              "      <td id=\"T_1036f_row0_col6\" class=\"data row0 col6\" >2016-11-21 07:26:00</td>\n",
              "      <td id=\"T_1036f_row0_col7\" class=\"data row0 col7\" >2017-03-08 02:25:00</td>\n",
              "    </tr>\n",
              "    <tr>\n",
              "      <th id=\"T_1036f_level0_row1\" class=\"row_heading level0 row1\" >1</th>\n",
              "      <td id=\"T_1036f_row1_col0\" class=\"data row1 col0\" >514</td>\n",
              "      <td id=\"T_1036f_row1_col1\" class=\"data row1 col1\" >556</td>\n",
              "      <td id=\"T_1036f_row1_col2\" class=\"data row1 col2\" >70</td>\n",
              "      <td id=\"T_1036f_row1_col3\" class=\"data row1 col3\" >85</td>\n",
              "      <td id=\"T_1036f_row1_col4\" class=\"data row1 col4\" >Cincinnati Financial Corp.</td>\n",
              "      <td id=\"T_1036f_row1_col5\" class=\"data row1 col5\" >Equifax Inc.</td>\n",
              "      <td id=\"T_1036f_row1_col6\" class=\"data row1 col6\" >2020-10-01 18:10:00</td>\n",
              "      <td id=\"T_1036f_row1_col7\" class=\"data row1 col7\" >2021-10-23 23:28:00</td>\n",
              "    </tr>\n",
              "    <tr>\n",
              "      <th id=\"T_1036f_level0_row2\" class=\"row_heading level0 row2\" >2</th>\n",
              "      <td id=\"T_1036f_row2_col0\" class=\"data row2 col0\" >533</td>\n",
              "      <td id=\"T_1036f_row2_col1\" class=\"data row2 col1\" >534</td>\n",
              "      <td id=\"T_1036f_row2_col2\" class=\"data row2 col2\" >61</td>\n",
              "      <td id=\"T_1036f_row2_col3\" class=\"data row2 col3\" >100</td>\n",
              "      <td id=\"T_1036f_row2_col4\" class=\"data row2 col4\" >Cincinnati Financial Corp.</td>\n",
              "      <td id=\"T_1036f_row2_col5\" class=\"data row2 col5\" >Federal Mogul Corp.</td>\n",
              "      <td id=\"T_1036f_row2_col6\" class=\"data row2 col6\" >2019-01-24 06:04:00</td>\n",
              "      <td id=\"T_1036f_row2_col7\" class=\"data row2 col7\" >2019-03-23 11:45:00</td>\n",
              "    </tr>\n",
              "    <tr>\n",
              "      <th id=\"T_1036f_level0_row3\" class=\"row_heading level0 row3\" >3</th>\n",
              "      <td id=\"T_1036f_row3_col0\" class=\"data row3 col0\" >533</td>\n",
              "      <td id=\"T_1036f_row3_col1\" class=\"data row3 col1\" >635</td>\n",
              "      <td id=\"T_1036f_row3_col2\" class=\"data row3 col2\" >61</td>\n",
              "      <td id=\"T_1036f_row3_col3\" class=\"data row3 col3\" >86</td>\n",
              "      <td id=\"T_1036f_row3_col4\" class=\"data row3 col4\" >Cincinnati Financial Corp.</td>\n",
              "      <td id=\"T_1036f_row3_col5\" class=\"data row3 col5\" >Tellabs Inc.</td>\n",
              "      <td id=\"T_1036f_row3_col6\" class=\"data row3 col6\" >2019-01-24 06:04:00</td>\n",
              "      <td id=\"T_1036f_row3_col7\" class=\"data row3 col7\" >2020-04-27 13:45:00</td>\n",
              "    </tr>\n",
              "    <tr>\n",
              "      <th id=\"T_1036f_level0_row4\" class=\"row_heading level0 row4\" >4</th>\n",
              "      <td id=\"T_1036f_row4_col0\" class=\"data row4 col0\" >533</td>\n",
              "      <td id=\"T_1036f_row4_col1\" class=\"data row4 col1\" >712</td>\n",
              "      <td id=\"T_1036f_row4_col2\" class=\"data row4 col2\" >61</td>\n",
              "      <td id=\"T_1036f_row4_col3\" class=\"data row4 col3\" >83</td>\n",
              "      <td id=\"T_1036f_row4_col4\" class=\"data row4 col4\" >Cincinnati Financial Corp.</td>\n",
              "      <td id=\"T_1036f_row4_col5\" class=\"data row4 col5\" >ABM Industries Incorporated</td>\n",
              "      <td id=\"T_1036f_row4_col6\" class=\"data row4 col6\" >2019-01-24 06:04:00</td>\n",
              "      <td id=\"T_1036f_row4_col7\" class=\"data row4 col7\" >2019-03-08 14:29:00</td>\n",
              "    </tr>\n",
              "    <tr>\n",
              "      <th id=\"T_1036f_level0_row5\" class=\"row_heading level0 row5\" >5</th>\n",
              "      <td id=\"T_1036f_row5_col0\" class=\"data row5 col0\" >533</td>\n",
              "      <td id=\"T_1036f_row5_col1\" class=\"data row5 col1\" >737</td>\n",
              "      <td id=\"T_1036f_row5_col2\" class=\"data row5 col2\" >61</td>\n",
              "      <td id=\"T_1036f_row5_col3\" class=\"data row5 col3\" >78</td>\n",
              "      <td id=\"T_1036f_row5_col4\" class=\"data row5 col4\" >Cincinnati Financial Corp.</td>\n",
              "      <td id=\"T_1036f_row5_col5\" class=\"data row5 col5\" >Hercules Inc.</td>\n",
              "      <td id=\"T_1036f_row5_col6\" class=\"data row5 col6\" >2019-01-24 06:04:00</td>\n",
              "      <td id=\"T_1036f_row5_col7\" class=\"data row5 col7\" >2020-05-21 20:22:00</td>\n",
              "    </tr>\n",
              "    <tr>\n",
              "      <th id=\"T_1036f_level0_row6\" class=\"row_heading level0 row6\" >6</th>\n",
              "      <td id=\"T_1036f_row6_col0\" class=\"data row6 col0\" >533</td>\n",
              "      <td id=\"T_1036f_row6_col1\" class=\"data row6 col1\" >766</td>\n",
              "      <td id=\"T_1036f_row6_col2\" class=\"data row6 col2\" >61</td>\n",
              "      <td id=\"T_1036f_row6_col3\" class=\"data row6 col3\" >76</td>\n",
              "      <td id=\"T_1036f_row6_col4\" class=\"data row6 col4\" >Cincinnati Financial Corp.</td>\n",
              "      <td id=\"T_1036f_row6_col5\" class=\"data row6 col5\" >Tellabs Inc.</td>\n",
              "      <td id=\"T_1036f_row6_col6\" class=\"data row6 col6\" >2019-01-24 06:04:00</td>\n",
              "      <td id=\"T_1036f_row6_col7\" class=\"data row6 col7\" >2020-05-01 13:44:00</td>\n",
              "    </tr>\n",
              "    <tr>\n",
              "      <th id=\"T_1036f_level0_row7\" class=\"row_heading level0 row7\" >7</th>\n",
              "      <td id=\"T_1036f_row7_col0\" class=\"data row7 col0\" >825</td>\n",
              "      <td id=\"T_1036f_row7_col1\" class=\"data row7 col1\" >103</td>\n",
              "      <td id=\"T_1036f_row7_col2\" class=\"data row7 col2\" >70</td>\n",
              "      <td id=\"T_1036f_row7_col3\" class=\"data row7 col3\" >91</td>\n",
              "      <td id=\"T_1036f_row7_col4\" class=\"data row7 col4\" >Cincinnati Financial Corp.</td>\n",
              "      <td id=\"T_1036f_row7_col5\" class=\"data row7 col5\" >W.W. Grainger Inc</td>\n",
              "      <td id=\"T_1036f_row7_col6\" class=\"data row7 col6\" >2017-06-01 10:09:00</td>\n",
              "      <td id=\"T_1036f_row7_col7\" class=\"data row7 col7\" >2018-05-09 18:09:00</td>\n",
              "    </tr>\n",
              "    <tr>\n",
              "      <th id=\"T_1036f_level0_row8\" class=\"row_heading level0 row8\" >8</th>\n",
              "      <td id=\"T_1036f_row8_col0\" class=\"data row8 col0\" >825</td>\n",
              "      <td id=\"T_1036f_row8_col1\" class=\"data row8 col1\" >212</td>\n",
              "      <td id=\"T_1036f_row8_col2\" class=\"data row8 col2\" >70</td>\n",
              "      <td id=\"T_1036f_row8_col3\" class=\"data row8 col3\" >96</td>\n",
              "      <td id=\"T_1036f_row8_col4\" class=\"data row8 col4\" >Cincinnati Financial Corp.</td>\n",
              "      <td id=\"T_1036f_row8_col5\" class=\"data row8 col5\" >Staples Inc</td>\n",
              "      <td id=\"T_1036f_row8_col6\" class=\"data row8 col6\" >2017-06-01 10:09:00</td>\n",
              "      <td id=\"T_1036f_row8_col7\" class=\"data row8 col7\" >2018-06-26 00:17:00</td>\n",
              "    </tr>\n",
              "    <tr>\n",
              "      <th id=\"T_1036f_level0_row9\" class=\"row_heading level0 row9\" >9</th>\n",
              "      <td id=\"T_1036f_row9_col0\" class=\"data row9 col0\" >825</td>\n",
              "      <td id=\"T_1036f_row9_col1\" class=\"data row9 col1\" >676</td>\n",
              "      <td id=\"T_1036f_row9_col2\" class=\"data row9 col2\" >70</td>\n",
              "      <td id=\"T_1036f_row9_col3\" class=\"data row9 col3\" >86</td>\n",
              "      <td id=\"T_1036f_row9_col4\" class=\"data row9 col4\" >Cincinnati Financial Corp.</td>\n",
              "      <td id=\"T_1036f_row9_col5\" class=\"data row9 col5\" >Ball Corporation</td>\n",
              "      <td id=\"T_1036f_row9_col6\" class=\"data row9 col6\" >2017-06-01 10:09:00</td>\n",
              "      <td id=\"T_1036f_row9_col7\" class=\"data row9 col7\" >2017-09-24 21:16:00</td>\n",
              "    </tr>\n",
              "    <tr>\n",
              "      <th id=\"T_1036f_level0_row10\" class=\"row_heading level0 row10\" >10</th>\n",
              "      <td id=\"T_1036f_row10_col0\" class=\"data row10 col0\" >825</td>\n",
              "      <td id=\"T_1036f_row10_col1\" class=\"data row10 col1\" >684</td>\n",
              "      <td id=\"T_1036f_row10_col2\" class=\"data row10 col2\" >70</td>\n",
              "      <td id=\"T_1036f_row10_col3\" class=\"data row10 col3\" >82</td>\n",
              "      <td id=\"T_1036f_row10_col4\" class=\"data row10 col4\" >Cincinnati Financial Corp.</td>\n",
              "      <td id=\"T_1036f_row10_col5\" class=\"data row10 col5\" >Legg Mason Inc.</td>\n",
              "      <td id=\"T_1036f_row10_col6\" class=\"data row10 col6\" >2017-06-01 10:09:00</td>\n",
              "      <td id=\"T_1036f_row10_col7\" class=\"data row10 col7\" >2018-04-07 16:55:00</td>\n",
              "    </tr>\n",
              "  </tbody>\n",
              "</table>\n",
              "</div>"
            ]
          },
          "metadata": {}
        },
        {
          "output_type": "stream",
          "name": "stdout",
          "text": [
            "-------------------\n",
            "Your SQL query is correct!\n"
          ]
        }
      ]
    },
    {
      "cell_type": "markdown",
      "source": [
        "Your account managers cannot thank you enough for the ammunition you have provided for their conversations with their customers. This has been hugely helpful."
      ],
      "metadata": {
        "id": "aWxdTCWZqy5c"
      }
    },
    {
      "cell_type": "markdown",
      "source": [
        "# **Conclusion:**\n",
        "\n",
        "Wow! You have become a master at combining tables. This means you are ready to drive serious impact on any set of tables in a production environment."
      ],
      "metadata": {
        "id": "G9N7hL1WQWty"
      }
    }
  ]
}