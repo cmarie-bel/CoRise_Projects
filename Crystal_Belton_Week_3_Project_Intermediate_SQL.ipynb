{
  "nbformat": 4,
  "nbformat_minor": 0,
  "metadata": {
    "colab": {
      "provenance": [],
      "collapsed_sections": [
        "Pg-a7-xULZ7m"
      ],
      "include_colab_link": true
    },
    "kernelspec": {
      "name": "python3",
      "display_name": "Python 3"
    },
    "language_info": {
      "name": "python"
    }
  },
  "cells": [
    {
      "cell_type": "markdown",
      "metadata": {
        "id": "view-in-github",
        "colab_type": "text"
      },
      "source": [
        "<a href=\"https://colab.research.google.com/github/cmarie-bel/CoRise_Projects/blob/main/Crystal_Belton_Week_3_Project_Intermediate_SQL.ipynb\" target=\"_parent\"><img src=\"https://colab.research.google.com/assets/colab-badge.svg\" alt=\"Open In Colab\"/></a>"
      ]
    },
    {
      "cell_type": "markdown",
      "source": [
        "> 1. DUPLICATE THIS COLAB TO START WORKING ON IT. Using File > Save a copy to drive.\n",
        "> 2. SHARE SETTINGS: In the new notebook, set the sharing settings to \"Anyone with the link\" by clicking \"Share\" on the top right corner.\n",
        "\n",
        "\n",
        "\n",
        "\n",
        "\n",
        "Welcome to the third week's project for *Intermediate SQL*!\n",
        "\n",
        "This week's lecture and material on CoRise showed you how to think about outer joins, set operators (union, intersect, except) and subqueries in SQL and combine that with other things you learned in Weeks 1 and 2. For this project we further your understanding of these concepts by delving a bit deeper. However, for everything covered in this project, you can find related examples in our course material."
      ],
      "metadata": {
        "id": "yVrZZ06OG2LW"
      }
    },
    {
      "cell_type": "markdown",
      "source": [
        "# **Prerequisite configuration**\n",
        "Below we install the software required to run this project. Please make sure to **RUN IT** by clicking on the play-button icon and to feel free to ignore the content of these two hidden cells."
      ],
      "metadata": {
        "id": "Pg-a7-xULZ7m"
      }
    },
    {
      "cell_type": "code",
      "execution_count": null,
      "metadata": {
        "id": "gUx2DQloGAzk"
      },
      "outputs": [],
      "source": [
        "%%capture\n",
        "!pip install git+https://github.com/corise-edu/course-intermediate-sql.git"
      ]
    },
    {
      "cell_type": "code",
      "source": [
        "import pandas as pd\n",
        "from IPython.display import display, HTML\n",
        "from sql_course import run as sql_run\n",
        "from sql_course import check\n",
        "\n",
        "# Show all the rows (instead of only a few)\n",
        "pd.set_option(\"display.max_rows\", None)\n",
        "\n",
        "# Set precision to max 2 decimals\n",
        "pd.set_option('precision', 2)\n",
        "\n",
        "# Set CSS Style for Table\n",
        "# Make it work with night & light mode\n",
        "# - Alternating rows\n",
        "# - th elements\n",
        "# - td elements\n",
        "css_style = '''\n",
        "<style>\n",
        "  html {\n",
        "    --td-font-color: black;\n",
        "    --font-color: black;\n",
        "    --background-color: #e0e0e0;\n",
        "  }\n",
        "  html[theme=dark] {\n",
        "    --td-font-color: white;\n",
        "    --font-color: black;\n",
        "    --background-color: #6688ff;\n",
        "  }\n",
        "  th {\n",
        "    background: #fbd44c;\n",
        "    color: var(--font-color);\n",
        "    font-size: 16px;\n",
        "    text-align: center;\n",
        "    font-weight: bold;\n",
        "  }\n",
        "  tr:nth-child(even) {\n",
        "    background-color: var(--background-color);\n",
        "    color: var(--font-color);\n",
        "  }\n",
        "  td {\n",
        "    font-size: 14px;\n",
        "    color: var(--td-font-color);\n",
        "  }\n",
        "</style>\n",
        "'''\n",
        "\n",
        "\n",
        "def run(sql_query):\n",
        "  df = sql_run(sql_query)\n",
        "\n",
        "  # Puts the scrollbar next to the DataFrame\n",
        "  display(HTML(css_style +\n",
        "               \"<div style='max-height: 500px; overflow: auto; width: fit-content; border-style: solid;\" +\n",
        "               \" border-width: 1px; border-color: #0139fe; font-family: GT Planar,Inter,Arial,sans-serif;'>\" +\n",
        "               df.style.render() +\n",
        "               \"</div>\"))\n",
        "\n"
      ],
      "metadata": {
        "id": "n-vdL9gWT2rm"
      },
      "execution_count": null,
      "outputs": []
    },
    {
      "cell_type": "markdown",
      "source": [
        "# **The Setting:**\n",
        "\n",
        "Your life as a data analyst at CoRise has been a blast! Your previous successes helping CoRise understand the core drivers of their business have set you up very well at CoRise. You have been promoted to head analyst and are now expected to proactively ask the questions that will unearth value to the business folks at CoRise.\n",
        "\n",
        "\n"
      ],
      "metadata": {
        "id": "399KLP3Un1yc"
      }
    },
    {
      "cell_type": "markdown",
      "source": [
        "\n",
        "# **Schema:**\n",
        "\n",
        "As we discussed in Week 2 , the `courses` table from Week 1 has been replaced with the five tables below and we will continue to use these tables:\n",
        "\n",
        "\n",
        "```\n",
        "create table course_info (\n",
        "course_id integer,\n",
        "course_name text,\n",
        "course_desc text,\n",
        "course_category text,\n",
        "course_level text\n",
        ");\n",
        "```\n",
        "\n",
        "```\n",
        "create table instructors (\n",
        "instructor_id integer,\n",
        "name text,\n",
        "affiliation text,\n",
        "teaching_experience integer\n",
        ");\n",
        "```\n",
        "\n",
        "```\n",
        "create table learners (\n",
        "learner_id integer,\n",
        "name text,\n",
        "affiliation text\n",
        ");\n",
        "```\n",
        "\n",
        "```\n",
        "create table course_run (\n",
        "course_run_id integer,\n",
        "course_id integer,\n",
        "instructor_id integer,\n",
        "start_date date,\n",
        "num_weeks integer,\n",
        "num_TAs integer,\n",
        "nps integer\n",
        ");\n",
        "```\n",
        "\n",
        "```\n",
        "create table course_registration_info (\n",
        "course_run_id integer,\n",
        "learner_id integer\n",
        ");\n",
        "```"
      ],
      "metadata": {
        "id": "3DJlXcRBpAQd"
      }
    },
    {
      "cell_type": "markdown",
      "source": [
        "# **Disclaimer**\n",
        "\n",
        "Any resemblance of the data in this table to anything real (other than the names and descriptions of courses) are entirely random (could have been my pseudo random generator or my own imagination, since it isn't easy to distinguish between the two :-), so do not stress yourself out trying to make sense of any categorization, such as why a course run might even overlap with another run and such other niceties)."
      ],
      "metadata": {
        "id": "pXsklbFABCaa"
      }
    },
    {
      "cell_type": "markdown",
      "source": [
        "# **Part 0 - Wrapping Up Loose Ends from Week 2**\n",
        "\n",
        "You may recall that we didn't do questions q_3_4 and q_4_2 from the Week 1 Project with the new set of normalized tables in Week 2. The reason we didn't attempt this in Week 2 is that it's a lot simpler to write these queries using subqueries. `num_learners_registered` was a column in the `courses` table during Week 1, but we added the concept of learners and their affiliations in the `learners` table. We also created yet another table that records which learner registered for which `course_run` in the `course_registration_info` table. As a result, `num_learners_registered` was not readily available. We will try our hand at q_4_2 again this week, but we'll leave q_3_4 for another day. (It turns out there is a bug in the `num_tas` column in the `course_run` table - it has negative values! This means the results from q_3_4 are not meaningful or intuitive, so we won't revisit it as part of this project.)"
      ],
      "metadata": {
        "id": "5xInosqEZkIA"
      }
    },
    {
      "cell_type": "code",
      "source": [
        "### Question: q3_0_1\n",
        "### (Question q_4_2 from Week 1)\n",
        "### Let's group the number of learners into three buckets:\n",
        "### low (fewer than 30 learners), medium (30-100) and high (100+ learners).\n",
        "### Let's get the minimum, maximum, & the average nps for each of these three buckets.\n",
        "### Hint: You can compute num_learners_registered in a separate subquery and\n",
        "### provide it as a computed column to the outer query - after that it will look\n",
        "### very similar to the situation where you had this as a column in the courses table.\n",
        "### Output columns: num_learners_bucket, min_nps, max_nps, avg_nps\n",
        "query = \"\"\"\n",
        "\n",
        "\n",
        "SELECT\n",
        "    case\n",
        "      when num_learners_registered < 30 then 'low'\n",
        "      when num_learners_registered < 100 then 'medium'\n",
        "    else 'high'\n",
        "  end as num_learners_bucket,\n",
        "  min(nps) as min_nps,\n",
        "  max(nps) as max_nps,\n",
        "  avg(nps) as avg_nps\n",
        "FROM course_run\n",
        "INNER JOIN\n",
        "  (SELECT course_run_id, count(distinct learner_id) as num_learners_registered\n",
        "  FROM course_registration_info\n",
        "  GROUP BY course_run_id) as sq\n",
        "  on (course_run. course_run_id = sq.course_run_id)\n",
        "GROUP BY\n",
        "    num_learners_bucket\n",
        "\n",
        "        \"\"\"\n",
        "\n",
        "run(query)\n",
        "check(q3_0_1 = query)"
      ],
      "metadata": {
        "id": "SsPf3uzo0n6t",
        "colab": {
          "base_uri": "https://localhost:8080/",
          "height": 149
        },
        "outputId": "4f2a1eba-6913-418f-f4af-94984749863a"
      },
      "execution_count": null,
      "outputs": [
        {
          "output_type": "display_data",
          "data": {
            "text/plain": [
              "<IPython.core.display.HTML object>"
            ],
            "text/html": [
              "\n",
              "<style>\n",
              "  html {\n",
              "    --td-font-color: black;\n",
              "    --font-color: black;\n",
              "    --background-color: #e0e0e0;\n",
              "  }\n",
              "  html[theme=dark] {\n",
              "    --td-font-color: white;\n",
              "    --font-color: black;\n",
              "    --background-color: #6688ff;\n",
              "  }\n",
              "  th {\n",
              "    background: #fbd44c;\n",
              "    color: var(--font-color);\n",
              "    font-size: 16px;\n",
              "    text-align: center;\n",
              "    font-weight: bold;\n",
              "  }\n",
              "  tr:nth-child(even) {\n",
              "    background-color: var(--background-color);\n",
              "    color: var(--font-color);\n",
              "  }\n",
              "  td {\n",
              "    font-size: 14px;\n",
              "    color: var(--td-font-color);\n",
              "  }\n",
              "</style>\n",
              "<div style='max-height: 500px; overflow: auto; width: fit-content; border-style: solid; border-width: 1px; border-color: #0139fe; font-family: GT Planar,Inter,Arial,sans-serif;'><style type=\"text/css\">\n",
              "</style>\n",
              "<table id=\"T_2a932_\">\n",
              "  <thead>\n",
              "    <tr>\n",
              "      <th class=\"blank level0\" >&nbsp;</th>\n",
              "      <th class=\"col_heading level0 col0\" >num_learners_bucket</th>\n",
              "      <th class=\"col_heading level0 col1\" >min_nps</th>\n",
              "      <th class=\"col_heading level0 col2\" >max_nps</th>\n",
              "      <th class=\"col_heading level0 col3\" >avg_nps</th>\n",
              "    </tr>\n",
              "  </thead>\n",
              "  <tbody>\n",
              "    <tr>\n",
              "      <th id=\"T_2a932_level0_row0\" class=\"row_heading level0 row0\" >0</th>\n",
              "      <td id=\"T_2a932_row0_col0\" class=\"data row0 col0\" >high</td>\n",
              "      <td id=\"T_2a932_row0_col1\" class=\"data row0 col1\" >41</td>\n",
              "      <td id=\"T_2a932_row0_col2\" class=\"data row0 col2\" >99</td>\n",
              "      <td id=\"T_2a932_row0_col3\" class=\"data row0 col3\" >73.92</td>\n",
              "    </tr>\n",
              "    <tr>\n",
              "      <th id=\"T_2a932_level0_row1\" class=\"row_heading level0 row1\" >1</th>\n",
              "      <td id=\"T_2a932_row1_col0\" class=\"data row1 col0\" >low</td>\n",
              "      <td id=\"T_2a932_row1_col1\" class=\"data row1 col1\" >56</td>\n",
              "      <td id=\"T_2a932_row1_col2\" class=\"data row1 col2\" >100</td>\n",
              "      <td id=\"T_2a932_row1_col3\" class=\"data row1 col3\" >83.55</td>\n",
              "    </tr>\n",
              "    <tr>\n",
              "      <th id=\"T_2a932_level0_row2\" class=\"row_heading level0 row2\" >2</th>\n",
              "      <td id=\"T_2a932_row2_col0\" class=\"data row2 col0\" >medium</td>\n",
              "      <td id=\"T_2a932_row2_col1\" class=\"data row2 col1\" >40</td>\n",
              "      <td id=\"T_2a932_row2_col2\" class=\"data row2 col2\" >99</td>\n",
              "      <td id=\"T_2a932_row2_col3\" class=\"data row2 col3\" >72.76</td>\n",
              "    </tr>\n",
              "  </tbody>\n",
              "</table>\n",
              "</div>"
            ]
          },
          "metadata": {}
        },
        {
          "output_type": "stream",
          "name": "stdout",
          "text": [
            "-------------------\n",
            "Your SQL query is correct!\n"
          ]
        }
      ]
    },
    {
      "cell_type": "markdown",
      "source": [
        "# **Part 1 - Digging into Outliers:**\n",
        "\n",
        "As an expert analyst, by now you have recognized that understanding who the outliers are is usually very informative. Then you can explore reasons why these outliers exist and take action to remove the outliers if they are not desirable.\n",
        "\n",
        "\n",
        "\n",
        "\n"
      ],
      "metadata": {
        "id": "0gQEqxGCKN6d"
      }
    },
    {
      "cell_type": "code",
      "source": [
        "### Question: q3_1_1\n",
        "### Print the names of learners who have not registered for any course.\n",
        "### Please use outer joins.\n",
        "### You can assume course_run_id will never take null values\n",
        "### in the table course_registration_info.\n",
        "### Hint: In a left outer join, for a row in the left table with no matches\n",
        "### in the right table what are the values in the columns of the right table?\n",
        "### In particular if a learner has not registered for a course then\n",
        "### what right hand side table can you left outer join the learners table (as the left table) with\n",
        "### to discover learners who have not registered for a course\n",
        "### Output columns: name\n",
        "query = \"\"\"\n",
        "\n",
        "SELECT name\n",
        "FROM learners\n",
        "LEFT OUTER JOIN\n",
        "  course_registration_info\n",
        "  ON (learners.learner_id = course_registration_info.learner_id)\n",
        "WHERE course_registration_info.learner_id is NULL\n",
        "\n",
        "\n",
        "         \"\"\"\n",
        "\n",
        "run(query)\n",
        "check(q3_1_1 = query)"
      ],
      "metadata": {
        "id": "Oazg336EL7zH",
        "colab": {
          "base_uri": "https://localhost:8080/",
          "height": 102
        },
        "outputId": "8443f3e2-affa-43cb-e644-dc7eb1c4e74f"
      },
      "execution_count": null,
      "outputs": [
        {
          "output_type": "display_data",
          "data": {
            "text/plain": [
              "<IPython.core.display.HTML object>"
            ],
            "text/html": [
              "\n",
              "<style>\n",
              "  html {\n",
              "    --td-font-color: black;\n",
              "    --font-color: black;\n",
              "    --background-color: #e0e0e0;\n",
              "  }\n",
              "  html[theme=dark] {\n",
              "    --td-font-color: white;\n",
              "    --font-color: black;\n",
              "    --background-color: #6688ff;\n",
              "  }\n",
              "  th {\n",
              "    background: #fbd44c;\n",
              "    color: var(--font-color);\n",
              "    font-size: 16px;\n",
              "    text-align: center;\n",
              "    font-weight: bold;\n",
              "  }\n",
              "  tr:nth-child(even) {\n",
              "    background-color: var(--background-color);\n",
              "    color: var(--font-color);\n",
              "  }\n",
              "  td {\n",
              "    font-size: 14px;\n",
              "    color: var(--td-font-color);\n",
              "  }\n",
              "</style>\n",
              "<div style='max-height: 500px; overflow: auto; width: fit-content; border-style: solid; border-width: 1px; border-color: #0139fe; font-family: GT Planar,Inter,Arial,sans-serif;'><style type=\"text/css\">\n",
              "</style>\n",
              "<table id=\"T_476b8_\">\n",
              "  <thead>\n",
              "    <tr>\n",
              "      <th class=\"blank level0\" >&nbsp;</th>\n",
              "      <th class=\"col_heading level0 col0\" >name</th>\n",
              "    </tr>\n",
              "  </thead>\n",
              "  <tbody>\n",
              "    <tr>\n",
              "      <th id=\"T_476b8_level0_row0\" class=\"row_heading level0 row0\" >0</th>\n",
              "      <td id=\"T_476b8_row0_col0\" class=\"data row0 col0\" >Javier Haddad</td>\n",
              "    </tr>\n",
              "  </tbody>\n",
              "</table>\n",
              "</div>"
            ]
          },
          "metadata": {}
        },
        {
          "output_type": "stream",
          "name": "stdout",
          "text": [
            "-------------------\n",
            "Your SQL query is correct!\n"
          ]
        }
      ]
    },
    {
      "cell_type": "markdown",
      "source": [
        "It may be a good idea to pass this information along to your chief of learner happiness, so they can get in touch and understand the reasons why this person (or these people) have not registered.\n",
        "\n",
        "Before we move away from this query, let's try addressing the same question again, but this time try writing it without an outer join. This exercise is to illustrate how you can achieve the same results with very different SQL queries."
      ],
      "metadata": {
        "id": "UHsB9YxhDI4x"
      }
    },
    {
      "cell_type": "code",
      "source": [
        "### Question: q3_1_2\n",
        "### Print the names of learners who have not registered for any course.\n",
        "### Please do not use outer joins.\n",
        "### Keep in mind that name isn't a primary key for the learners table (learner_id is).\n",
        "### Appeal to the logic that learners who have not registered for any course\n",
        "### are essentially a set of all learners minus the set of learners\n",
        "### who have registered for some course.\n",
        "### Output columns: name\n",
        "\n",
        "query = \"\"\"\n",
        "\n",
        "SELECT name\n",
        "FROM\n",
        "  (\n",
        "  SELECT learners.name, learners.learner_id\n",
        "  FROM learners\n",
        "  EXCEPT\n",
        "    SELECT learners.name, learners.learner_id\n",
        "    FROM learners\n",
        "    INNER JOIN course_registration_info ON (learners.learner_id = course_registration_info.learner_id)\n",
        "  ) as sq\n",
        "\n",
        "         \"\"\"\n",
        "\n",
        "run(query)\n",
        "check(q3_1_2 = query)"
      ],
      "metadata": {
        "id": "olO-nbyADdDw",
        "colab": {
          "base_uri": "https://localhost:8080/",
          "height": 102
        },
        "outputId": "279362f1-619f-465d-cd96-5ff58eeed590"
      },
      "execution_count": null,
      "outputs": [
        {
          "output_type": "display_data",
          "data": {
            "text/plain": [
              "<IPython.core.display.HTML object>"
            ],
            "text/html": [
              "\n",
              "<style>\n",
              "  html {\n",
              "    --td-font-color: black;\n",
              "    --font-color: black;\n",
              "    --background-color: #e0e0e0;\n",
              "  }\n",
              "  html[theme=dark] {\n",
              "    --td-font-color: white;\n",
              "    --font-color: black;\n",
              "    --background-color: #6688ff;\n",
              "  }\n",
              "  th {\n",
              "    background: #fbd44c;\n",
              "    color: var(--font-color);\n",
              "    font-size: 16px;\n",
              "    text-align: center;\n",
              "    font-weight: bold;\n",
              "  }\n",
              "  tr:nth-child(even) {\n",
              "    background-color: var(--background-color);\n",
              "    color: var(--font-color);\n",
              "  }\n",
              "  td {\n",
              "    font-size: 14px;\n",
              "    color: var(--td-font-color);\n",
              "  }\n",
              "</style>\n",
              "<div style='max-height: 500px; overflow: auto; width: fit-content; border-style: solid; border-width: 1px; border-color: #0139fe; font-family: GT Planar,Inter,Arial,sans-serif;'><style type=\"text/css\">\n",
              "</style>\n",
              "<table id=\"T_407da_\">\n",
              "  <thead>\n",
              "    <tr>\n",
              "      <th class=\"blank level0\" >&nbsp;</th>\n",
              "      <th class=\"col_heading level0 col0\" >name</th>\n",
              "    </tr>\n",
              "  </thead>\n",
              "  <tbody>\n",
              "    <tr>\n",
              "      <th id=\"T_407da_level0_row0\" class=\"row_heading level0 row0\" >0</th>\n",
              "      <td id=\"T_407da_row0_col0\" class=\"data row0 col0\" >Javier Haddad</td>\n",
              "    </tr>\n",
              "  </tbody>\n",
              "</table>\n",
              "</div>"
            ]
          },
          "metadata": {}
        },
        {
          "output_type": "stream",
          "name": "stdout",
          "text": [
            "-------------------\n",
            "Your SQL query is correct!\n"
          ]
        }
      ]
    },
    {
      "cell_type": "markdown",
      "source": [
        "Well, that must have been satisfying, getting to write the same logic in two different ways.\n",
        "\n",
        "On to a few more interesting outliers! CoRise is finding that it needs a bit more help running some longer courses (4 weeks or more in duration). It would be good to identify instructors who have never taught a course more than 3 weeks long, so the head of course content can connect with them and understand how to get them to teach longer courses (some have never taught a course at all!)."
      ],
      "metadata": {
        "id": "FrUR3V_8D7gQ"
      }
    },
    {
      "cell_type": "code",
      "source": [
        "### Question: q3_1_3\n",
        "### Retrieve ids and names of instructors who have never taught\n",
        "### a course of more than 3 weeks long.\n",
        "### Please use outer joins for this question.\n",
        "### Output columns: instructor_id, name\n",
        "query = \"\"\"\n",
        "\n",
        " SELECT instructor_id, name\n",
        " FROM\n",
        "  (\n",
        "    SELECT\n",
        "      instructors.instructor_id,\n",
        "      name,\n",
        "      max(num_weeks) as num_weeks\n",
        "    FROM\n",
        "      instructors\n",
        "      LEFT OUTER JOIN course_run as CR on (instructors.instructor_id = CR.instructor_id)\n",
        "    GROUP BY instructors.instructor_id)\n",
        "    WHERE num_weeks is NULL or num_weeks < 4\n",
        "\n",
        "         \"\"\"\n",
        "\n",
        "run(query)\n",
        "check(q3_1_3 = query)"
      ],
      "metadata": {
        "id": "LMwc_6ahP133",
        "colab": {
          "base_uri": "https://localhost:8080/",
          "height": 554
        },
        "outputId": "d3b6fe5c-7087-416e-876c-eadd34fab705"
      },
      "execution_count": null,
      "outputs": [
        {
          "output_type": "display_data",
          "data": {
            "text/plain": [
              "<IPython.core.display.HTML object>"
            ],
            "text/html": [
              "\n",
              "<style>\n",
              "  html {\n",
              "    --td-font-color: black;\n",
              "    --font-color: black;\n",
              "    --background-color: #e0e0e0;\n",
              "  }\n",
              "  html[theme=dark] {\n",
              "    --td-font-color: white;\n",
              "    --font-color: black;\n",
              "    --background-color: #6688ff;\n",
              "  }\n",
              "  th {\n",
              "    background: #fbd44c;\n",
              "    color: var(--font-color);\n",
              "    font-size: 16px;\n",
              "    text-align: center;\n",
              "    font-weight: bold;\n",
              "  }\n",
              "  tr:nth-child(even) {\n",
              "    background-color: var(--background-color);\n",
              "    color: var(--font-color);\n",
              "  }\n",
              "  td {\n",
              "    font-size: 14px;\n",
              "    color: var(--td-font-color);\n",
              "  }\n",
              "</style>\n",
              "<div style='max-height: 500px; overflow: auto; width: fit-content; border-style: solid; border-width: 1px; border-color: #0139fe; font-family: GT Planar,Inter,Arial,sans-serif;'><style type=\"text/css\">\n",
              "</style>\n",
              "<table id=\"T_dd2fe_\">\n",
              "  <thead>\n",
              "    <tr>\n",
              "      <th class=\"blank level0\" >&nbsp;</th>\n",
              "      <th class=\"col_heading level0 col0\" >instructor_id</th>\n",
              "      <th class=\"col_heading level0 col1\" >name</th>\n",
              "    </tr>\n",
              "  </thead>\n",
              "  <tbody>\n",
              "    <tr>\n",
              "      <th id=\"T_dd2fe_level0_row0\" class=\"row_heading level0 row0\" >0</th>\n",
              "      <td id=\"T_dd2fe_row0_col0\" class=\"data row0 col0\" >1</td>\n",
              "      <td id=\"T_dd2fe_row0_col1\" class=\"data row0 col1\" >Damien Tapia</td>\n",
              "    </tr>\n",
              "    <tr>\n",
              "      <th id=\"T_dd2fe_level0_row1\" class=\"row_heading level0 row1\" >1</th>\n",
              "      <td id=\"T_dd2fe_row1_col0\" class=\"data row1 col0\" >2</td>\n",
              "      <td id=\"T_dd2fe_row1_col1\" class=\"data row1 col1\" >Paul Roth</td>\n",
              "    </tr>\n",
              "    <tr>\n",
              "      <th id=\"T_dd2fe_level0_row2\" class=\"row_heading level0 row2\" >2</th>\n",
              "      <td id=\"T_dd2fe_row2_col0\" class=\"data row2 col0\" >3</td>\n",
              "      <td id=\"T_dd2fe_row2_col1\" class=\"data row2 col1\" >Charlize Warner</td>\n",
              "    </tr>\n",
              "    <tr>\n",
              "      <th id=\"T_dd2fe_level0_row3\" class=\"row_heading level0 row3\" >3</th>\n",
              "      <td id=\"T_dd2fe_row3_col0\" class=\"data row3 col0\" >4</td>\n",
              "      <td id=\"T_dd2fe_row3_col1\" class=\"data row3 col1\" >Talon Foley</td>\n",
              "    </tr>\n",
              "    <tr>\n",
              "      <th id=\"T_dd2fe_level0_row4\" class=\"row_heading level0 row4\" >4</th>\n",
              "      <td id=\"T_dd2fe_row4_col0\" class=\"data row4 col0\" >5</td>\n",
              "      <td id=\"T_dd2fe_row4_col1\" class=\"data row4 col1\" >Maximo Duffy</td>\n",
              "    </tr>\n",
              "    <tr>\n",
              "      <th id=\"T_dd2fe_level0_row5\" class=\"row_heading level0 row5\" >5</th>\n",
              "      <td id=\"T_dd2fe_row5_col0\" class=\"data row5 col0\" >6</td>\n",
              "      <td id=\"T_dd2fe_row5_col1\" class=\"data row5 col1\" >Cornelius Hardin</td>\n",
              "    </tr>\n",
              "    <tr>\n",
              "      <th id=\"T_dd2fe_level0_row6\" class=\"row_heading level0 row6\" >6</th>\n",
              "      <td id=\"T_dd2fe_row6_col0\" class=\"data row6 col0\" >7</td>\n",
              "      <td id=\"T_dd2fe_row6_col1\" class=\"data row6 col1\" >Yahir Griffith</td>\n",
              "    </tr>\n",
              "    <tr>\n",
              "      <th id=\"T_dd2fe_level0_row7\" class=\"row_heading level0 row7\" >7</th>\n",
              "      <td id=\"T_dd2fe_row7_col0\" class=\"data row7 col0\" >8</td>\n",
              "      <td id=\"T_dd2fe_row7_col1\" class=\"data row7 col1\" >Elaina Brooks</td>\n",
              "    </tr>\n",
              "    <tr>\n",
              "      <th id=\"T_dd2fe_level0_row8\" class=\"row_heading level0 row8\" >8</th>\n",
              "      <td id=\"T_dd2fe_row8_col0\" class=\"data row8 col0\" >9</td>\n",
              "      <td id=\"T_dd2fe_row8_col1\" class=\"data row8 col1\" >Damarion Fernandez</td>\n",
              "    </tr>\n",
              "    <tr>\n",
              "      <th id=\"T_dd2fe_level0_row9\" class=\"row_heading level0 row9\" >9</th>\n",
              "      <td id=\"T_dd2fe_row9_col0\" class=\"data row9 col0\" >10</td>\n",
              "      <td id=\"T_dd2fe_row9_col1\" class=\"data row9 col1\" >Yosef Woods</td>\n",
              "    </tr>\n",
              "    <tr>\n",
              "      <th id=\"T_dd2fe_level0_row10\" class=\"row_heading level0 row10\" >10</th>\n",
              "      <td id=\"T_dd2fe_row10_col0\" class=\"data row10 col0\" >15</td>\n",
              "      <td id=\"T_dd2fe_row10_col1\" class=\"data row10 col1\" >Oswaldo Murray</td>\n",
              "    </tr>\n",
              "    <tr>\n",
              "      <th id=\"T_dd2fe_level0_row11\" class=\"row_heading level0 row11\" >11</th>\n",
              "      <td id=\"T_dd2fe_row11_col0\" class=\"data row11 col0\" >107</td>\n",
              "      <td id=\"T_dd2fe_row11_col1\" class=\"data row11 col1\" >Jerimiah Larsen</td>\n",
              "    </tr>\n",
              "    <tr>\n",
              "      <th id=\"T_dd2fe_level0_row12\" class=\"row_heading level0 row12\" >12</th>\n",
              "      <td id=\"T_dd2fe_row12_col0\" class=\"data row12 col0\" >135</td>\n",
              "      <td id=\"T_dd2fe_row12_col1\" class=\"data row12 col1\" >Willow Cherry</td>\n",
              "    </tr>\n",
              "    <tr>\n",
              "      <th id=\"T_dd2fe_level0_row13\" class=\"row_heading level0 row13\" >13</th>\n",
              "      <td id=\"T_dd2fe_row13_col0\" class=\"data row13 col0\" >166</td>\n",
              "      <td id=\"T_dd2fe_row13_col1\" class=\"data row13 col1\" >Mareli Vargas</td>\n",
              "    </tr>\n",
              "    <tr>\n",
              "      <th id=\"T_dd2fe_level0_row14\" class=\"row_heading level0 row14\" >14</th>\n",
              "      <td id=\"T_dd2fe_row14_col0\" class=\"data row14 col0\" >191</td>\n",
              "      <td id=\"T_dd2fe_row14_col1\" class=\"data row14 col1\" >Hannah Glover</td>\n",
              "    </tr>\n",
              "    <tr>\n",
              "      <th id=\"T_dd2fe_level0_row15\" class=\"row_heading level0 row15\" >15</th>\n",
              "      <td id=\"T_dd2fe_row15_col0\" class=\"data row15 col0\" >192</td>\n",
              "      <td id=\"T_dd2fe_row15_col1\" class=\"data row15 col1\" >Gunner Knox</td>\n",
              "    </tr>\n",
              "    <tr>\n",
              "      <th id=\"T_dd2fe_level0_row16\" class=\"row_heading level0 row16\" >16</th>\n",
              "      <td id=\"T_dd2fe_row16_col0\" class=\"data row16 col0\" >193</td>\n",
              "      <td id=\"T_dd2fe_row16_col1\" class=\"data row16 col1\" >Bo Winters</td>\n",
              "    </tr>\n",
              "    <tr>\n",
              "      <th id=\"T_dd2fe_level0_row17\" class=\"row_heading level0 row17\" >17</th>\n",
              "      <td id=\"T_dd2fe_row17_col0\" class=\"data row17 col0\" >194</td>\n",
              "      <td id=\"T_dd2fe_row17_col1\" class=\"data row17 col1\" >Violet Santana</td>\n",
              "    </tr>\n",
              "    <tr>\n",
              "      <th id=\"T_dd2fe_level0_row18\" class=\"row_heading level0 row18\" >18</th>\n",
              "      <td id=\"T_dd2fe_row18_col0\" class=\"data row18 col0\" >195</td>\n",
              "      <td id=\"T_dd2fe_row18_col1\" class=\"data row18 col1\" >Jimmy Whitney</td>\n",
              "    </tr>\n",
              "    <tr>\n",
              "      <th id=\"T_dd2fe_level0_row19\" class=\"row_heading level0 row19\" >19</th>\n",
              "      <td id=\"T_dd2fe_row19_col0\" class=\"data row19 col0\" >196</td>\n",
              "      <td id=\"T_dd2fe_row19_col1\" class=\"data row19 col1\" >Karma Everett</td>\n",
              "    </tr>\n",
              "    <tr>\n",
              "      <th id=\"T_dd2fe_level0_row20\" class=\"row_heading level0 row20\" >20</th>\n",
              "      <td id=\"T_dd2fe_row20_col0\" class=\"data row20 col0\" >197</td>\n",
              "      <td id=\"T_dd2fe_row20_col1\" class=\"data row20 col1\" >Karma Preston</td>\n",
              "    </tr>\n",
              "    <tr>\n",
              "      <th id=\"T_dd2fe_level0_row21\" class=\"row_heading level0 row21\" >21</th>\n",
              "      <td id=\"T_dd2fe_row21_col0\" class=\"data row21 col0\" >198</td>\n",
              "      <td id=\"T_dd2fe_row21_col1\" class=\"data row21 col1\" >Jaden Aguirre</td>\n",
              "    </tr>\n",
              "    <tr>\n",
              "      <th id=\"T_dd2fe_level0_row22\" class=\"row_heading level0 row22\" >22</th>\n",
              "      <td id=\"T_dd2fe_row22_col0\" class=\"data row22 col0\" >199</td>\n",
              "      <td id=\"T_dd2fe_row22_col1\" class=\"data row22 col1\" >Clarence Mclean</td>\n",
              "    </tr>\n",
              "    <tr>\n",
              "      <th id=\"T_dd2fe_level0_row23\" class=\"row_heading level0 row23\" >23</th>\n",
              "      <td id=\"T_dd2fe_row23_col0\" class=\"data row23 col0\" >200</td>\n",
              "      <td id=\"T_dd2fe_row23_col1\" class=\"data row23 col1\" >Abby Vargas</td>\n",
              "    </tr>\n",
              "  </tbody>\n",
              "</table>\n",
              "</div>"
            ]
          },
          "metadata": {}
        },
        {
          "output_type": "stream",
          "name": "stdout",
          "text": [
            "-------------------\n",
            "Your SQL query is correct!\n"
          ]
        }
      ]
    },
    {
      "cell_type": "markdown",
      "source": [
        "\n",
        "Way to go! Now see if you can accomplish the same task without outer joins."
      ],
      "metadata": {
        "id": "Gu7WE7UjKm9A"
      }
    },
    {
      "cell_type": "code",
      "source": [
        "### Question: q3_1_4\n",
        "### Retrieve ids and names of instructors who have never taught\n",
        "### a course of more than 3 weeks long.\n",
        "### Please do not use outer joins for this question.\n",
        "### Output columns: instructor_id, name\n",
        "query = \"\"\"\n",
        "\n",
        "SELECT i.instructor_id, i.name\n",
        "FROM instructors i\n",
        "WHERE i.instructor_id\n",
        "  NOT IN\n",
        "  (SELECT\n",
        "    instructor_id\n",
        "    FROM course_run\n",
        "    WHERE instructor_id is not null\n",
        "    GROUP BY instructor_id having max(num_weeks) > 3)\n",
        "\n",
        "        \"\"\"\n",
        "\n",
        "run(query)\n",
        "check(q3_1_4 = query)"
      ],
      "metadata": {
        "id": "0HKvaVMsP1gT",
        "colab": {
          "base_uri": "https://localhost:8080/",
          "height": 554
        },
        "outputId": "f6868a21-b08d-42aa-ae5b-efee9b16421d"
      },
      "execution_count": null,
      "outputs": [
        {
          "output_type": "display_data",
          "data": {
            "text/plain": [
              "<IPython.core.display.HTML object>"
            ],
            "text/html": [
              "\n",
              "<style>\n",
              "  html {\n",
              "    --td-font-color: black;\n",
              "    --font-color: black;\n",
              "    --background-color: #e0e0e0;\n",
              "  }\n",
              "  html[theme=dark] {\n",
              "    --td-font-color: white;\n",
              "    --font-color: black;\n",
              "    --background-color: #6688ff;\n",
              "  }\n",
              "  th {\n",
              "    background: #fbd44c;\n",
              "    color: var(--font-color);\n",
              "    font-size: 16px;\n",
              "    text-align: center;\n",
              "    font-weight: bold;\n",
              "  }\n",
              "  tr:nth-child(even) {\n",
              "    background-color: var(--background-color);\n",
              "    color: var(--font-color);\n",
              "  }\n",
              "  td {\n",
              "    font-size: 14px;\n",
              "    color: var(--td-font-color);\n",
              "  }\n",
              "</style>\n",
              "<div style='max-height: 500px; overflow: auto; width: fit-content; border-style: solid; border-width: 1px; border-color: #0139fe; font-family: GT Planar,Inter,Arial,sans-serif;'><style type=\"text/css\">\n",
              "</style>\n",
              "<table id=\"T_d57a9_\">\n",
              "  <thead>\n",
              "    <tr>\n",
              "      <th class=\"blank level0\" >&nbsp;</th>\n",
              "      <th class=\"col_heading level0 col0\" >instructor_id</th>\n",
              "      <th class=\"col_heading level0 col1\" >name</th>\n",
              "    </tr>\n",
              "  </thead>\n",
              "  <tbody>\n",
              "    <tr>\n",
              "      <th id=\"T_d57a9_level0_row0\" class=\"row_heading level0 row0\" >0</th>\n",
              "      <td id=\"T_d57a9_row0_col0\" class=\"data row0 col0\" >1</td>\n",
              "      <td id=\"T_d57a9_row0_col1\" class=\"data row0 col1\" >Damien Tapia</td>\n",
              "    </tr>\n",
              "    <tr>\n",
              "      <th id=\"T_d57a9_level0_row1\" class=\"row_heading level0 row1\" >1</th>\n",
              "      <td id=\"T_d57a9_row1_col0\" class=\"data row1 col0\" >2</td>\n",
              "      <td id=\"T_d57a9_row1_col1\" class=\"data row1 col1\" >Paul Roth</td>\n",
              "    </tr>\n",
              "    <tr>\n",
              "      <th id=\"T_d57a9_level0_row2\" class=\"row_heading level0 row2\" >2</th>\n",
              "      <td id=\"T_d57a9_row2_col0\" class=\"data row2 col0\" >3</td>\n",
              "      <td id=\"T_d57a9_row2_col1\" class=\"data row2 col1\" >Charlize Warner</td>\n",
              "    </tr>\n",
              "    <tr>\n",
              "      <th id=\"T_d57a9_level0_row3\" class=\"row_heading level0 row3\" >3</th>\n",
              "      <td id=\"T_d57a9_row3_col0\" class=\"data row3 col0\" >4</td>\n",
              "      <td id=\"T_d57a9_row3_col1\" class=\"data row3 col1\" >Talon Foley</td>\n",
              "    </tr>\n",
              "    <tr>\n",
              "      <th id=\"T_d57a9_level0_row4\" class=\"row_heading level0 row4\" >4</th>\n",
              "      <td id=\"T_d57a9_row4_col0\" class=\"data row4 col0\" >5</td>\n",
              "      <td id=\"T_d57a9_row4_col1\" class=\"data row4 col1\" >Maximo Duffy</td>\n",
              "    </tr>\n",
              "    <tr>\n",
              "      <th id=\"T_d57a9_level0_row5\" class=\"row_heading level0 row5\" >5</th>\n",
              "      <td id=\"T_d57a9_row5_col0\" class=\"data row5 col0\" >6</td>\n",
              "      <td id=\"T_d57a9_row5_col1\" class=\"data row5 col1\" >Cornelius Hardin</td>\n",
              "    </tr>\n",
              "    <tr>\n",
              "      <th id=\"T_d57a9_level0_row6\" class=\"row_heading level0 row6\" >6</th>\n",
              "      <td id=\"T_d57a9_row6_col0\" class=\"data row6 col0\" >7</td>\n",
              "      <td id=\"T_d57a9_row6_col1\" class=\"data row6 col1\" >Yahir Griffith</td>\n",
              "    </tr>\n",
              "    <tr>\n",
              "      <th id=\"T_d57a9_level0_row7\" class=\"row_heading level0 row7\" >7</th>\n",
              "      <td id=\"T_d57a9_row7_col0\" class=\"data row7 col0\" >8</td>\n",
              "      <td id=\"T_d57a9_row7_col1\" class=\"data row7 col1\" >Elaina Brooks</td>\n",
              "    </tr>\n",
              "    <tr>\n",
              "      <th id=\"T_d57a9_level0_row8\" class=\"row_heading level0 row8\" >8</th>\n",
              "      <td id=\"T_d57a9_row8_col0\" class=\"data row8 col0\" >9</td>\n",
              "      <td id=\"T_d57a9_row8_col1\" class=\"data row8 col1\" >Damarion Fernandez</td>\n",
              "    </tr>\n",
              "    <tr>\n",
              "      <th id=\"T_d57a9_level0_row9\" class=\"row_heading level0 row9\" >9</th>\n",
              "      <td id=\"T_d57a9_row9_col0\" class=\"data row9 col0\" >10</td>\n",
              "      <td id=\"T_d57a9_row9_col1\" class=\"data row9 col1\" >Yosef Woods</td>\n",
              "    </tr>\n",
              "    <tr>\n",
              "      <th id=\"T_d57a9_level0_row10\" class=\"row_heading level0 row10\" >10</th>\n",
              "      <td id=\"T_d57a9_row10_col0\" class=\"data row10 col0\" >15</td>\n",
              "      <td id=\"T_d57a9_row10_col1\" class=\"data row10 col1\" >Oswaldo Murray</td>\n",
              "    </tr>\n",
              "    <tr>\n",
              "      <th id=\"T_d57a9_level0_row11\" class=\"row_heading level0 row11\" >11</th>\n",
              "      <td id=\"T_d57a9_row11_col0\" class=\"data row11 col0\" >107</td>\n",
              "      <td id=\"T_d57a9_row11_col1\" class=\"data row11 col1\" >Jerimiah Larsen</td>\n",
              "    </tr>\n",
              "    <tr>\n",
              "      <th id=\"T_d57a9_level0_row12\" class=\"row_heading level0 row12\" >12</th>\n",
              "      <td id=\"T_d57a9_row12_col0\" class=\"data row12 col0\" >135</td>\n",
              "      <td id=\"T_d57a9_row12_col1\" class=\"data row12 col1\" >Willow Cherry</td>\n",
              "    </tr>\n",
              "    <tr>\n",
              "      <th id=\"T_d57a9_level0_row13\" class=\"row_heading level0 row13\" >13</th>\n",
              "      <td id=\"T_d57a9_row13_col0\" class=\"data row13 col0\" >166</td>\n",
              "      <td id=\"T_d57a9_row13_col1\" class=\"data row13 col1\" >Mareli Vargas</td>\n",
              "    </tr>\n",
              "    <tr>\n",
              "      <th id=\"T_d57a9_level0_row14\" class=\"row_heading level0 row14\" >14</th>\n",
              "      <td id=\"T_d57a9_row14_col0\" class=\"data row14 col0\" >191</td>\n",
              "      <td id=\"T_d57a9_row14_col1\" class=\"data row14 col1\" >Hannah Glover</td>\n",
              "    </tr>\n",
              "    <tr>\n",
              "      <th id=\"T_d57a9_level0_row15\" class=\"row_heading level0 row15\" >15</th>\n",
              "      <td id=\"T_d57a9_row15_col0\" class=\"data row15 col0\" >192</td>\n",
              "      <td id=\"T_d57a9_row15_col1\" class=\"data row15 col1\" >Gunner Knox</td>\n",
              "    </tr>\n",
              "    <tr>\n",
              "      <th id=\"T_d57a9_level0_row16\" class=\"row_heading level0 row16\" >16</th>\n",
              "      <td id=\"T_d57a9_row16_col0\" class=\"data row16 col0\" >193</td>\n",
              "      <td id=\"T_d57a9_row16_col1\" class=\"data row16 col1\" >Bo Winters</td>\n",
              "    </tr>\n",
              "    <tr>\n",
              "      <th id=\"T_d57a9_level0_row17\" class=\"row_heading level0 row17\" >17</th>\n",
              "      <td id=\"T_d57a9_row17_col0\" class=\"data row17 col0\" >194</td>\n",
              "      <td id=\"T_d57a9_row17_col1\" class=\"data row17 col1\" >Violet Santana</td>\n",
              "    </tr>\n",
              "    <tr>\n",
              "      <th id=\"T_d57a9_level0_row18\" class=\"row_heading level0 row18\" >18</th>\n",
              "      <td id=\"T_d57a9_row18_col0\" class=\"data row18 col0\" >195</td>\n",
              "      <td id=\"T_d57a9_row18_col1\" class=\"data row18 col1\" >Jimmy Whitney</td>\n",
              "    </tr>\n",
              "    <tr>\n",
              "      <th id=\"T_d57a9_level0_row19\" class=\"row_heading level0 row19\" >19</th>\n",
              "      <td id=\"T_d57a9_row19_col0\" class=\"data row19 col0\" >196</td>\n",
              "      <td id=\"T_d57a9_row19_col1\" class=\"data row19 col1\" >Karma Everett</td>\n",
              "    </tr>\n",
              "    <tr>\n",
              "      <th id=\"T_d57a9_level0_row20\" class=\"row_heading level0 row20\" >20</th>\n",
              "      <td id=\"T_d57a9_row20_col0\" class=\"data row20 col0\" >197</td>\n",
              "      <td id=\"T_d57a9_row20_col1\" class=\"data row20 col1\" >Karma Preston</td>\n",
              "    </tr>\n",
              "    <tr>\n",
              "      <th id=\"T_d57a9_level0_row21\" class=\"row_heading level0 row21\" >21</th>\n",
              "      <td id=\"T_d57a9_row21_col0\" class=\"data row21 col0\" >198</td>\n",
              "      <td id=\"T_d57a9_row21_col1\" class=\"data row21 col1\" >Jaden Aguirre</td>\n",
              "    </tr>\n",
              "    <tr>\n",
              "      <th id=\"T_d57a9_level0_row22\" class=\"row_heading level0 row22\" >22</th>\n",
              "      <td id=\"T_d57a9_row22_col0\" class=\"data row22 col0\" >199</td>\n",
              "      <td id=\"T_d57a9_row22_col1\" class=\"data row22 col1\" >Clarence Mclean</td>\n",
              "    </tr>\n",
              "    <tr>\n",
              "      <th id=\"T_d57a9_level0_row23\" class=\"row_heading level0 row23\" >23</th>\n",
              "      <td id=\"T_d57a9_row23_col0\" class=\"data row23 col0\" >200</td>\n",
              "      <td id=\"T_d57a9_row23_col1\" class=\"data row23 col1\" >Abby Vargas</td>\n",
              "    </tr>\n",
              "  </tbody>\n",
              "</table>\n",
              "</div>"
            ]
          },
          "metadata": {}
        },
        {
          "output_type": "stream",
          "name": "stdout",
          "text": [
            "-------------------\n",
            "Your SQL query is correct!\n"
          ]
        }
      ]
    },
    {
      "cell_type": "code",
      "source": [
        "### Question: q3_1_5\n",
        "### Print affiliations for which no learner\n",
        "### has registered for a course in 2020.\n",
        "### Please do not use outer joins for this query.\n",
        "### Output columns: affiliation\n",
        "\n",
        "\n",
        "query = \"\"\"\n",
        "\n",
        "\n",
        "\n",
        "        \"\"\"\n",
        "\n",
        "run(query)\n",
        "check(q3_1_5 = query)"
      ],
      "metadata": {
        "id": "jJBFj-Nbev9l"
      },
      "execution_count": null,
      "outputs": []
    },
    {
      "cell_type": "markdown",
      "source": [
        "# **Part 2: Bonus Questions**\n",
        "\n",
        "We will look at a few more complex queries to make these a bit more of a stretch for you."
      ],
      "metadata": {
        "id": "EwcwjS10bDk3"
      }
    },
    {
      "cell_type": "code",
      "source": [
        "### Question: q3_2_1\n",
        "### Print ids of instructors whose max nps of any course they have facilitated\n",
        "### is smaller than the average nps of all the courses run.\n",
        "###\n",
        "### Hint:\n",
        "### One possible approach is to create a subquery in the from clause.\n",
        "### This subquery gets the average nps and renames it,\n",
        "### so it can be used as a column in the outer query.\n",
        "### This subquery returns one row and one column.\n",
        "### It needs to be joined (using cross join) with other tables.\n",
        "\n",
        "query = \"\"\"\n",
        "\n",
        "\n",
        "        \"\"\"\n",
        "\n",
        "run(query)\n",
        "check(q3_2_1 = query)"
      ],
      "metadata": {
        "id": "ZxsEEwOyfb4f"
      },
      "execution_count": null,
      "outputs": []
    },
    {
      "cell_type": "code",
      "source": [
        "### Question: q3_2_2\n",
        "### Retrieve affiliations of instructors who have collectively taught\n",
        "### all courses in the 'Deep Learning' category.\n",
        "###\n",
        "### Hint:\n",
        "### Note that this allows one instructor from affiliaiton X to teach one course\n",
        "### and another instructor from the same affiliaiton X to teach another course\n",
        "### if there are two courses in the 'Deep Learning' category.\n",
        "### Output columns: affiliation\n",
        "query = \"\"\"\n",
        "\n",
        "        \"\"\"\n",
        "\n",
        "run(query)\n",
        "check(q3_2_2 = query)"
      ],
      "metadata": {
        "id": "-jKa1gXcZ_Pr"
      },
      "execution_count": null,
      "outputs": []
    },
    {
      "cell_type": "code",
      "source": [
        "### Question: q3_2_3\n",
        "### Print the sum of weeks spent on courses by learners and instructors per affiliation.\n",
        "### Output columns: affiliation, sum_in_weeks\n",
        "\n",
        "\n",
        "query = \"\"\"\n",
        "\n",
        "\n",
        "\n",
        "        \"\"\"\n",
        "\n",
        "run(query)\n",
        "check(q3_2_3 = query)"
      ],
      "metadata": {
        "id": "iWsD6hQ7fS6A"
      },
      "execution_count": null,
      "outputs": []
    },
    {
      "cell_type": "markdown",
      "source": [
        "# **Conclusion:**\n",
        "\n",
        "Wow! You are a SQL ninja - get ready to write some serious SQL queries and cause deep impact to your organization. Congratulations!"
      ],
      "metadata": {
        "id": "G9N7hL1WQWty"
      }
    }
  ]
}